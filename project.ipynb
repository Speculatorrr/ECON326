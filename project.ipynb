{
 "cells": [
  {
   "cell_type": "markdown",
   "metadata": {},
   "source": [
    "# The Effect of Tuition Fees and Financial Stress on Academic Performance\n",
    "### Christin Wang, Manan Shah, Shreya Ladva, Samuel Griffin"
   ]
  },
  {
   "cell_type": "code",
   "execution_count": 22,
   "metadata": {
    "vscode": {
     "languageId": "r"
    }
   },
   "outputs": [
    {
     "name": "stderr",
     "output_type": "stream",
     "text": [
      "Warning message:\n",
      "\"正在使用'ggcorrplot'这个程序包，因此不会被安装\"\n",
      "Warning message:\n",
      "\"正在使用'GGally'这个程序包，因此不会被安装\"\n",
      "Warning message:\n",
      "\"正在使用'estimatr'这个程序包，因此不会被安装\"\n",
      "Warning message:\n",
      "\"正在使用'sandwich'这个程序包，因此不会被安装\"\n"
     ]
    }
   ],
   "source": [
    "install.packages(\"ggcorrplot\")\n",
    "install.packages(\"GGally\")\n",
    "install.packages(\"estimatr\")\n",
    "install.packages(\"sandwich\")\n",
    "library(readxl)\n",
    "library(tidyverse)\n",
    "library(haven)\n",
    "library(dplyr)\n",
    "library(scales)\n",
    "library(stargazer)\n",
    "library(car)\n",
    "library(GGally)\n",
    "library(ggplot2)\n",
    "library(ggcorrplot)\n",
    "library(estimatr)\n",
    "library(sandwich)\n",
    "library(stargazer)"
   ]
  },
  {
   "cell_type": "markdown",
   "metadata": {},
   "source": [
    "# 2.Data Preperation"
   ]
  },
  {
   "cell_type": "code",
   "execution_count": 37,
   "metadata": {
    "vscode": {
     "languageId": "r"
    }
   },
   "outputs": [],
   "source": [
    "url <- \"https://raw.githubusercontent.com/Speculatorrr/ECON326/d0e554d0459664e17c4489ca8c08f9e1f0e2406c/Student%20Performance%20Survey%20-%20March%202025.xlsx\"\n",
    "temp_file <- tempfile(fileext = \".xlsx\")\n",
    "download.file(url, temp_file, mode = \"wb\")\n",
    "df_ <- read_excel(temp_file)"
   ]
  },
  {
   "cell_type": "code",
   "execution_count": 38,
   "metadata": {
    "vscode": {
     "languageId": "r"
    }
   },
   "outputs": [],
   "source": [
    "colnames(df_) <- c(\n",
    "    \"GPA_percent\", \"GPA_scale\", \"single_study\", \"all_study\", \"exam_prepare\",\n",
    "    \"course_take\", \"course_preference\", \"AI_use\", \"AI_help\", \"review\",\n",
    "    \"hw\", \"sport\", \"club\", \"volunteer\", \"friend\",\n",
    "    \"family\", \"student\", \"tuition\", \"aid\", \"aid_coverage\",\n",
    "    \"job\", \"work\", \"finance\", \"sleep\", \"media\",\n",
    "    \"screen\", \"anxiety\", \"commute\", \"transport\", \"course_mode\",\n",
    "    \"future_work\",\"future_edu\", \"confidence\", \"career\", \"faculty\", \n",
    "    \"ethnicity\", \"year\")"
   ]
  },
  {
   "cell_type": "markdown",
   "metadata": {},
   "source": [
    "1. `GPA_percent`: What is your current cumulative GPA (on a percentage scale)? Example: 75%  \n",
    "2. `GPA_scale`: What is your current GPA on a 4.0 scale (if known)? Example: 3.51  \n",
    "3. `single_study`: How many hours per week do you study for this course? Example: 9  \n",
    "4. `all_study`: How many total hours per week do you study across all your courses? Example: 21  \n",
    "5. `exam_prepare`: How many hours do you spend preparing for exams (excluding regular coursework)? Example: 8  \n",
    "6. `course_take`: How many courses do you take on average per term? Example: 4  \n",
    "7. `course_preference`: Do you prefer courses that focus more on practical applications or theoretical concepts?  \n",
    "8. `AI_use`: How many hours per week do you use ChatGPT or other LLM or AI tools for studying or assignments? Example: 12  \n",
    "9. `AI_help`: How do you feel AI tools like ChatGPT impact your learning? (5 = Strongly helps, 1 = Strongly harms)  \n",
    "10. `review`: How much time per week do you spend on reviewing lecture slides and course materials? Example: 6  \n",
    "11. `hw`: How much time per week do you spend on assignments, problem sets, and practice exercises? Example: 5  \n",
    "12. `sport`: How many hours per week do you spend on sports or fitness activities? Example: 4  \n",
    "13. `club`: How many hours per week do you spend on student clubs or societies? Example: 5  \n",
    "14. `volunteer`: How many hours per week do you spend on volunteering or community service? Example: 3  \n",
    "15. `friend`: How many hours per week do you spend socializing with friends? Example: 6  \n",
    "16. `family`: How many hours per week do you spend socializing with family (online and in-person together)? Example: 8  \n",
    "17. `student`: Are you an international, domestic, or exchange student? If you are an exchange student, just choose \"Exchange\" below.  \n",
    "18. `tuition`: What is your average tuition fee per course? Example: 3200  \n",
    "19. `aid`: Do you receive any scholarships or financial aid?  \n",
    "20. `aid_coverage`: If you receive scholarships or financial aid, what percentage of your tuition does it cover? Example: 50%. If you do not get a scholarship or financial aid, just enter \"0\".  \n",
    "21. `job`: Do you currently have a job while studying?  \n",
    "22. `work`: How many hours per week do you work? Example: 12. Put \"0\" if you are not working.  \n",
    "23. `finance`: Do you feel that your financial situation affects your academic performance? (5 = Significantly affects, 1 = No impact at all)  \n",
    "24. `sleep`: How many hours of sleep do you get on an average night? Example: 6  \n",
    "25. `media`: How much time do you spend daily on social media (in minutes)? Example: 200  \n",
    "26. `screen`: How much time do you spend daily on screens (computer, phone, TV) for non-academic purposes (in minutes)? Example: 120  \n",
    "27. `anxiety`: How often do you feel depressed or anxious these days? (5 = Very frequently, 1 = Never)  \n",
    "28. `commute`: How long is your commute to campus (one way, in minutes)? Example: 25. If you live on campus, just write the walk time on average in minutes to your classes.  \n",
    "29. `transport`: What is your primary mode of transportation to campus?  \n",
    "30. `course_mode`: Do you prefer taking online courses, in-person courses, or a hybrid of both?\n",
    "30. `future_work`: How often do you think about your future employment or career prospects? (5 = Constantly, 1 = Never)  \n",
    "31. `future_edu`: Do you plan to pursue further education (graduate school, professional certification, etc.)?  \n",
    "32. `confidence`: How confident are you in securing a job related to your field of study after graduation? (5 = Very confident, 1 = Not confident at all)  \n",
    "33. `career`: Which career path are you most likely to pursue after graduation? (Select the option that best matches your current career goal)  \n",
    "34. `faculty`: Which faculty are you in? (Select the faculty that best matches your program of study). Faculty of Arts is very vast so please google or use AI.  \n",
    "35. `ethnicity`: What is your ethnicity?  \n",
    "36. `year`: Which year are you in at your undergraduate program at UBC? (1 = First Year, 5 = Fifth Year or beyond)"
   ]
  },
  {
   "cell_type": "code",
   "execution_count": 75,
   "metadata": {
    "vscode": {
     "languageId": "r"
    }
   },
   "outputs": [
    {
     "data": {
      "text/html": [
       "<table class=\"dataframe\">\n",
       "<caption>A tibble: 6 × 37</caption>\n",
       "<thead>\n",
       "\t<tr><th scope=col>GPA_percent</th><th scope=col>GPA_scale</th><th scope=col>single_study</th><th scope=col>all_study</th><th scope=col>exam_prepare</th><th scope=col>course_take</th><th scope=col>course_preference</th><th scope=col>AI_use</th><th scope=col>AI_help</th><th scope=col>review</th><th scope=col>⋯</th><th scope=col>commute</th><th scope=col>transport</th><th scope=col>course_mode</th><th scope=col>future_work</th><th scope=col>future_edu</th><th scope=col>confidence</th><th scope=col>career</th><th scope=col>faculty</th><th scope=col>ethnicity</th><th scope=col>year</th></tr>\n",
       "\t<tr><th scope=col>&lt;dbl&gt;</th><th scope=col>&lt;dbl&gt;</th><th scope=col>&lt;dbl&gt;</th><th scope=col>&lt;dbl&gt;</th><th scope=col>&lt;dbl&gt;</th><th scope=col>&lt;fct&gt;</th><th scope=col>&lt;fct&gt;</th><th scope=col>&lt;dbl&gt;</th><th scope=col>&lt;dbl&gt;</th><th scope=col>&lt;dbl&gt;</th><th scope=col>⋯</th><th scope=col>&lt;dbl&gt;</th><th scope=col>&lt;fct&gt;</th><th scope=col>&lt;fct&gt;</th><th scope=col>&lt;dbl&gt;</th><th scope=col>&lt;fct&gt;</th><th scope=col>&lt;dbl&gt;</th><th scope=col>&lt;fct&gt;</th><th scope=col>&lt;fct&gt;</th><th scope=col>&lt;fct&gt;</th><th scope=col>&lt;dbl&gt;</th></tr>\n",
       "</thead>\n",
       "<tbody>\n",
       "\t<tr><td>86.0</td><td>3.76</td><td>8</td><td>30</td><td>30</td><td>5</td><td>More practical applications</td><td>1</td><td>5</td><td> 2</td><td>⋯</td><td>25</td><td>Public transit</td><td>Hybrid (mix of both)</td><td>3</td><td>Yes   </td><td>3</td><td>Finance, Banking, or Investment</td><td>Faculty of Arts                                                            </td><td>East Asian </td><td>3</td></tr>\n",
       "\t<tr><td>78.6</td><td>3.38</td><td>1</td><td> 5</td><td> 4</td><td>5</td><td>More practical applications</td><td>2</td><td>5</td><td> 1</td><td>⋯</td><td>20</td><td>Walking       </td><td>Online courses      </td><td>5</td><td>Unsure</td><td>1</td><td>Finance, Banking, or Investment</td><td>Faculty of Commerce and Business Administration (Sauder School of Business)</td><td>East Asian </td><td>3</td></tr>\n",
       "\t<tr><td>74.9</td><td>3.10</td><td>4</td><td>20</td><td>20</td><td>5</td><td>More practical applications</td><td>5</td><td>5</td><td> 5</td><td>⋯</td><td>25</td><td>Public transit</td><td>Hybrid (mix of both)</td><td>5</td><td>No    </td><td>3</td><td>Finance, Banking, or Investment</td><td>Faculty of Arts                                                            </td><td>East Asian </td><td>2</td></tr>\n",
       "\t<tr><td>78.0</td><td>3.50</td><td>7</td><td>35</td><td>20</td><td>5</td><td>More practical applications</td><td>2</td><td>4</td><td>10</td><td>⋯</td><td>25</td><td>Public transit</td><td>In-person courses   </td><td>4</td><td>Yes   </td><td>4</td><td>Finance, Banking, or Investment</td><td>Faculty of Arts                                                            </td><td>White      </td><td>2</td></tr>\n",
       "\t<tr><td>79.4</td><td>3.50</td><td>4</td><td>20</td><td> 8</td><td>4</td><td>More practical applications</td><td>4</td><td>4</td><td> 2</td><td>⋯</td><td> 5</td><td>Biking        </td><td>Hybrid (mix of both)</td><td>5</td><td>No    </td><td>4</td><td>Date Science or AI             </td><td>Faculty of Arts                                                            </td><td>South Asian</td><td>2</td></tr>\n",
       "\t<tr><td>74.0</td><td>3.00</td><td>1</td><td> 4</td><td> 7</td><td>5</td><td>More theoretical concepts  </td><td>1</td><td>4</td><td> 1</td><td>⋯</td><td>90</td><td>Public transit</td><td>Hybrid (mix of both)</td><td>4</td><td>Unsure</td><td>2</td><td>Finance, Banking, or Investment</td><td>Faculty of Arts                                                            </td><td>East Asian </td><td>3</td></tr>\n",
       "</tbody>\n",
       "</table>\n"
      ],
      "text/latex": [
       "A tibble: 6 × 37\n",
       "\\begin{tabular}{lllllllllllllllllllll}\n",
       " GPA\\_percent & GPA\\_scale & single\\_study & all\\_study & exam\\_prepare & course\\_take & course\\_preference & AI\\_use & AI\\_help & review & ⋯ & commute & transport & course\\_mode & future\\_work & future\\_edu & confidence & career & faculty & ethnicity & year\\\\\n",
       " <dbl> & <dbl> & <dbl> & <dbl> & <dbl> & <fct> & <fct> & <dbl> & <dbl> & <dbl> & ⋯ & <dbl> & <fct> & <fct> & <dbl> & <fct> & <dbl> & <fct> & <fct> & <fct> & <dbl>\\\\\n",
       "\\hline\n",
       "\t 86.0 & 3.76 & 8 & 30 & 30 & 5 & More practical applications & 1 & 5 &  2 & ⋯ & 25 & Public transit & Hybrid (mix of both) & 3 & Yes    & 3 & Finance, Banking, or Investment & Faculty of Arts                                                             & East Asian  & 3\\\\\n",
       "\t 78.6 & 3.38 & 1 &  5 &  4 & 5 & More practical applications & 2 & 5 &  1 & ⋯ & 20 & Walking        & Online courses       & 5 & Unsure & 1 & Finance, Banking, or Investment & Faculty of Commerce and Business Administration (Sauder School of Business) & East Asian  & 3\\\\\n",
       "\t 74.9 & 3.10 & 4 & 20 & 20 & 5 & More practical applications & 5 & 5 &  5 & ⋯ & 25 & Public transit & Hybrid (mix of both) & 5 & No     & 3 & Finance, Banking, or Investment & Faculty of Arts                                                             & East Asian  & 2\\\\\n",
       "\t 78.0 & 3.50 & 7 & 35 & 20 & 5 & More practical applications & 2 & 4 & 10 & ⋯ & 25 & Public transit & In-person courses    & 4 & Yes    & 4 & Finance, Banking, or Investment & Faculty of Arts                                                             & White       & 2\\\\\n",
       "\t 79.4 & 3.50 & 4 & 20 &  8 & 4 & More practical applications & 4 & 4 &  2 & ⋯ &  5 & Biking         & Hybrid (mix of both) & 5 & No     & 4 & Date Science or AI              & Faculty of Arts                                                             & South Asian & 2\\\\\n",
       "\t 74.0 & 3.00 & 1 &  4 &  7 & 5 & More theoretical concepts   & 1 & 4 &  1 & ⋯ & 90 & Public transit & Hybrid (mix of both) & 4 & Unsure & 2 & Finance, Banking, or Investment & Faculty of Arts                                                             & East Asian  & 3\\\\\n",
       "\\end{tabular}\n"
      ],
      "text/markdown": [
       "\n",
       "A tibble: 6 × 37\n",
       "\n",
       "| GPA_percent &lt;dbl&gt; | GPA_scale &lt;dbl&gt; | single_study &lt;dbl&gt; | all_study &lt;dbl&gt; | exam_prepare &lt;dbl&gt; | course_take &lt;fct&gt; | course_preference &lt;fct&gt; | AI_use &lt;dbl&gt; | AI_help &lt;dbl&gt; | review &lt;dbl&gt; | ⋯ ⋯ | commute &lt;dbl&gt; | transport &lt;fct&gt; | course_mode &lt;fct&gt; | future_work &lt;dbl&gt; | future_edu &lt;fct&gt; | confidence &lt;dbl&gt; | career &lt;fct&gt; | faculty &lt;fct&gt; | ethnicity &lt;fct&gt; | year &lt;dbl&gt; |\n",
       "|---|---|---|---|---|---|---|---|---|---|---|---|---|---|---|---|---|---|---|---|---|\n",
       "| 86.0 | 3.76 | 8 | 30 | 30 | 5 | More practical applications | 1 | 5 |  2 | ⋯ | 25 | Public transit | Hybrid (mix of both) | 3 | Yes    | 3 | Finance, Banking, or Investment | Faculty of Arts                                                             | East Asian  | 3 |\n",
       "| 78.6 | 3.38 | 1 |  5 |  4 | 5 | More practical applications | 2 | 5 |  1 | ⋯ | 20 | Walking        | Online courses       | 5 | Unsure | 1 | Finance, Banking, or Investment | Faculty of Commerce and Business Administration (Sauder School of Business) | East Asian  | 3 |\n",
       "| 74.9 | 3.10 | 4 | 20 | 20 | 5 | More practical applications | 5 | 5 |  5 | ⋯ | 25 | Public transit | Hybrid (mix of both) | 5 | No     | 3 | Finance, Banking, or Investment | Faculty of Arts                                                             | East Asian  | 2 |\n",
       "| 78.0 | 3.50 | 7 | 35 | 20 | 5 | More practical applications | 2 | 4 | 10 | ⋯ | 25 | Public transit | In-person courses    | 4 | Yes    | 4 | Finance, Banking, or Investment | Faculty of Arts                                                             | White       | 2 |\n",
       "| 79.4 | 3.50 | 4 | 20 |  8 | 4 | More practical applications | 4 | 4 |  2 | ⋯ |  5 | Biking         | Hybrid (mix of both) | 5 | No     | 4 | Date Science or AI              | Faculty of Arts                                                             | South Asian | 2 |\n",
       "| 74.0 | 3.00 | 1 |  4 |  7 | 5 | More theoretical concepts   | 1 | 4 |  1 | ⋯ | 90 | Public transit | Hybrid (mix of both) | 4 | Unsure | 2 | Finance, Banking, or Investment | Faculty of Arts                                                             | East Asian  | 3 |\n",
       "\n"
      ],
      "text/plain": [
       "  GPA_percent GPA_scale single_study all_study exam_prepare course_take\n",
       "1 86.0        3.76      8            30        30           5          \n",
       "2 78.6        3.38      1             5         4           5          \n",
       "3 74.9        3.10      4            20        20           5          \n",
       "4 78.0        3.50      7            35        20           5          \n",
       "5 79.4        3.50      4            20         8           4          \n",
       "6 74.0        3.00      1             4         7           5          \n",
       "  course_preference           AI_use AI_help review ⋯ commute transport     \n",
       "1 More practical applications 1      5        2     ⋯ 25      Public transit\n",
       "2 More practical applications 2      5        1     ⋯ 20      Walking       \n",
       "3 More practical applications 5      5        5     ⋯ 25      Public transit\n",
       "4 More practical applications 2      4       10     ⋯ 25      Public transit\n",
       "5 More practical applications 4      4        2     ⋯  5      Biking        \n",
       "6 More theoretical concepts   1      4        1     ⋯ 90      Public transit\n",
       "  course_mode          future_work future_edu confidence\n",
       "1 Hybrid (mix of both) 3           Yes        3         \n",
       "2 Online courses       5           Unsure     1         \n",
       "3 Hybrid (mix of both) 5           No         3         \n",
       "4 In-person courses    4           Yes        4         \n",
       "5 Hybrid (mix of both) 5           No         4         \n",
       "6 Hybrid (mix of both) 4           Unsure     2         \n",
       "  career                         \n",
       "1 Finance, Banking, or Investment\n",
       "2 Finance, Banking, or Investment\n",
       "3 Finance, Banking, or Investment\n",
       "4 Finance, Banking, or Investment\n",
       "5 Date Science or AI             \n",
       "6 Finance, Banking, or Investment\n",
       "  faculty                                                                    \n",
       "1 Faculty of Arts                                                            \n",
       "2 Faculty of Commerce and Business Administration (Sauder School of Business)\n",
       "3 Faculty of Arts                                                            \n",
       "4 Faculty of Arts                                                            \n",
       "5 Faculty of Arts                                                            \n",
       "6 Faculty of Arts                                                            \n",
       "  ethnicity   year\n",
       "1 East Asian  3   \n",
       "2 East Asian  3   \n",
       "3 East Asian  2   \n",
       "4 White       2   \n",
       "5 South Asian 2   \n",
       "6 East Asian  3   "
      ]
     },
     "metadata": {},
     "output_type": "display_data"
    }
   ],
   "source": [
    "df_$GPA_percent <- as.numeric(gsub(\"%\", \"\", df_$GPA_percent))\n",
    "df_$aid_coverage <- as.numeric(gsub(\"%\", \"\", df_$aid_coverage))\n",
    "\n",
    "df_[, c(1:6, 8:16, 18, 20, 22:28, 31, 33, 37)] <- \n",
    "  lapply(df_[, c(1:6, 8:16, 18, 20, 22:28, 31, 33, 37)], function(x) as.numeric(as.character(x)))\n",
    "\n",
    "df_[] <- lapply(df_, function(x) {\n",
    "  if (is.character(x)) as.factor(x) else x\n",
    "})\n",
    "\n",
    "df_$course_take <- factor(round(df_$course_take))\n",
    "df <- filter(df_,\n",
    "  (student == \"Domestic (Canadian student)\" & tuition >= 300 & tuition <= 1000) | \n",
    "  (student != \"Domestic (Canadian student)\"& tuition <= 10000) ) |>\n",
    "  filter(tuition != 0)\n",
    "df <- drop_na(df)\n",
    "head(df)"
   ]
  },
  {
   "cell_type": "code",
   "execution_count": 40,
   "metadata": {
    "vscode": {
     "languageId": "r"
    }
   },
   "outputs": [],
   "source": [
    "#ggpairs(df[, c(1:6, 8:16, 18, 20, 22:28, 31, 33, 37)] )"
   ]
  },
  {
   "cell_type": "code",
   "execution_count": 41,
   "metadata": {
    "vscode": {
     "languageId": "r"
    }
   },
   "outputs": [],
   "source": [
    "#ggpairs(df)"
   ]
  },
  {
   "cell_type": "code",
   "execution_count": 76,
   "metadata": {
    "vscode": {
     "languageId": "r"
    }
   },
   "outputs": [
    {
     "data": {
      "image/png": "[encoded data removed]",
      "text/plain": [
       "plot without title"
      ]
     },
     "metadata": {
      "image/png": {
       "height": 420,
       "width": 420
      }
     },
     "output_type": "display_data"
    }
   ],
   "source": [
    "numeric_vars <- df[, c(1:5, 8:16, 18, 20, 22:28, 31, 33, 37)]\n",
    "\n",
    "cor_matrix <- cor(numeric_vars, use = \"pairwise.complete.obs\")\n",
    "\n",
    "cor_plot <- ggcorrplot(cor_matrix, hc.order = TRUE, type = \"lower\",\n",
    "           lab = TRUE, lab_size = 2, colors = c(\"blue\", \"white\", \"red\")) \n",
    "\n",
    "\n",
    "cor_plot"
   ]
  },
  {
   "cell_type": "code",
   "execution_count": 77,
   "metadata": {
    "vscode": {
     "languageId": "r"
    }
   },
   "outputs": [
    {
     "data": {
      "text/plain": [
       "  GPA_percent       all_study        tuition    \n",
       " Min.   : 60.00   Min.   : 4.00   Min.   : 350  \n",
       " 1st Qu.: 72.00   1st Qu.:15.00   1st Qu.: 800  \n",
       " Median : 76.65   Median :20.00   Median :4200  \n",
       " Mean   : 77.26   Mean   :20.14   Mean   :3343  \n",
       " 3rd Qu.: 80.90   3rd Qu.:25.00   3rd Qu.:4714  \n",
       " Max.   :100.00   Max.   :60.00   Max.   :7200  "
      ]
     },
     "metadata": {},
     "output_type": "display_data"
    }
   ],
   "source": [
    "key_var <- df[,c(1,4,18)]\n",
    "summary(key_var)"
   ]
  },
  {
   "cell_type": "markdown",
   "metadata": {},
   "source": [
    "# 4.Model Specification\n",
    "## 4.1 Study hours\n",
    "- Variabe of interest: total study hours per week across all courses.\n",
    "- Omitted causal effects:\n",
    "    - Tuition fee, students may study harder due to higher tuition\n",
    "    - Course load\n",
    "    - Sleep hours\n",
    "    - Employment, if a student works more, they may have less time to study\n",
    "    - Study effort (can be controlled by social media hours)\n",
    "    - Psychological factors (controlled by anxiety level)\n",
    "    - Help received (controlled by AI_usage)\n",
    "    \n",
    "- Plausible alternative models: \n",
    "    It isn't clear which study related variables control best for study effort. As previous studies mentioned social media hours would affect study efficiency, alternative specifications may also include exam preperation hours, review hours and homework writing hours. Besides, other than work hours, other activities may also decrease study hours, like club participation, volunteer hours, family and friend socalizing events."
   ]
  },
  {
   "cell_type": "code",
   "execution_count": 78,
   "metadata": {
    "vscode": {
     "languageId": "r"
    }
   },
   "outputs": [
    {
     "data": {
      "image/png": "[encoded data removed]",
      "text/plain": [
       "plot without title"
      ]
     },
     "metadata": {
      "image/png": {
       "height": 420,
       "width": 420
      }
     },
     "output_type": "display_data"
    }
   ],
   "source": [
    "study <- df |>\n",
    "    ggplot(aes(x = all_study, y = GPA_percent, color = course_take))+\n",
    "    geom_point()+\n",
    "    xlab(\"study (hours per week)\") +\n",
    "    ylab(\"GPA (%)\")+\n",
    "    ggtitle(\"Scatter Plot of Study Hours VS GPA Colored Based on Course Load\")\n",
    "study"
   ]
  },
  {
   "cell_type": "markdown",
   "metadata": {},
   "source": [
    "I drew this graph based on course load becuase I think more courses may indicate more study hours."
   ]
  },
  {
   "cell_type": "code",
   "execution_count": 79,
   "metadata": {
    "vscode": {
     "languageId": "r"
    }
   },
   "outputs": [
    {
     "name": "stderr",
     "output_type": "stream",
     "text": [
      "Warning message in meatHC(x, type = type, omega = omega):\n",
      "\"HC1 covariances become (close to) singular if hat values are (close to) 1 as for observation(s) 37\"\n",
      "Warning message in meatHC(x, type = type, omega = omega):\n",
      "\"HC1 covariances become (close to) singular if hat values are (close to) 1 as for observation(s) 37\"\n",
      "Warning message in meatHC(x, type = type, omega = omega):\n",
      "\"HC1 covariances become (close to) singular if hat values are (close to) 1 as for observation(s) 37\"\n",
      "Warning message in meatHC(x, type = type, omega = omega):\n",
      "\"HC1 covariances become (close to) singular if hat values are (close to) 1 as for observation(s) 37\"\n",
      "Warning message in meatHC(x, type = type, omega = omega):\n",
      "\"HC1 covariances become (close to) singular if hat values are (close to) 1 as for observation(s) 37\"\n",
      "Warning message in meatHC(x, type = type, omega = omega):\n",
      "\"HC1 covariances become (close to) singular if hat values are (close to) 1 as for observation(s) 37\"\n"
     ]
    },
    {
     "name": "stdout",
     "output_type": "stream",
     "text": [
      "\n",
      "Comparison of Regression Results\n",
      "==================================================================================\n",
      "                                      Dependent variable:                         \n",
      "             ---------------------------------------------------------------------\n",
      "                                          GPA_percent                             \n",
      "                (1)       (2)       (3)       (4)       (5)       (6)       (7)   \n",
      "----------------------------------------------------------------------------------\n",
      "all_study      0.003    -0.041    -0.042    -0.059    -0.048    -0.030    -0.046  \n",
      "              (0.072)   (0.074)   (0.075)   (0.077)   (0.080)   (0.085)   (0.090) \n",
      "                                                                                  \n",
      "course_take4            -1.268    -1.199    -1.864    -2.348    -2.445    -2.855  \n",
      "                        (3.990)   (3.972)   (3.912)   (3.893)   (3.494)   (3.483) \n",
      "                                                                                  \n",
      "course_take5             1.821     1.894     1.452     0.572     0.014    -0.357  \n",
      "                        (4.127)   (4.175)   (3.996)   (3.948)   (3.690)   (3.674) \n",
      "                                                                                  \n",
      "course_take6           14.962*** 15.016*** 14.261*** 14.545*** 16.539*** 15.957***\n",
      "                        (3.900)   (3.885)   (3.782)   (3.756)   (3.435)   (3.483) \n",
      "                                                                                  \n",
      "sleep                             -0.140    -0.249     0.103    -0.045     0.210  \n",
      "                                  (0.884)   (0.863)   (0.814)   (0.786)   (0.825) \n",
      "                                                                                  \n",
      "work                                        -0.193    -0.164    -0.143    -0.131  \n",
      "                                            (0.194)   (0.192)   (0.184)   (0.180) \n",
      "                                                                                  \n",
      "media                                                 0.005**  0.006***  0.006*** \n",
      "                                                      (0.002)   (0.002)   (0.002) \n",
      "                                                                                  \n",
      "anxiety                                                        -1.582**  -1.689** \n",
      "                                                                (0.776)   (0.763) \n",
      "                                                                                  \n",
      "AI_use                                                                     0.182  \n",
      "                                                                          (0.125) \n",
      "                                                                                  \n",
      "Constant     77.189*** 77.976*** 78.941*** 81.040*** 77.759*** 84.061*** 82.129***\n",
      "              (1.719)   (4.319)   (8.046)   (8.109)   (7.962)   (8.251)   (8.378) \n",
      "                                                                                  \n",
      "----------------------------------------------------------------------------------\n",
      "Observations    90        90        90        90        90        90        90    \n",
      "R2            0.00002    0.079     0.079     0.097     0.135     0.189     0.201  \n",
      "==================================================================================\n",
      "Note:                                                  *p<0.1; **p<0.05; ***p<0.01\n"
     ]
    }
   ],
   "source": [
    "r1a <- lm(GPA_percent ~ all_study, data = df)\n",
    "r2a <- lm(GPA_percent ~ all_study + course_take, data = df)\n",
    "r3a <- lm(GPA_percent ~ all_study + course_take + sleep, data = df)\n",
    "r4a <- lm(GPA_percent ~ all_study + course_take + sleep + work, data = df)\n",
    "r5a <- lm(GPA_percent ~ all_study + course_take + sleep + work + media, data = df)\n",
    "r6a <- lm(GPA_percent ~ all_study + course_take + sleep + work + media + anxiety, data = df)\n",
    "r7a <- lm(GPA_percent ~ all_study + course_take + sleep + work + media + anxiety + AI_use, data = df)\n",
    "\n",
    "se1 <- sqrt(diag(vcovHC(r1a, type=\"HC1\")))\n",
    "se2 <- sqrt(diag(vcovHC(r2a, type=\"HC1\")))\n",
    "se3 <- sqrt(diag(vcovHC(r3a, type=\"HC1\")))\n",
    "se4 <- sqrt(diag(vcovHC(r4a, type=\"HC1\")))\n",
    "se5 <- sqrt(diag(vcovHC(r5a, type=\"HC1\")))\n",
    "se6 <- sqrt(diag(vcovHC(r6a, type=\"HC1\")))\n",
    "se7 <- sqrt(diag(vcovHC(r7a, type=\"HC1\")))\n",
    "\n",
    "ses <- list(se1, se2, se3, se4, se5, se6, se7)\n",
    "\n",
    "stargazer(r1a, r2a, r3a, r4a, r5a, r6a, r7a, \n",
    "          se = ses,\n",
    "          title = \"Comparison of Regression Results\",\n",
    "          align = TRUE, \n",
    "          type = \"text\", \n",
    "          keep.stat = c(\"n\", \"rsq\"))"
   ]
  },
  {
   "cell_type": "code",
   "execution_count": 80,
   "metadata": {
    "vscode": {
     "languageId": "r"
    }
   },
   "outputs": [
    {
     "data": {
      "text/html": [
       "<table class=\"dataframe\">\n",
       "<caption>A matrix: 7 × 3 of type dbl</caption>\n",
       "<thead>\n",
       "\t<tr><th></th><th scope=col>GVIF</th><th scope=col>Df</th><th scope=col>GVIF^(1/(2*Df))</th></tr>\n",
       "</thead>\n",
       "<tbody>\n",
       "\t<tr><th scope=row>all_study</th><td>1.141495</td><td>1</td><td>1.068408</td></tr>\n",
       "\t<tr><th scope=row>course_take</th><td>1.214161</td><td>3</td><td>1.032871</td></tr>\n",
       "\t<tr><th scope=row>sleep</th><td>1.169722</td><td>1</td><td>1.081537</td></tr>\n",
       "\t<tr><th scope=row>work</th><td>1.087463</td><td>1</td><td>1.042815</td></tr>\n",
       "\t<tr><th scope=row>media</th><td>1.105155</td><td>1</td><td>1.051263</td></tr>\n",
       "\t<tr><th scope=row>anxiety</th><td>1.085507</td><td>1</td><td>1.041876</td></tr>\n",
       "\t<tr><th scope=row>AI_use</th><td>1.178177</td><td>1</td><td>1.085439</td></tr>\n",
       "</tbody>\n",
       "</table>\n"
      ],
      "text/latex": [
       "A matrix: 7 × 3 of type dbl\n",
       "\\begin{tabular}{r|lll}\n",
       "  & GVIF & Df & GVIF\\textasciicircum{}(1/(2*Df))\\\\\n",
       "\\hline\n",
       "\tall\\_study & 1.141495 & 1 & 1.068408\\\\\n",
       "\tcourse\\_take & 1.214161 & 3 & 1.032871\\\\\n",
       "\tsleep & 1.169722 & 1 & 1.081537\\\\\n",
       "\twork & 1.087463 & 1 & 1.042815\\\\\n",
       "\tmedia & 1.105155 & 1 & 1.051263\\\\\n",
       "\tanxiety & 1.085507 & 1 & 1.041876\\\\\n",
       "\tAI\\_use & 1.178177 & 1 & 1.085439\\\\\n",
       "\\end{tabular}\n"
      ],
      "text/markdown": [
       "\n",
       "A matrix: 7 × 3 of type dbl\n",
       "\n",
       "| <!--/--> | GVIF | Df | GVIF^(1/(2*Df)) |\n",
       "|---|---|---|---|\n",
       "| all_study | 1.141495 | 1 | 1.068408 |\n",
       "| course_take | 1.214161 | 3 | 1.032871 |\n",
       "| sleep | 1.169722 | 1 | 1.081537 |\n",
       "| work | 1.087463 | 1 | 1.042815 |\n",
       "| media | 1.105155 | 1 | 1.051263 |\n",
       "| anxiety | 1.085507 | 1 | 1.041876 |\n",
       "| AI_use | 1.178177 | 1 | 1.085439 |\n",
       "\n"
      ],
      "text/plain": [
       "            GVIF     Df GVIF^(1/(2*Df))\n",
       "all_study   1.141495 1  1.068408       \n",
       "course_take 1.214161 3  1.032871       \n",
       "sleep       1.169722 1  1.081537       \n",
       "work        1.087463 1  1.042815       \n",
       "media       1.105155 1  1.051263       \n",
       "anxiety     1.085507 1  1.041876       \n",
       "AI_use      1.178177 1  1.085439       "
      ]
     },
     "metadata": {},
     "output_type": "display_data"
    }
   ],
   "source": [
    "vif(r7a)"
   ]
  },
  {
   "cell_type": "markdown",
   "metadata": {},
   "source": [
    "No multicollinarity issues detected by the VIF table."
   ]
  },
  {
   "cell_type": "markdown",
   "metadata": {},
   "source": [
    "## 4.2 Tuition Model"
   ]
  },
  {
   "cell_type": "code",
   "execution_count": 82,
   "metadata": {
    "vscode": {
     "languageId": "r"
    }
   },
   "outputs": [
    {
     "name": "stdout",
     "output_type": "stream",
     "text": [
      "\n",
      "Comparison of Regression Results 2\n",
      "==================================================================================\n",
      "                                      Dependent variable:                         \n",
      "             ---------------------------------------------------------------------\n",
      "                                          GPA_percent                             \n",
      "                (1)       (2)       (3)       (4)       (5)       (6)       (7)   \n",
      "----------------------------------------------------------------------------------\n",
      "tuition       -0.001    -0.0004   -0.0004   -0.0005   -0.0004   -0.0004   -0.0004 \n",
      "             (0.0004)  (0.0004)  (0.0004)  (0.0004)  (0.0004)  (0.0004)  (0.0004) \n",
      "                                                                                  \n",
      "aid_coverage            0.070**   0.071**   0.066*     0.055     0.046     0.039  \n",
      "                        (0.034)   (0.034)   (0.035)   (0.035)   (0.036)   (0.038) \n",
      "                                                                                  \n",
      "finance                            0.166     0.215     0.180     0.454     0.418  \n",
      "                                  (0.541)   (0.542)   (0.535)   (0.502)   (0.512) \n",
      "                                                                                  \n",
      "work                                        -0.155    -0.140    -0.132    -0.124  \n",
      "                                            (0.167)   (0.169)   (0.162)   (0.150) \n",
      "                                                                                  \n",
      "media                                                  0.004    0.005*    0.006** \n",
      "                                                      (0.003)   (0.003)   (0.003) \n",
      "                                                                                  \n",
      "anxiety                                                         -1.355*   -1.418* \n",
      "                                                                (0.810)   (0.818) \n",
      "                                                                                  \n",
      "AI_help                                                                    1.492  \n",
      "                                                                          (0.936) \n",
      "                                                                                  \n",
      "Constant     79.160*** 77.985*** 77.588*** 78.066*** 77.243*** 80.875*** 74.954***\n",
      "              (1.515)   (1.530)   (2.024)   (2.216)   (2.067)   (3.183)   (5.293) \n",
      "                                                                                  \n",
      "----------------------------------------------------------------------------------\n",
      "Observations    90        90        90        90        90        90        90    \n",
      "R2             0.020     0.059     0.060     0.072     0.097     0.134     0.167  \n",
      "==================================================================================\n",
      "Note:                                                  *p<0.1; **p<0.05; ***p<0.01\n"
     ]
    }
   ],
   "source": [
    "r1b <- lm(GPA_percent ~ tuition, data = df)\n",
    "r2b <- lm(GPA_percent ~ tuition + aid_coverage, data = df)\n",
    "r3b <- lm(GPA_percent ~ tuition + aid_coverage + finance, data = df)\n",
    "r4b <- lm(GPA_percent ~ tuition + aid_coverage + finance + work, data = df)\n",
    "r5b <- lm(GPA_percent ~ tuition + aid_coverage + finance + work + media, data = df)\n",
    "r6b <- lm(GPA_percent ~ tuition + aid_coverage + finance + work + media + anxiety, data = df)\n",
    "r7b <- lm(GPA_percent ~ tuition + aid_coverage + finance + work + media + anxiety + AI_help, data = df)\n",
    "\n",
    "se1b <- sqrt(diag(vcovHC(r1b, type=\"HC1\")))\n",
    "se2b <- sqrt(diag(vcovHC(r2b, type=\"HC1\")))\n",
    "se3b <- sqrt(diag(vcovHC(r3b, type=\"HC1\")))\n",
    "se4b <- sqrt(diag(vcovHC(r4b, type=\"HC1\")))\n",
    "se5b <- sqrt(diag(vcovHC(r5b, type=\"HC1\")))\n",
    "se6b <- sqrt(diag(vcovHC(r6b, type=\"HC1\")))\n",
    "se7b <- sqrt(diag(vcovHC(r7b, type=\"HC1\")))\n",
    "\n",
    "sesb <- list(se1b, se2b, se3b, se4b, se5b, se6b, se7b)\n",
    "\n",
    "stargazer(r1b, r2b, r3b, r4b, r5b, r6b, r7b, \n",
    "          se = sesb,\n",
    "          title = \"Comparison of Regression Results 2\",\n",
    "          align = TRUE, \n",
    "          type = \"text\", \n",
    "          keep.stat = c(\"n\", \"rsq\"))"
   ]
  },
  {
   "cell_type": "code",
   "execution_count": 83,
   "metadata": {
    "vscode": {
     "languageId": "r"
    }
   },
   "outputs": [
    {
     "data": {
      "text/html": [
       "<style>\n",
       ".dl-inline {width: auto; margin:0; padding: 0}\n",
       ".dl-inline>dt, .dl-inline>dd {float: none; width: auto; display: inline-block}\n",
       ".dl-inline>dt::after {content: \":\\0020\"; padding-right: .5ex}\n",
       ".dl-inline>dt:not(:first-of-type) {padding-left: .5ex}\n",
       "</style><dl class=dl-inline><dt>tuition</dt><dd>1.14511790769674</dd><dt>aid_coverage</dt><dd>1.14250082947027</dd><dt>finance</dt><dd>1.15439357749902</dd><dt>work</dt><dd>1.04127996755665</dd><dt>media</dt><dd>1.16035377811515</dd><dt>anxiety</dt><dd>1.14419749855569</dd><dt>AI_help</dt><dd>1.10109838047966</dd></dl>\n"
      ],
      "text/latex": [
       "\\begin{description*}\n",
       "\\item[tuition] 1.14511790769674\n",
       "\\item[aid\\textbackslash{}\\_coverage] 1.14250082947027\n",
       "\\item[finance] 1.15439357749902\n",
       "\\item[work] 1.04127996755665\n",
       "\\item[media] 1.16035377811515\n",
       "\\item[anxiety] 1.14419749855569\n",
       "\\item[AI\\textbackslash{}\\_help] 1.10109838047966\n",
       "\\end{description*}\n"
      ],
      "text/markdown": [
       "tuition\n",
       ":   1.14511790769674aid_coverage\n",
       ":   1.14250082947027finance\n",
       ":   1.15439357749902work\n",
       ":   1.04127996755665media\n",
       ":   1.16035377811515anxiety\n",
       ":   1.14419749855569AI_help\n",
       ":   1.10109838047966\n",
       "\n"
      ],
      "text/plain": [
       "     tuition aid_coverage      finance         work        media      anxiety \n",
       "    1.145118     1.142501     1.154394     1.041280     1.160354     1.144197 \n",
       "     AI_help \n",
       "    1.101098 "
      ]
     },
     "metadata": {},
     "output_type": "display_data"
    }
   ],
   "source": [
    "vif(r7b)"
   ]
  },
  {
   "cell_type": "markdown",
   "metadata": {},
   "source": [
    "No multicollinarity issues detected by the VIF table."
   ]
  },
  {
   "cell_type": "code",
   "execution_count": 85,
   "metadata": {
    "vscode": {
     "languageId": "r"
    }
   },
   "outputs": [
    {
     "data": {
      "image/png": "[encoded data removed]",
      "text/plain": [
       "plot without title"
      ]
     },
     "metadata": {
      "image/png": {
       "height": 420,
       "width": 420
      }
     },
     "output_type": "display_data"
    }
   ],
   "source": [
    "ggplot(df, aes(x = tuition, y = GPA_percent)) +\n",
    "  geom_point(color = \"darkgreen\", size = 3) +\n",
    "  ggtitle(\"Scatter Plot of Tuition Fee vs GPA\") +\n",
    "  xlab(\"Tuition Fee\") +\n",
    "  ylab(\"GPA\")"
   ]
  },
  {
   "cell_type": "code",
   "execution_count": null,
   "metadata": {
    "vscode": {
     "languageId": "r"
    }
   },
   "outputs": [],
   "source": []
  }
 ],
 "metadata": {
  "kernelspec": {
   "display_name": "R",
   "language": "R",
   "name": "ir"
  },
  "language_info": {
   "codemirror_mode": "r",
   "file_extension": ".r",
   "mimetype": "text/x-r-source",
   "name": "R",
   "pygments_lexer": "r",
   "version": "4.3.2"
  }
 },
 "nbformat": 4,
 "nbformat_minor": 4
}
