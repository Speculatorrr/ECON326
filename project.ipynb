{
 "cells": [
  {
   "cell_type": "markdown",
   "metadata": {},
   "source": [
    "# The Effect of Tuition Fees and Financial Stress on Academic Performance\n",
    "### Christin Wang, Manan Shah, Shreya Ladva, Samuel Griffin"
   ]
  },
  {
   "cell_type": "code",
   "execution_count": 1,
   "metadata": {
    "vscode": {
     "languageId": "r"
    }
   },
   "outputs": [
    {
     "name": "stderr",
     "output_type": "stream",
     "text": [
      "将程序包安装入'C:/Users/chris/AppData/Local/R/win-library/4.3'\n",
      "(因为'lib'没有被指定)\n",
      "\n"
     ]
    },
    {
     "name": "stdout",
     "output_type": "stream",
     "text": [
      "程序包'ggcorrplot'打开成功，MD5和检查也通过\n",
      "\n",
      "下载的二进制程序包在\n",
      "\tC:\\Users\\chris\\AppData\\Local\\Temp\\Rtmp848GIF\\downloaded_packages里\n"
     ]
    },
    {
     "name": "stderr",
     "output_type": "stream",
     "text": [
      "将程序包安装入'C:/Users/chris/AppData/Local/R/win-library/4.3'\n",
      "(因为'lib'没有被指定)\n",
      "\n"
     ]
    },
    {
     "name": "stdout",
     "output_type": "stream",
     "text": [
      "程序包'GGally'打开成功，MD5和检查也通过\n",
      "\n",
      "下载的二进制程序包在\n",
      "\tC:\\Users\\chris\\AppData\\Local\\Temp\\Rtmp848GIF\\downloaded_packages里\n"
     ]
    },
    {
     "name": "stderr",
     "output_type": "stream",
     "text": [
      "将程序包安装入'C:/Users/chris/AppData/Local/R/win-library/4.3'\n",
      "(因为'lib'没有被指定)\n",
      "\n"
     ]
    },
    {
     "name": "stdout",
     "output_type": "stream",
     "text": [
      "程序包'estimatr'打开成功，MD5和检查也通过\n"
     ]
    },
    {
     "name": "stderr",
     "output_type": "stream",
     "text": [
      "Warning message:\n",
      "\"无法将拆除原来安装的程序包'estimatr'\"\n",
      "Warning message in file.copy(savedcopy, lib, recursive = TRUE):\n",
      "\"拷贝C:\\Users\\chris\\AppData\\Local\\R\\win-library\\4.3\\00LOCK\\estimatr\\libs\\x64\\estimatr.dll到C:\\Users\\chris\\AppData\\Local\\R\\win-library\\4.3\\estimatr\\libs\\x64\\estimatr.dll时出了问题：Permission denied \"\n",
      "Warning message:\n",
      "\"回复了'estimatr'\"\n"
     ]
    },
    {
     "name": "stdout",
     "output_type": "stream",
     "text": [
      "\n",
      "下载的二进制程序包在\n",
      "\tC:\\Users\\chris\\AppData\\Local\\Temp\\Rtmp848GIF\\downloaded_packages里\n"
     ]
    },
    {
     "name": "stderr",
     "output_type": "stream",
     "text": [
      "将程序包安装入'C:/Users/chris/AppData/Local/R/win-library/4.3'\n",
      "(因为'lib'没有被指定)\n",
      "\n"
     ]
    },
    {
     "name": "stdout",
     "output_type": "stream",
     "text": [
      "程序包'sandwich'打开成功，MD5和检查也通过\n",
      "\n",
      "下载的二进制程序包在\n",
      "\tC:\\Users\\chris\\AppData\\Local\\Temp\\Rtmp848GIF\\downloaded_packages里\n"
     ]
    },
    {
     "name": "stderr",
     "output_type": "stream",
     "text": [
      "Warning message:\n",
      "\"程辑包'readxl'是用R版本4.3.3 来建造的\"\n",
      "Warning message:\n",
      "\"程辑包'tidyverse'是用R版本4.3.3 来建造的\"\n",
      "Warning message:\n",
      "\"程辑包'ggplot2'是用R版本4.3.3 来建造的\"\n",
      "Warning message:\n",
      "\"程辑包'forcats'是用R版本4.3.3 来建造的\"\n",
      "Warning message:\n",
      "\"程辑包'lubridate'是用R版本4.3.3 来建造的\"\n",
      "── \u001b[1mAttaching core tidyverse packages\u001b[22m ──────────────────────── tidyverse 2.0.0 ──\n",
      "\u001b[32m✔\u001b[39m \u001b[34mdplyr    \u001b[39m 1.1.3     \u001b[32m✔\u001b[39m \u001b[34mreadr    \u001b[39m 2.1.4\n",
      "\u001b[32m✔\u001b[39m \u001b[34mforcats  \u001b[39m 1.0.0     \u001b[32m✔\u001b[39m \u001b[34mstringr  \u001b[39m 1.5.0\n",
      "\u001b[32m✔\u001b[39m \u001b[34mggplot2  \u001b[39m 3.5.1     \u001b[32m✔\u001b[39m \u001b[34mtibble   \u001b[39m 3.2.1\n",
      "\u001b[32m✔\u001b[39m \u001b[34mlubridate\u001b[39m 1.9.3     \u001b[32m✔\u001b[39m \u001b[34mtidyr    \u001b[39m 1.3.0\n",
      "\u001b[32m✔\u001b[39m \u001b[34mpurrr    \u001b[39m 1.0.2     \n",
      "── \u001b[1mConflicts\u001b[22m ────────────────────────────────────────── tidyverse_conflicts() ──\n",
      "\u001b[31m✖\u001b[39m \u001b[34mdplyr\u001b[39m::\u001b[32mfilter()\u001b[39m masks \u001b[34mstats\u001b[39m::filter()\n",
      "\u001b[31m✖\u001b[39m \u001b[34mdplyr\u001b[39m::\u001b[32mlag()\u001b[39m    masks \u001b[34mstats\u001b[39m::lag()\n",
      "\u001b[36mℹ\u001b[39m Use the conflicted package (\u001b[3m\u001b[34m<http://conflicted.r-lib.org/>\u001b[39m\u001b[23m) to force all conflicts to become errors\n",
      "Warning message:\n",
      "\"程辑包'haven'是用R版本4.3.3 来建造的\"\n",
      "Warning message:\n",
      "\"程辑包'scales'是用R版本4.3.3 来建造的\"\n",
      "\n",
      "载入程辑包：'scales'\n",
      "\n",
      "\n",
      "The following object is masked from 'package:purrr':\n",
      "\n",
      "    discard\n",
      "\n",
      "\n",
      "The following object is masked from 'package:readr':\n",
      "\n",
      "    col_factor\n",
      "\n",
      "\n",
      "\n",
      "Please cite as: \n",
      "\n",
      "\n",
      " Hlavac, Marek (2022). stargazer: Well-Formatted Regression and Summary Statistics Tables.\n",
      "\n",
      " R package version 5.2.3. https://CRAN.R-project.org/package=stargazer \n",
      "\n",
      "\n",
      "Warning message:\n",
      "\"程辑包'car'是用R版本4.3.3 来建造的\"\n",
      "载入需要的程辑包：carData\n",
      "\n",
      "Warning message:\n",
      "\"程辑包'carData'是用R版本4.3.3 来建造的\"\n",
      "\n",
      "载入程辑包：'car'\n",
      "\n",
      "\n",
      "The following object is masked from 'package:dplyr':\n",
      "\n",
      "    recode\n",
      "\n",
      "\n",
      "The following object is masked from 'package:purrr':\n",
      "\n",
      "    some\n",
      "\n",
      "\n",
      "Warning message:\n",
      "\"程辑包'GGally'是用R版本4.3.3 来建造的\"\n",
      "Registered S3 method overwritten by 'GGally':\n",
      "  method from   \n",
      "  +.gg   ggplot2\n",
      "\n",
      "Warning message:\n",
      "\"程辑包'ggcorrplot'是用R版本4.3.3 来建造的\"\n",
      "Warning message:\n",
      "\"程辑包'estimatr'是用R版本4.3.3 来建造的\"\n",
      "Warning message:\n",
      "\"程辑包'sandwich'是用R版本4.3.3 来建造的\"\n"
     ]
    }
   ],
   "source": [
    "install.packages(\"ggcorrplot\")\n",
    "install.packages(\"GGally\")\n",
    "install.packages(\"estimatr\")\n",
    "install.packages(\"sandwich\")\n",
    "library(readxl)\n",
    "library(tidyverse)\n",
    "library(haven)\n",
    "library(dplyr)\n",
    "library(scales)\n",
    "library(stargazer)\n",
    "library(car)\n",
    "library(GGally)\n",
    "library(ggplot2)\n",
    "library(ggcorrplot)\n",
    "library(estimatr)\n",
    "library(sandwich)\n",
    "library(stargazer)"
   ]
  },
  {
   "cell_type": "markdown",
   "metadata": {},
   "source": [
    "# 2.Data Preperation"
   ]
  },
  {
   "cell_type": "code",
   "execution_count": 2,
   "metadata": {
    "vscode": {
     "languageId": "r"
    }
   },
   "outputs": [],
   "source": [
    "url <- \"https://raw.githubusercontent.com/Speculatorrr/ECON326/d0e554d0459664e17c4489ca8c08f9e1f0e2406c/Student%20Performance%20Survey%20-%20March%202025.xlsx\"\n",
    "temp_file <- tempfile(fileext = \".xlsx\")\n",
    "download.file(url, temp_file, mode = \"wb\")\n",
    "df_ <- read_excel(temp_file)"
   ]
  },
  {
   "cell_type": "code",
   "execution_count": 3,
   "metadata": {
    "vscode": {
     "languageId": "r"
    }
   },
   "outputs": [],
   "source": [
    "colnames(df_) <- c(\n",
    "    \"GPA_percent\", \"GPA_scale\", \"single_study\", \"all_study\", \"exam_prepare\",\n",
    "    \"course_take\", \"course_preference\", \"AI_use\", \"AI_help\", \"review\",\n",
    "    \"hw\", \"sport\", \"club\", \"volunteer\", \"friend\",\n",
    "    \"family\", \"student\", \"tuition\", \"aid\", \"aid_coverage\",\n",
    "    \"job\", \"work\", \"finance\", \"sleep\", \"media\",\n",
    "    \"screen\", \"anxiety\", \"commute\", \"transport\", \"course_mode\",\n",
    "    \"future_work\",\"future_edu\", \"confidence\", \"career\", \"faculty\", \n",
    "    \"ethnicity\", \"year\")"
   ]
  },
  {
   "cell_type": "markdown",
   "metadata": {},
   "source": [
    "1. `GPA_percent`: What is your current cumulative GPA (on a percentage scale)? Example: 75%  \n",
    "2. `GPA_scale`: What is your current GPA on a 4.0 scale (if known)? Example: 3.51  \n",
    "3. `single_study`: How many hours per week do you study for this course? Example: 9  \n",
    "4. `all_study`: How many total hours per week do you study across all your courses? Example: 21  \n",
    "5. `exam_prepare`: How many hours do you spend preparing for exams (excluding regular coursework)? Example: 8  \n",
    "6. `course_take`: How many courses do you take on average per term? Example: 4  \n",
    "7. `course_preference`: Do you prefer courses that focus more on practical applications or theoretical concepts?  \n",
    "8. `AI_use`: How many hours per week do you use ChatGPT or other LLM or AI tools for studying or assignments? Example: 12  \n",
    "9. `AI_help`: How do you feel AI tools like ChatGPT impact your learning? (5 = Strongly helps, 1 = Strongly harms)  \n",
    "10. `review`: How much time per week do you spend on reviewing lecture slides and course materials? Example: 6  \n",
    "11. `hw`: How much time per week do you spend on assignments, problem sets, and practice exercises? Example: 5  \n",
    "12. `sport`: How many hours per week do you spend on sports or fitness activities? Example: 4  \n",
    "13. `club`: How many hours per week do you spend on student clubs or societies? Example: 5  \n",
    "14. `volunteer`: How many hours per week do you spend on volunteering or community service? Example: 3  \n",
    "15. `friend`: How many hours per week do you spend socializing with friends? Example: 6  \n",
    "16. `family`: How many hours per week do you spend socializing with family (online and in-person together)? Example: 8  \n",
    "17. `student`: Are you an international, domestic, or exchange student? If you are an exchange student, just choose \"Exchange\" below.  \n",
    "18. `tuition`: What is your average tuition fee per course? Example: 3200  \n",
    "19. `aid`: Do you receive any scholarships or financial aid?  \n",
    "20. `aid_coverage`: If you receive scholarships or financial aid, what percentage of your tuition does it cover? Example: 50%. If you do not get a scholarship or financial aid, just enter \"0\".  \n",
    "21. `job`: Do you currently have a job while studying?  \n",
    "22. `work`: How many hours per week do you work? Example: 12. Put \"0\" if you are not working.  \n",
    "23. `finance`: Do you feel that your financial situation affects your academic performance? (5 = Significantly affects, 1 = No impact at all)  \n",
    "24. `sleep`: How many hours of sleep do you get on an average night? Example: 6  \n",
    "25. `media`: How much time do you spend daily on social media (in minutes)? Example: 200  \n",
    "26. `screen`: How much time do you spend daily on screens (computer, phone, TV) for non-academic purposes (in minutes)? Example: 120  \n",
    "27. `anxiety`: How often do you feel depressed or anxious these days? (5 = Very frequently, 1 = Never)  \n",
    "28. `commute`: How long is your commute to campus (one way, in minutes)? Example: 25. If you live on campus, just write the walk time on average in minutes to your classes.  \n",
    "29. `transport`: What is your primary mode of transportation to campus?  \n",
    "30. `course_mode`: Do you prefer taking online courses, in-person courses, or a hybrid of both?\n",
    "30. `future_work`: How often do you think about your future employment or career prospects? (5 = Constantly, 1 = Never)  \n",
    "31. `future_edu`: Do you plan to pursue further education (graduate school, professional certification, etc.)?  \n",
    "32. `confidence`: How confident are you in securing a job related to your field of study after graduation? (5 = Very confident, 1 = Not confident at all)  \n",
    "33. `career`: Which career path are you most likely to pursue after graduation? (Select the option that best matches your current career goal)  \n",
    "34. `faculty`: Which faculty are you in? (Select the faculty that best matches your program of study). Faculty of Arts is very vast so please google or use AI.  \n",
    "35. `ethnicity`: What is your ethnicity?  \n",
    "36. `year`: Which year are you in at your undergraduate program at UBC? (1 = First Year, 5 = Fifth Year or beyond)"
   ]
  },
  {
   "cell_type": "code",
   "execution_count": 75,
   "metadata": {
    "vscode": {
     "languageId": "r"
    }
   },
   "outputs": [
    {
     "data": {
      "text/html": [
       "<table class=\"dataframe\">\n",
       "<caption>A tibble: 6 × 37</caption>\n",
       "<thead>\n",
       "\t<tr><th scope=col>GPA_percent</th><th scope=col>GPA_scale</th><th scope=col>single_study</th><th scope=col>all_study</th><th scope=col>exam_prepare</th><th scope=col>course_take</th><th scope=col>course_preference</th><th scope=col>AI_use</th><th scope=col>AI_help</th><th scope=col>review</th><th scope=col>⋯</th><th scope=col>commute</th><th scope=col>transport</th><th scope=col>course_mode</th><th scope=col>future_work</th><th scope=col>future_edu</th><th scope=col>confidence</th><th scope=col>career</th><th scope=col>faculty</th><th scope=col>ethnicity</th><th scope=col>year</th></tr>\n",
       "\t<tr><th scope=col>&lt;dbl&gt;</th><th scope=col>&lt;dbl&gt;</th><th scope=col>&lt;dbl&gt;</th><th scope=col>&lt;dbl&gt;</th><th scope=col>&lt;dbl&gt;</th><th scope=col>&lt;fct&gt;</th><th scope=col>&lt;fct&gt;</th><th scope=col>&lt;dbl&gt;</th><th scope=col>&lt;dbl&gt;</th><th scope=col>&lt;dbl&gt;</th><th scope=col>⋯</th><th scope=col>&lt;dbl&gt;</th><th scope=col>&lt;fct&gt;</th><th scope=col>&lt;fct&gt;</th><th scope=col>&lt;dbl&gt;</th><th scope=col>&lt;fct&gt;</th><th scope=col>&lt;dbl&gt;</th><th scope=col>&lt;fct&gt;</th><th scope=col>&lt;fct&gt;</th><th scope=col>&lt;fct&gt;</th><th scope=col>&lt;dbl&gt;</th></tr>\n",
       "</thead>\n",
       "<tbody>\n",
       "\t<tr><td>86.0</td><td>3.76</td><td>8</td><td>30</td><td>30</td><td>5</td><td>More practical applications</td><td>1</td><td>5</td><td> 2</td><td>⋯</td><td>25</td><td>Public transit</td><td>Hybrid (mix of both)</td><td>3</td><td>Yes   </td><td>3</td><td>Finance, Banking, or Investment</td><td>Faculty of Arts                                                            </td><td>East Asian </td><td>3</td></tr>\n",
       "\t<tr><td>78.6</td><td>3.38</td><td>1</td><td> 5</td><td> 4</td><td>5</td><td>More practical applications</td><td>2</td><td>5</td><td> 1</td><td>⋯</td><td>20</td><td>Walking       </td><td>Online courses      </td><td>5</td><td>Unsure</td><td>1</td><td>Finance, Banking, or Investment</td><td>Faculty of Commerce and Business Administration (Sauder School of Business)</td><td>East Asian </td><td>3</td></tr>\n",
       "\t<tr><td>74.9</td><td>3.10</td><td>4</td><td>20</td><td>20</td><td>5</td><td>More practical applications</td><td>5</td><td>5</td><td> 5</td><td>⋯</td><td>25</td><td>Public transit</td><td>Hybrid (mix of both)</td><td>5</td><td>No    </td><td>3</td><td>Finance, Banking, or Investment</td><td>Faculty of Arts                                                            </td><td>East Asian </td><td>2</td></tr>\n",
       "\t<tr><td>78.0</td><td>3.50</td><td>7</td><td>35</td><td>20</td><td>5</td><td>More practical applications</td><td>2</td><td>4</td><td>10</td><td>⋯</td><td>25</td><td>Public transit</td><td>In-person courses   </td><td>4</td><td>Yes   </td><td>4</td><td>Finance, Banking, or Investment</td><td>Faculty of Arts                                                            </td><td>White      </td><td>2</td></tr>\n",
       "\t<tr><td>79.4</td><td>3.50</td><td>4</td><td>20</td><td> 8</td><td>4</td><td>More practical applications</td><td>4</td><td>4</td><td> 2</td><td>⋯</td><td> 5</td><td>Biking        </td><td>Hybrid (mix of both)</td><td>5</td><td>No    </td><td>4</td><td>Date Science or AI             </td><td>Faculty of Arts                                                            </td><td>South Asian</td><td>2</td></tr>\n",
       "\t<tr><td>74.0</td><td>3.00</td><td>1</td><td> 4</td><td> 7</td><td>5</td><td>More theoretical concepts  </td><td>1</td><td>4</td><td> 1</td><td>⋯</td><td>90</td><td>Public transit</td><td>Hybrid (mix of both)</td><td>4</td><td>Unsure</td><td>2</td><td>Finance, Banking, or Investment</td><td>Faculty of Arts                                                            </td><td>East Asian </td><td>3</td></tr>\n",
       "</tbody>\n",
       "</table>\n"
      ],
      "text/latex": [
       "A tibble: 6 × 37\n",
       "\\begin{tabular}{lllllllllllllllllllll}\n",
       " GPA\\_percent & GPA\\_scale & single\\_study & all\\_study & exam\\_prepare & course\\_take & course\\_preference & AI\\_use & AI\\_help & review & ⋯ & commute & transport & course\\_mode & future\\_work & future\\_edu & confidence & career & faculty & ethnicity & year\\\\\n",
       " <dbl> & <dbl> & <dbl> & <dbl> & <dbl> & <fct> & <fct> & <dbl> & <dbl> & <dbl> & ⋯ & <dbl> & <fct> & <fct> & <dbl> & <fct> & <dbl> & <fct> & <fct> & <fct> & <dbl>\\\\\n",
       "\\hline\n",
       "\t 86.0 & 3.76 & 8 & 30 & 30 & 5 & More practical applications & 1 & 5 &  2 & ⋯ & 25 & Public transit & Hybrid (mix of both) & 3 & Yes    & 3 & Finance, Banking, or Investment & Faculty of Arts                                                             & East Asian  & 3\\\\\n",
       "\t 78.6 & 3.38 & 1 &  5 &  4 & 5 & More practical applications & 2 & 5 &  1 & ⋯ & 20 & Walking        & Online courses       & 5 & Unsure & 1 & Finance, Banking, or Investment & Faculty of Commerce and Business Administration (Sauder School of Business) & East Asian  & 3\\\\\n",
       "\t 74.9 & 3.10 & 4 & 20 & 20 & 5 & More practical applications & 5 & 5 &  5 & ⋯ & 25 & Public transit & Hybrid (mix of both) & 5 & No     & 3 & Finance, Banking, or Investment & Faculty of Arts                                                             & East Asian  & 2\\\\\n",
       "\t 78.0 & 3.50 & 7 & 35 & 20 & 5 & More practical applications & 2 & 4 & 10 & ⋯ & 25 & Public transit & In-person courses    & 4 & Yes    & 4 & Finance, Banking, or Investment & Faculty of Arts                                                             & White       & 2\\\\\n",
       "\t 79.4 & 3.50 & 4 & 20 &  8 & 4 & More practical applications & 4 & 4 &  2 & ⋯ &  5 & Biking         & Hybrid (mix of both) & 5 & No     & 4 & Date Science or AI              & Faculty of Arts                                                             & South Asian & 2\\\\\n",
       "\t 74.0 & 3.00 & 1 &  4 &  7 & 5 & More theoretical concepts   & 1 & 4 &  1 & ⋯ & 90 & Public transit & Hybrid (mix of both) & 4 & Unsure & 2 & Finance, Banking, or Investment & Faculty of Arts                                                             & East Asian  & 3\\\\\n",
       "\\end{tabular}\n"
      ],
      "text/markdown": [
       "\n",
       "A tibble: 6 × 37\n",
       "\n",
       "| GPA_percent &lt;dbl&gt; | GPA_scale &lt;dbl&gt; | single_study &lt;dbl&gt; | all_study &lt;dbl&gt; | exam_prepare &lt;dbl&gt; | course_take &lt;fct&gt; | course_preference &lt;fct&gt; | AI_use &lt;dbl&gt; | AI_help &lt;dbl&gt; | review &lt;dbl&gt; | ⋯ ⋯ | commute &lt;dbl&gt; | transport &lt;fct&gt; | course_mode &lt;fct&gt; | future_work &lt;dbl&gt; | future_edu &lt;fct&gt; | confidence &lt;dbl&gt; | career &lt;fct&gt; | faculty &lt;fct&gt; | ethnicity &lt;fct&gt; | year &lt;dbl&gt; |\n",
       "|---|---|---|---|---|---|---|---|---|---|---|---|---|---|---|---|---|---|---|---|---|\n",
       "| 86.0 | 3.76 | 8 | 30 | 30 | 5 | More practical applications | 1 | 5 |  2 | ⋯ | 25 | Public transit | Hybrid (mix of both) | 3 | Yes    | 3 | Finance, Banking, or Investment | Faculty of Arts                                                             | East Asian  | 3 |\n",
       "| 78.6 | 3.38 | 1 |  5 |  4 | 5 | More practical applications | 2 | 5 |  1 | ⋯ | 20 | Walking        | Online courses       | 5 | Unsure | 1 | Finance, Banking, or Investment | Faculty of Commerce and Business Administration (Sauder School of Business) | East Asian  | 3 |\n",
       "| 74.9 | 3.10 | 4 | 20 | 20 | 5 | More practical applications | 5 | 5 |  5 | ⋯ | 25 | Public transit | Hybrid (mix of both) | 5 | No     | 3 | Finance, Banking, or Investment | Faculty of Arts                                                             | East Asian  | 2 |\n",
       "| 78.0 | 3.50 | 7 | 35 | 20 | 5 | More practical applications | 2 | 4 | 10 | ⋯ | 25 | Public transit | In-person courses    | 4 | Yes    | 4 | Finance, Banking, or Investment | Faculty of Arts                                                             | White       | 2 |\n",
       "| 79.4 | 3.50 | 4 | 20 |  8 | 4 | More practical applications | 4 | 4 |  2 | ⋯ |  5 | Biking         | Hybrid (mix of both) | 5 | No     | 4 | Date Science or AI              | Faculty of Arts                                                             | South Asian | 2 |\n",
       "| 74.0 | 3.00 | 1 |  4 |  7 | 5 | More theoretical concepts   | 1 | 4 |  1 | ⋯ | 90 | Public transit | Hybrid (mix of both) | 4 | Unsure | 2 | Finance, Banking, or Investment | Faculty of Arts                                                             | East Asian  | 3 |\n",
       "\n"
      ],
      "text/plain": [
       "  GPA_percent GPA_scale single_study all_study exam_prepare course_take\n",
       "1 86.0        3.76      8            30        30           5          \n",
       "2 78.6        3.38      1             5         4           5          \n",
       "3 74.9        3.10      4            20        20           5          \n",
       "4 78.0        3.50      7            35        20           5          \n",
       "5 79.4        3.50      4            20         8           4          \n",
       "6 74.0        3.00      1             4         7           5          \n",
       "  course_preference           AI_use AI_help review ⋯ commute transport     \n",
       "1 More practical applications 1      5        2     ⋯ 25      Public transit\n",
       "2 More practical applications 2      5        1     ⋯ 20      Walking       \n",
       "3 More practical applications 5      5        5     ⋯ 25      Public transit\n",
       "4 More practical applications 2      4       10     ⋯ 25      Public transit\n",
       "5 More practical applications 4      4        2     ⋯  5      Biking        \n",
       "6 More theoretical concepts   1      4        1     ⋯ 90      Public transit\n",
       "  course_mode          future_work future_edu confidence\n",
       "1 Hybrid (mix of both) 3           Yes        3         \n",
       "2 Online courses       5           Unsure     1         \n",
       "3 Hybrid (mix of both) 5           No         3         \n",
       "4 In-person courses    4           Yes        4         \n",
       "5 Hybrid (mix of both) 5           No         4         \n",
       "6 Hybrid (mix of both) 4           Unsure     2         \n",
       "  career                         \n",
       "1 Finance, Banking, or Investment\n",
       "2 Finance, Banking, or Investment\n",
       "3 Finance, Banking, or Investment\n",
       "4 Finance, Banking, or Investment\n",
       "5 Date Science or AI             \n",
       "6 Finance, Banking, or Investment\n",
       "  faculty                                                                    \n",
       "1 Faculty of Arts                                                            \n",
       "2 Faculty of Commerce and Business Administration (Sauder School of Business)\n",
       "3 Faculty of Arts                                                            \n",
       "4 Faculty of Arts                                                            \n",
       "5 Faculty of Arts                                                            \n",
       "6 Faculty of Arts                                                            \n",
       "  ethnicity   year\n",
       "1 East Asian  3   \n",
       "2 East Asian  3   \n",
       "3 East Asian  2   \n",
       "4 White       2   \n",
       "5 South Asian 2   \n",
       "6 East Asian  3   "
      ]
     },
     "metadata": {},
     "output_type": "display_data"
    }
   ],
   "source": [
    "df_$GPA_percent <- as.numeric(gsub(\"%\", \"\", df_$GPA_percent))\n",
    "df_$aid_coverage <- as.numeric(gsub(\"%\", \"\", df_$aid_coverage))\n",
    "\n",
    "df_[, c(1:6, 8:16, 18, 20, 22:28, 31, 33, 37)] <- \n",
    "  lapply(df_[, c(1:6, 8:16, 18, 20, 22:28, 31, 33, 37)], function(x) as.numeric(as.character(x)))\n",
    "\n",
    "df_[] <- lapply(df_, function(x) {\n",
    "  if (is.character(x)) as.factor(x) else x\n",
    "})\n",
    "\n",
    "df_$course_take <- factor(round(df_$course_take))\n",
    "df <- filter(df_,\n",
    "  (student == \"Domestic (Canadian student)\" & tuition >= 300 & tuition <= 1000) | \n",
    "  (student != \"Domestic (Canadian student)\"& tuition <= 10000) ) |>\n",
    "  filter(tuition != 0)\n",
    "df <- drop_na(df)\n",
    "df <- df[-37,] #drop the only 6 course person\n",
    "head(df)"
   ]
  },
  {
   "cell_type": "code",
   "execution_count": 76,
   "metadata": {
    "vscode": {
     "languageId": "r"
    }
   },
   "outputs": [],
   "source": [
    "#ggpairs(df[, c(1:6, 8:16, 18, 20, 22:28, 31, 33, 37)] )"
   ]
  },
  {
   "cell_type": "code",
   "execution_count": 77,
   "metadata": {
    "vscode": {
     "languageId": "r"
    }
   },
   "outputs": [],
   "source": [
    "#ggpairs(df)"
   ]
  },
  {
   "cell_type": "code",
   "execution_count": 78,
   "metadata": {
    "vscode": {
     "languageId": "r"
    }
   },
   "outputs": [
    {
     "data": {
      "image/png": "[encoded data removed]",
      "text/plain": [
       "plot without title"
      ]
     },
     "metadata": {
      "image/png": {
       "height": 420,
       "width": 420
      }
     },
     "output_type": "display_data"
    }
   ],
   "source": [
    "numeric_vars <- df[, c(1:5, 8:16, 18, 20, 22:28, 31, 33, 37)]\n",
    "\n",
    "cor_matrix <- cor(numeric_vars, use = \"pairwise.complete.obs\")\n",
    "\n",
    "cor_plot <- ggcorrplot(cor_matrix, hc.order = TRUE, type = \"lower\",\n",
    "           lab = TRUE, lab_size = 2, colors = c(\"blue\", \"white\", \"red\")) \n",
    "\n",
    "\n",
    "cor_plot"
   ]
  },
  {
   "cell_type": "code",
   "execution_count": 79,
   "metadata": {
    "vscode": {
     "languageId": "r"
    }
   },
   "outputs": [
    {
     "data": {
      "text/plain": [
       "  GPA_percent      all_study        tuition    \n",
       " Min.   : 60.0   Min.   : 4.00   Min.   : 350  \n",
       " 1st Qu.: 72.0   1st Qu.:15.00   1st Qu.: 800  \n",
       " Median : 76.5   Median :20.00   Median :4200  \n",
       " Mean   : 77.1   Mean   :19.98   Mean   :3329  \n",
       " 3rd Qu.: 80.6   3rd Qu.:25.00   3rd Qu.:4719  \n",
       " Max.   :100.0   Max.   :60.00   Max.   :7200  "
      ]
     },
     "metadata": {},
     "output_type": "display_data"
    }
   ],
   "source": [
    "key_var <- df[,c(1,4,18)]\n",
    "summary(key_var)"
   ]
  },
  {
   "cell_type": "markdown",
   "metadata": {},
   "source": [
    "# 4.Model Specification\n",
    "## 4.1 Study hours\n",
    "- Variabe of interest: total study hours per week across all courses.\n",
    "- Omitted causal effects:\n",
    "    - Tuition fee, students may study harder due to higher tuition\n",
    "    - Course load\n",
    "    - Sleep hours\n",
    "    - Employment, if a student works more, they may have less time to study\n",
    "    - Study effort (can be controlled by social media hours)\n",
    "    - Psychological factors (controlled by anxiety level）\n",
    "    \n",
    "- Plausible alternative models: \n",
    "    It isn't clear which study related variables control best for study effort. As previous studies mentioned social media hours would affect study efficiency, alternative specifications may also include exam preperation hours, review hours and homework writing hours. Besides, other than work hours, other activities may also decrease study hours, like club participation, volunteer hours, family and friend socalizing events."
   ]
  },
  {
   "cell_type": "code",
   "execution_count": 80,
   "metadata": {
    "vscode": {
     "languageId": "r"
    }
   },
   "outputs": [
    {
     "data": {
      "image/png": "[encoded data removed]",
      "text/plain": [
       "plot without title"
      ]
     },
     "metadata": {
      "image/png": {
       "height": 420,
       "width": 420
      }
     },
     "output_type": "display_data"
    }
   ],
   "source": [
    "study <- df |>\n",
    "    ggplot(aes(x = all_study, y = GPA_percent, color = course_take))+\n",
    "    geom_point()+\n",
    "    xlab(\"study (hours per week)\") +\n",
    "    ylab(\"GPA (%)\")+\n",
    "    ggtitle(\"Scatter Plot of Study Hours VS GPA Colored Based on Course Load\")\n",
    "study"
   ]
  },
  {
   "cell_type": "markdown",
   "metadata": {},
   "source": [
    "I drew this graph based on course load becuase I think more courses may indicate more study hours."
   ]
  },
  {
   "cell_type": "code",
   "execution_count": 81,
   "metadata": {
    "vscode": {
     "languageId": "r"
    }
   },
   "outputs": [
    {
     "name": "stdout",
     "output_type": "stream",
     "text": [
      "\n",
      "Comparison of Regression Results\n",
      "========================================================================\n",
      "                                 Dependent variable:                    \n",
      "             -----------------------------------------------------------\n",
      "                                     GPA_percent                        \n",
      "                (1)       (2)       (3)       (4)       (5)       (6)   \n",
      "------------------------------------------------------------------------\n",
      "all_study     -0.022    -0.041    -0.042    -0.059    -0.048    -0.030  \n",
      "              (0.071)   (0.073)   (0.074)   (0.076)   (0.080)   (0.085) \n",
      "                                                                        \n",
      "course_take4            -1.268    -1.199    -1.864    -2.348    -2.445  \n",
      "                        (3.968)   (3.950)   (3.890)   (3.871)   (3.475) \n",
      "                                                                        \n",
      "course_take5             1.821     1.894     1.452     0.572     0.014  \n",
      "                        (4.104)   (4.152)   (3.974)   (3.926)   (3.669) \n",
      "                                                                        \n",
      "sleep                             -0.140    -0.249     0.103    -0.045  \n",
      "                                  (0.879)   (0.858)   (0.809)   (0.781) \n",
      "                                                                        \n",
      "work                                        -0.193    -0.164    -0.143  \n",
      "                                            (0.193)   (0.191)   (0.183) \n",
      "                                                                        \n",
      "media                                                 0.005**  0.006*** \n",
      "                                                      (0.002)   (0.002) \n",
      "                                                                        \n",
      "anxiety                                                        -1.582** \n",
      "                                                                (0.772) \n",
      "                                                                        \n",
      "Constant     77.534*** 77.976*** 78.941*** 81.040*** 77.759*** 84.061***\n",
      "              (1.722)   (4.295)   (8.001)   (8.064)   (7.917)   (8.205) \n",
      "                                                                        \n",
      "------------------------------------------------------------------------\n",
      "Observations    89        89        89        89        89        89    \n",
      "R2             0.001     0.039     0.040     0.058     0.098     0.154  \n",
      "========================================================================\n",
      "Note:                                        *p<0.1; **p<0.05; ***p<0.01\n"
     ]
    }
   ],
   "source": [
    "r1a <- lm(GPA_percent ~ all_study, data = df)\n",
    "r2a <- lm(GPA_percent ~ all_study + course_take, data = df)\n",
    "r3a <- lm(GPA_percent ~ all_study + course_take + sleep, data = df)\n",
    "r4a <- lm(GPA_percent ~ all_study + course_take + sleep + work, data = df)\n",
    "r5a <- lm(GPA_percent ~ all_study + course_take + sleep + work + media, data = df)\n",
    "r6a <- lm(GPA_percent ~ all_study + course_take + sleep + work + media + anxiety, data = df)\n",
    "\n",
    "se1 <- sqrt(diag(vcovHC(r1a, type=\"HC1\")))\n",
    "se2 <- sqrt(diag(vcovHC(r2a, type=\"HC1\")))\n",
    "se3 <- sqrt(diag(vcovHC(r3a, type=\"HC1\")))\n",
    "se4 <- sqrt(diag(vcovHC(r4a, type=\"HC1\")))\n",
    "se5 <- sqrt(diag(vcovHC(r5a, type=\"HC1\")))\n",
    "se6 <- sqrt(diag(vcovHC(r6a, type=\"HC1\")))\n",
    "\n",
    "ses <- list(se1, se2, se3, se4, se5, se6)\n",
    "\n",
    "stargazer(r1a, r2a, r3a, r4a, r5a, r6a, \n",
    "          se = ses,\n",
    "          title = \"Comparison of Regression Results\",\n",
    "          align = TRUE, \n",
    "          type = \"text\", \n",
    "          keep.stat = c(\"n\", \"rsq\"))"
   ]
  },
  {
   "cell_type": "code",
   "execution_count": 82,
   "metadata": {
    "vscode": {
     "languageId": "r"
    }
   },
   "outputs": [
    {
     "data": {
      "text/html": [
       "<table class=\"dataframe\">\n",
       "<caption>A matrix: 6 × 3 of type dbl</caption>\n",
       "<thead>\n",
       "\t<tr><th></th><th scope=col>GVIF</th><th scope=col>Df</th><th scope=col>GVIF^(1/(2*Df))</th></tr>\n",
       "</thead>\n",
       "<tbody>\n",
       "\t<tr><th scope=row>all_study</th><td>1.074096</td><td>1</td><td>1.036386</td></tr>\n",
       "\t<tr><th scope=row>course_take</th><td>1.136682</td><td>2</td><td>1.032547</td></tr>\n",
       "\t<tr><th scope=row>sleep</th><td>1.094033</td><td>1</td><td>1.045960</td></tr>\n",
       "\t<tr><th scope=row>work</th><td>1.079132</td><td>1</td><td>1.038813</td></tr>\n",
       "\t<tr><th scope=row>media</th><td>1.080272</td><td>1</td><td>1.039361</td></tr>\n",
       "\t<tr><th scope=row>anxiety</th><td>1.041218</td><td>1</td><td>1.020401</td></tr>\n",
       "</tbody>\n",
       "</table>\n"
      ],
      "text/latex": [
       "A matrix: 6 × 3 of type dbl\n",
       "\\begin{tabular}{r|lll}\n",
       "  & GVIF & Df & GVIF\\textasciicircum{}(1/(2*Df))\\\\\n",
       "\\hline\n",
       "\tall\\_study & 1.074096 & 1 & 1.036386\\\\\n",
       "\tcourse\\_take & 1.136682 & 2 & 1.032547\\\\\n",
       "\tsleep & 1.094033 & 1 & 1.045960\\\\\n",
       "\twork & 1.079132 & 1 & 1.038813\\\\\n",
       "\tmedia & 1.080272 & 1 & 1.039361\\\\\n",
       "\tanxiety & 1.041218 & 1 & 1.020401\\\\\n",
       "\\end{tabular}\n"
      ],
      "text/markdown": [
       "\n",
       "A matrix: 6 × 3 of type dbl\n",
       "\n",
       "| <!--/--> | GVIF | Df | GVIF^(1/(2*Df)) |\n",
       "|---|---|---|---|\n",
       "| all_study | 1.074096 | 1 | 1.036386 |\n",
       "| course_take | 1.136682 | 2 | 1.032547 |\n",
       "| sleep | 1.094033 | 1 | 1.045960 |\n",
       "| work | 1.079132 | 1 | 1.038813 |\n",
       "| media | 1.080272 | 1 | 1.039361 |\n",
       "| anxiety | 1.041218 | 1 | 1.020401 |\n",
       "\n"
      ],
      "text/plain": [
       "            GVIF     Df GVIF^(1/(2*Df))\n",
       "all_study   1.074096 1  1.036386       \n",
       "course_take 1.136682 2  1.032547       \n",
       "sleep       1.094033 1  1.045960       \n",
       "work        1.079132 1  1.038813       \n",
       "media       1.080272 1  1.039361       \n",
       "anxiety     1.041218 1  1.020401       "
      ]
     },
     "metadata": {},
     "output_type": "display_data"
    }
   ],
   "source": [
    "vif(r6a)"
   ]
  },
  {
   "cell_type": "markdown",
   "metadata": {},
   "source": [
    "No multicollinarity issues detected by the VIF table."
   ]
  },
  {
   "cell_type": "markdown",
   "metadata": {},
   "source": [
    "## 4.2 Tuition Model"
   ]
  },
  {
   "cell_type": "code",
   "execution_count": 84,
   "metadata": {
    "vscode": {
     "languageId": "r"
    }
   },
   "outputs": [
    {
     "name": "stdout",
     "output_type": "stream",
     "text": [
      "\n",
      "Comparison of Regression Results 2\n",
      "========================================================================\n",
      "                                 Dependent variable:                    \n",
      "             -----------------------------------------------------------\n",
      "                                     GPA_percent                        \n",
      "                (1)       (2)       (3)       (4)       (5)       (6)   \n",
      "------------------------------------------------------------------------\n",
      "tuition       -0.001    -0.0004   -0.0005   -0.001    -0.0005   -0.0004 \n",
      "             (0.0004)  (0.0004)  (0.0004)  (0.0004)  (0.0004)  (0.0004) \n",
      "                                                                        \n",
      "aid_coverage            0.072**   0.072**   0.068*     0.056     0.045  \n",
      "                        (0.033)   (0.034)   (0.035)   (0.035)   (0.036) \n",
      "                                                                        \n",
      "finance                            0.008     0.056     0.009     0.303  \n",
      "                                  (0.527)   (0.527)   (0.518)   (0.489) \n",
      "                                                                        \n",
      "work                                        -0.139    -0.121    -0.111  \n",
      "                                            (0.167)   (0.170)   (0.162) \n",
      "                                                                        \n",
      "media                                                 0.005*    0.005** \n",
      "                                                      (0.003)   (0.002) \n",
      "                                                                        \n",
      "anxiety                                                         -1.538* \n",
      "                                                                (0.793) \n",
      "                                                                        \n",
      "Constant     79.196*** 77.988*** 77.970*** 78.387*** 77.509*** 81.659***\n",
      "              (1.514)   (1.526)   (2.011)   (2.208)   (2.062)   (3.125) \n",
      "                                                                        \n",
      "------------------------------------------------------------------------\n",
      "Observations    89        89        89        89        89        89    \n",
      "R2             0.026     0.069     0.069     0.079     0.109     0.158  \n",
      "========================================================================\n",
      "Note:                                        *p<0.1; **p<0.05; ***p<0.01\n"
     ]
    }
   ],
   "source": [
    "r1b <- lm(GPA_percent ~ tuition, data = df)\n",
    "r2b <- lm(GPA_percent ~ tuition + aid_coverage, data = df)\n",
    "r3b <- lm(GPA_percent ~ tuition + aid_coverage + finance, data = df)\n",
    "r4b <- lm(GPA_percent ~ tuition + aid_coverage + finance + work, data = df)\n",
    "r5b <- lm(GPA_percent ~ tuition + aid_coverage + finance + work + media, data = df)\n",
    "r6b <- lm(GPA_percent ~ tuition + aid_coverage + finance + work + media + anxiety, data = df)\n",
    "\n",
    "se1b <- sqrt(diag(vcovHC(r1b, type=\"HC1\")))\n",
    "se2b <- sqrt(diag(vcovHC(r2b, type=\"HC1\")))\n",
    "se3b <- sqrt(diag(vcovHC(r3b, type=\"HC1\")))\n",
    "se4b <- sqrt(diag(vcovHC(r4b, type=\"HC1\")))\n",
    "se5b <- sqrt(diag(vcovHC(r5b, type=\"HC1\")))\n",
    "se6b <- sqrt(diag(vcovHC(r6b, type=\"HC1\")))\n",
    "\n",
    "sesb <- list(se1b, se2b, se3b, se4b, se5b, se6b)\n",
    "\n",
    "stargazer(r1b, r2b, r3b, r4b, r5b, r6b,\n",
    "          se = sesb,\n",
    "          title = \"Comparison of Regression Results 2\",\n",
    "          align = TRUE, \n",
    "          type = \"text\", \n",
    "          keep.stat = c(\"n\", \"rsq\"))"
   ]
  },
  {
   "cell_type": "code",
   "execution_count": 85,
   "metadata": {
    "vscode": {
     "languageId": "r"
    }
   },
   "outputs": [
    {
     "data": {
      "text/html": [
       "<style>\n",
       ".dl-inline {width: auto; margin:0; padding: 0}\n",
       ".dl-inline>dt, .dl-inline>dd {float: none; width: auto; display: inline-block}\n",
       ".dl-inline>dt::after {content: \":\\0020\"; padding-right: .5ex}\n",
       ".dl-inline>dt:not(:first-of-type) {padding-left: .5ex}\n",
       "</style><dl class=dl-inline><dt>tuition</dt><dd>1.13351696855171</dd><dt>aid_coverage</dt><dd>1.1299234634571</dd><dt>finance</dt><dd>1.14097630866713</dd><dt>work</dt><dd>1.0420159012623</dd><dt>media</dt><dd>1.06913278129663</dd><dt>anxiety</dt><dd>1.13124882112093</dd></dl>\n"
      ],
      "text/latex": [
       "\\begin{description*}\n",
       "\\item[tuition] 1.13351696855171\n",
       "\\item[aid\\textbackslash{}\\_coverage] 1.1299234634571\n",
       "\\item[finance] 1.14097630866713\n",
       "\\item[work] 1.0420159012623\n",
       "\\item[media] 1.06913278129663\n",
       "\\item[anxiety] 1.13124882112093\n",
       "\\end{description*}\n"
      ],
      "text/markdown": [
       "tuition\n",
       ":   1.13351696855171aid_coverage\n",
       ":   1.1299234634571finance\n",
       ":   1.14097630866713work\n",
       ":   1.0420159012623media\n",
       ":   1.06913278129663anxiety\n",
       ":   1.13124882112093\n",
       "\n"
      ],
      "text/plain": [
       "     tuition aid_coverage      finance         work        media      anxiety \n",
       "    1.133517     1.129923     1.140976     1.042016     1.069133     1.131249 "
      ]
     },
     "metadata": {},
     "output_type": "display_data"
    }
   ],
   "source": [
    "vif(r6b)"
   ]
  },
  {
   "cell_type": "markdown",
   "metadata": {},
   "source": [
    "No multicollinarity issues detected by the VIF table."
   ]
  },
  {
   "cell_type": "code",
   "execution_count": 86,
   "metadata": {
    "vscode": {
     "languageId": "r"
    }
   },
   "outputs": [
    {
     "data": {
      "image/png": "[encoded data removed]",
      "text/plain": [
       "plot without title"
      ]
     },
     "metadata": {
      "image/png": {
       "height": 420,
       "width": 420
      }
     },
     "output_type": "display_data"
    }
   ],
   "source": [
    "ggplot(df, aes(x = tuition, y = GPA_percent)) +\n",
    "  geom_point(color = \"darkgreen\", size = 3) +\n",
    "  ggtitle(\"Scatter Plot of Tuition Fee vs GPA\") +\n",
    "  xlab(\"Tuition Fee\") +\n",
    "  ylab(\"GPA\")"
   ]
  },
  {
   "cell_type": "markdown",
   "metadata": {},
   "source": [
    "## 3. Ftest"
   ]
  },
  {
   "cell_type": "code",
   "execution_count": 87,
   "metadata": {
    "vscode": {
     "languageId": "r"
    }
   },
   "outputs": [
    {
     "data": {
      "text/plain": [
       "\n",
       "t test of coefficients:\n",
       "\n",
       "               Estimate  Std. Error t value Pr(>|t|)    \n",
       "(Intercept) 79.45288890  2.06563818 38.4641   <2e-16 ***\n",
       "tuition     -0.00062549  0.00039406 -1.5873   0.1161    \n",
       "all_study   -0.01367248  0.07055431 -0.1938   0.8468    \n",
       "---\n",
       "Signif. codes:  0 '***' 0.001 '**' 0.01 '*' 0.05 '.' 0.1 ' ' 1\n"
      ]
     },
     "metadata": {},
     "output_type": "display_data"
    },
    {
     "data": {
      "text/html": [
       "<table class=\"dataframe\">\n",
       "<caption>A anova: 2 × 4</caption>\n",
       "<thead>\n",
       "\t<tr><th></th><th scope=col>Res.Df</th><th scope=col>Df</th><th scope=col>F</th><th scope=col>Pr(&gt;F)</th></tr>\n",
       "\t<tr><th></th><th scope=col>&lt;dbl&gt;</th><th scope=col>&lt;dbl&gt;</th><th scope=col>&lt;dbl&gt;</th><th scope=col>&lt;dbl&gt;</th></tr>\n",
       "</thead>\n",
       "<tbody>\n",
       "\t<tr><th scope=row>1</th><td>88</td><td>NA</td><td>      NA</td><td>     NA</td></tr>\n",
       "\t<tr><th scope=row>2</th><td>86</td><td> 2</td><td>1.322053</td><td>0.27195</td></tr>\n",
       "</tbody>\n",
       "</table>\n"
      ],
      "text/latex": [
       "A anova: 2 × 4\n",
       "\\begin{tabular}{r|llll}\n",
       "  & Res.Df & Df & F & Pr(>F)\\\\\n",
       "  & <dbl> & <dbl> & <dbl> & <dbl>\\\\\n",
       "\\hline\n",
       "\t1 & 88 & NA &       NA &      NA\\\\\n",
       "\t2 & 86 &  2 & 1.322053 & 0.27195\\\\\n",
       "\\end{tabular}\n"
      ],
      "text/markdown": [
       "\n",
       "A anova: 2 × 4\n",
       "\n",
       "| <!--/--> | Res.Df &lt;dbl&gt; | Df &lt;dbl&gt; | F &lt;dbl&gt; | Pr(&gt;F) &lt;dbl&gt; |\n",
       "|---|---|---|---|---|\n",
       "| 1 | 88 | NA |       NA |      NA |\n",
       "| 2 | 86 |  2 | 1.322053 | 0.27195 |\n",
       "\n"
      ],
      "text/plain": [
       "  Res.Df Df F        Pr(>F) \n",
       "1 88     NA       NA      NA\n",
       "2 86      2 1.322053 0.27195"
      ]
     },
     "metadata": {},
     "output_type": "display_data"
    }
   ],
   "source": [
    "#1. tuition+study significance test\n",
    "r2c <- lm(GPA_percent ~ tuition + all_study, data = df)\n",
    "coeftest(r2c, vcov=vcovHC(r2c, type=\"HC1\"))\n",
    "\n",
    "linearHypothesis(r2c, c(\"tuition=0\", \"all_study=0\"), white.adjust = \"hc1\")"
   ]
  },
  {
   "cell_type": "code",
   "execution_count": 90,
   "metadata": {
    "vscode": {
     "languageId": "r"
    }
   },
   "outputs": [
    {
     "data": {
      "text/plain": [
       "\n",
       "t test of coefficients:\n",
       "\n",
       "                Estimate  Std. Error t value Pr(>|t|)    \n",
       "(Intercept)  78.76384817  3.67078902 21.4569   <2e-16 ***\n",
       "tuition      -0.00050366  0.00041132 -1.2245   0.2242    \n",
       "course_take4 -1.00010825  3.71580124 -0.2692   0.7885    \n",
       "course_take5  1.59147162  3.86582406  0.4117   0.6816    \n",
       "---\n",
       "Signif. codes:  0 '***' 0.001 '**' 0.01 '*' 0.05 '.' 0.1 ' ' 1\n"
      ]
     },
     "metadata": {},
     "output_type": "display_data"
    },
    {
     "data": {
      "text/html": [
       "<table class=\"dataframe\">\n",
       "<caption>A anova: 2 × 4</caption>\n",
       "<thead>\n",
       "\t<tr><th></th><th scope=col>Res.Df</th><th scope=col>Df</th><th scope=col>F</th><th scope=col>Pr(&gt;F)</th></tr>\n",
       "\t<tr><th></th><th scope=col>&lt;dbl&gt;</th><th scope=col>&lt;dbl&gt;</th><th scope=col>&lt;dbl&gt;</th><th scope=col>&lt;dbl&gt;</th></tr>\n",
       "</thead>\n",
       "<tbody>\n",
       "\t<tr><th scope=row>1</th><td>88</td><td>NA</td><td>      NA</td><td>       NA</td></tr>\n",
       "\t<tr><th scope=row>2</th><td>85</td><td> 3</td><td>1.788213</td><td>0.1555464</td></tr>\n",
       "</tbody>\n",
       "</table>\n"
      ],
      "text/latex": [
       "A anova: 2 × 4\n",
       "\\begin{tabular}{r|llll}\n",
       "  & Res.Df & Df & F & Pr(>F)\\\\\n",
       "  & <dbl> & <dbl> & <dbl> & <dbl>\\\\\n",
       "\\hline\n",
       "\t1 & 88 & NA &       NA &        NA\\\\\n",
       "\t2 & 85 &  3 & 1.788213 & 0.1555464\\\\\n",
       "\\end{tabular}\n"
      ],
      "text/markdown": [
       "\n",
       "A anova: 2 × 4\n",
       "\n",
       "| <!--/--> | Res.Df &lt;dbl&gt; | Df &lt;dbl&gt; | F &lt;dbl&gt; | Pr(&gt;F) &lt;dbl&gt; |\n",
       "|---|---|---|---|---|\n",
       "| 1 | 88 | NA |       NA |        NA |\n",
       "| 2 | 85 |  3 | 1.788213 | 0.1555464 |\n",
       "\n"
      ],
      "text/plain": [
       "  Res.Df Df F        Pr(>F)   \n",
       "1 88     NA       NA        NA\n",
       "2 85      3 1.788213 0.1555464"
      ]
     },
     "metadata": {},
     "output_type": "display_data"
    }
   ],
   "source": [
    "r3c <- lm(GPA_percent ~ tuition + course_take, data = df) \n",
    "coeftest(r3c, vcov=vcovHC(r3c, type=\"HC1\"))\n",
    "linearHypothesis(r3c, c(\"tuition=0\", \"course_take4=0\", \"course_take5=0\"), white.adjust = \"hc1\")"
   ]
  },
  {
   "cell_type": "code",
   "execution_count": 104,
   "metadata": {
    "vscode": {
     "languageId": "r"
    }
   },
   "outputs": [
    {
     "data": {
      "text/plain": [
       "\n",
       "t test of coefficients:\n",
       "\n",
       "                Estimate  Std. Error t value Pr(>|t|)    \n",
       "(Intercept)  77.98774154  1.52566367 51.1173  < 2e-16 ***\n",
       "tuition      -0.00044915  0.00038559 -1.1648  0.24731    \n",
       "aid_coverage  0.07199043  0.03338913  2.1561  0.03387 *  \n",
       "---\n",
       "Signif. codes:  0 '***' 0.001 '**' 0.01 '*' 0.05 '.' 0.1 ' ' 1\n"
      ]
     },
     "metadata": {},
     "output_type": "display_data"
    },
    {
     "data": {
      "text/html": [
       "<table class=\"dataframe\">\n",
       "<caption>A anova: 2 × 4</caption>\n",
       "<thead>\n",
       "\t<tr><th></th><th scope=col>Res.Df</th><th scope=col>Df</th><th scope=col>F</th><th scope=col>Pr(&gt;F)</th></tr>\n",
       "\t<tr><th></th><th scope=col>&lt;dbl&gt;</th><th scope=col>&lt;dbl&gt;</th><th scope=col>&lt;dbl&gt;</th><th scope=col>&lt;dbl&gt;</th></tr>\n",
       "</thead>\n",
       "<tbody>\n",
       "\t<tr><th scope=row>1</th><td>88</td><td>NA</td><td>      NA</td><td>       NA</td></tr>\n",
       "\t<tr><th scope=row>2</th><td>86</td><td> 2</td><td>3.987402</td><td>0.0220771</td></tr>\n",
       "</tbody>\n",
       "</table>\n"
      ],
      "text/latex": [
       "A anova: 2 × 4\n",
       "\\begin{tabular}{r|llll}\n",
       "  & Res.Df & Df & F & Pr(>F)\\\\\n",
       "  & <dbl> & <dbl> & <dbl> & <dbl>\\\\\n",
       "\\hline\n",
       "\t1 & 88 & NA &       NA &        NA\\\\\n",
       "\t2 & 86 &  2 & 3.987402 & 0.0220771\\\\\n",
       "\\end{tabular}\n"
      ],
      "text/markdown": [
       "\n",
       "A anova: 2 × 4\n",
       "\n",
       "| <!--/--> | Res.Df &lt;dbl&gt; | Df &lt;dbl&gt; | F &lt;dbl&gt; | Pr(&gt;F) &lt;dbl&gt; |\n",
       "|---|---|---|---|---|\n",
       "| 1 | 88 | NA |       NA |        NA |\n",
       "| 2 | 86 |  2 | 3.987402 | 0.0220771 |\n",
       "\n"
      ],
      "text/plain": [
       "  Res.Df Df F        Pr(>F)   \n",
       "1 88     NA       NA        NA\n",
       "2 86      2 3.987402 0.0220771"
      ]
     },
     "metadata": {},
     "output_type": "display_data"
    }
   ],
   "source": [
    "r4c <- lm(GPA_percent ~ tuition + aid_coverage, data = df) \n",
    "coeftest(r4c, vcov=vcovHC(r4c, type=\"HC1\"))\n",
    "linearHypothesis(r4c, c(\"aid_coverage=0\", \"tuition=0\"), white.adjust = \"hc1\")"
   ]
  },
  {
   "cell_type": "markdown",
   "metadata": {},
   "source": [
    "## 4. Combined model"
   ]
  },
  {
   "cell_type": "code",
   "execution_count": 106,
   "metadata": {
    "vscode": {
     "languageId": "r"
    }
   },
   "outputs": [
    {
     "name": "stdout",
     "output_type": "stream",
     "text": [
      "\n",
      "Comparison of Regression Results 3\n",
      "========================================================================\n",
      "                                 Dependent variable:                    \n",
      "             -----------------------------------------------------------\n",
      "                                     GPA_percent                        \n",
      "                (1)       (2)       (3)       (4)       (5)       (6)   \n",
      "------------------------------------------------------------------------\n",
      "tuition       -0.001    -0.0004   -0.0003   -0.0004   -0.0004   -0.0003 \n",
      "             (0.0004)  (0.0004)  (0.0004)  (0.0004)  (0.0004)  (0.0004) \n",
      "                                                                        \n",
      "aid_coverage            0.072**   0.067*    0.062*     0.051     0.040  \n",
      "                        (0.033)   (0.035)   (0.037)   (0.036)   (0.036) \n",
      "                                                                        \n",
      "course_take4                      -0.855    -1.392    -1.743    -2.051  \n",
      "                                  (3.543)   (3.461)   (3.493)   (3.309) \n",
      "                                                                        \n",
      "course_take5                       1.434     1.033     0.478    -0.055  \n",
      "                                  (3.690)   (3.502)   (3.503)   (3.416) \n",
      "                                                                        \n",
      "work                                        -0.157    -0.143    -0.128  \n",
      "                                            (0.180)   (0.183)   (0.176) \n",
      "                                                                        \n",
      "media                                                 0.004*    0.005** \n",
      "                                                      (0.002)   (0.002) \n",
      "                                                                        \n",
      "anxiety                                                         -1.409* \n",
      "                                                                (0.779) \n",
      "                                                                        \n",
      "Constant     79.196*** 77.988*** 77.662*** 78.696*** 78.188*** 82.979***\n",
      "              (1.514)   (1.526)   (3.442)   (3.599)   (3.615)   (4.564) \n",
      "                                                                        \n",
      "------------------------------------------------------------------------\n",
      "Observations    89        89        89        89        89        89    \n",
      "R2             0.026     0.069     0.089     0.102     0.129     0.172  \n",
      "========================================================================\n",
      "Note:                                        *p<0.1; **p<0.05; ***p<0.01\n"
     ]
    }
   ],
   "source": [
    "r1d <- lm(GPA_percent ~ tuition, data = df)\n",
    "r2d <- lm(GPA_percent ~ tuition + aid_coverage, data = df)\n",
    "r3d <- lm(GPA_percent ~ tuition + aid_coverage + course_take, data = df)\n",
    "r4d <- lm(GPA_percent ~ tuition + aid_coverage + course_take + work, data = df)\n",
    "r5d <- lm(GPA_percent ~ tuition + aid_coverage + course_take + work + media, data = df)\n",
    "r6d <- lm(GPA_percent ~ tuition + aid_coverage + course_take + work + media + anxiety, data = df)\n",
    "\n",
    "se1d <- sqrt(diag(vcovHC(r1d, type = \"HC1\")))\n",
    "se2d <- sqrt(diag(vcovHC(r2d, type = \"HC1\")))\n",
    "se3d <- sqrt(diag(vcovHC(r3d, type = \"HC1\")))\n",
    "se4d <- sqrt(diag(vcovHC(r4d, type = \"HC1\")))\n",
    "se5d <- sqrt(diag(vcovHC(r5d, type = \"HC1\")))\n",
    "se6d <- sqrt(diag(vcovHC(r6d, type = \"HC1\")))\n",
    "\n",
    "sesd <- list(se1d, se2d, se3d, se4d, se5d, se6d)\n",
    "stargazer(r1d, r2d, r3d, r4d, r5d, r6d,\n",
    "          se = sesd,\n",
    "          title = \"Comparison of Regression Results 3\",\n",
    "          align = TRUE, \n",
    "          type = \"text\", \n",
    "          keep.stat = c(\"n\", \"rsq\"))\n"
   ]
  },
  {
   "cell_type": "code",
   "execution_count": 107,
   "metadata": {
    "vscode": {
     "languageId": "r"
    }
   },
   "outputs": [
    {
     "data": {
      "text/html": [
       "<table class=\"dataframe\">\n",
       "<caption>A anova: 2 × 4</caption>\n",
       "<thead>\n",
       "\t<tr><th></th><th scope=col>Res.Df</th><th scope=col>Df</th><th scope=col>F</th><th scope=col>Pr(&gt;F)</th></tr>\n",
       "\t<tr><th></th><th scope=col>&lt;dbl&gt;</th><th scope=col>&lt;dbl&gt;</th><th scope=col>&lt;dbl&gt;</th><th scope=col>&lt;dbl&gt;</th></tr>\n",
       "</thead>\n",
       "<tbody>\n",
       "\t<tr><th scope=row>1</th><td>86</td><td>NA</td><td>      NA</td><td>       NA</td></tr>\n",
       "\t<tr><th scope=row>2</th><td>81</td><td> 5</td><td>1.275978</td><td>0.2823463</td></tr>\n",
       "</tbody>\n",
       "</table>\n"
      ],
      "text/latex": [
       "A anova: 2 × 4\n",
       "\\begin{tabular}{r|llll}\n",
       "  & Res.Df & Df & F & Pr(>F)\\\\\n",
       "  & <dbl> & <dbl> & <dbl> & <dbl>\\\\\n",
       "\\hline\n",
       "\t1 & 86 & NA &       NA &        NA\\\\\n",
       "\t2 & 81 &  5 & 1.275978 & 0.2823463\\\\\n",
       "\\end{tabular}\n"
      ],
      "text/markdown": [
       "\n",
       "A anova: 2 × 4\n",
       "\n",
       "| <!--/--> | Res.Df &lt;dbl&gt; | Df &lt;dbl&gt; | F &lt;dbl&gt; | Pr(&gt;F) &lt;dbl&gt; |\n",
       "|---|---|---|---|---|\n",
       "| 1 | 86 | NA |       NA |        NA |\n",
       "| 2 | 81 |  5 | 1.275978 | 0.2823463 |\n",
       "\n"
      ],
      "text/plain": [
       "  Res.Df Df F        Pr(>F)   \n",
       "1 86     NA       NA        NA\n",
       "2 81      5 1.275978 0.2823463"
      ]
     },
     "metadata": {},
     "output_type": "display_data"
    }
   ],
   "source": [
    "linearHypothesis(r6d, c(\"tuition=0\", \"aid_coverage=0\", \"course_take4=0\", \"course_take5=0\", \"work=0\"), white.adjust = \"hc1\")"
   ]
  },
  {
   "cell_type": "code",
   "execution_count": null,
   "metadata": {
    "vscode": {
     "languageId": "r"
    }
   },
   "outputs": [],
   "source": []
  }
 ],
 "metadata": {
  "kernelspec": {
   "display_name": "R",
   "language": "R",
   "name": "ir"
  },
  "language_info": {
   "codemirror_mode": "r",
   "file_extension": ".r",
   "mimetype": "text/x-r-source",
   "name": "R",
   "pygments_lexer": "r",
   "version": "4.3.2"
  }
 },
 "nbformat": 4,
 "nbformat_minor": 4
}
