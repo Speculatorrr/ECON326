{
 "cells": [
  {
   "cell_type": "markdown",
   "metadata": {},
   "source": [
    "# TITLE\n",
    "### Christin Wang, Manan Shah, Shreya Ladva, Samuel Griffin"
   ]
  },
  {
   "cell_type": "code",
   "execution_count": null,
   "metadata": {
    "vscode": {
     "languageId": "r"
    }
   },
   "outputs": [
    {
     "name": "stderr",
     "output_type": "stream",
     "text": [
      "Warning message:\n",
      "\"程辑包'readxl'是用R版本4.3.3 来建造的\"\n",
      "Warning message:\n",
      "\"程辑包'tidyverse'是用R版本4.3.3 来建造的\"\n",
      "Warning message:\n",
      "\"程辑包'ggplot2'是用R版本4.3.3 来建造的\"\n",
      "Warning message:\n",
      "\"程辑包'forcats'是用R版本4.3.3 来建造的\"\n",
      "Warning message:\n",
      "\"程辑包'lubridate'是用R版本4.3.3 来建造的\"\n",
      "── \u001b[1mAttaching core tidyverse packages\u001b[22m ──────────────────────── tidyverse 2.0.0 ──\n",
      "\u001b[32m✔\u001b[39m \u001b[34mdplyr    \u001b[39m 1.1.3     \u001b[32m✔\u001b[39m \u001b[34mreadr    \u001b[39m 2.1.4\n",
      "\u001b[32m✔\u001b[39m \u001b[34mforcats  \u001b[39m 1.0.0     \u001b[32m✔\u001b[39m \u001b[34mstringr  \u001b[39m 1.5.0\n",
      "\u001b[32m✔\u001b[39m \u001b[34mggplot2  \u001b[39m 3.5.1     \u001b[32m✔\u001b[39m \u001b[34mtibble   \u001b[39m 3.2.1\n",
      "\u001b[32m✔\u001b[39m \u001b[34mlubridate\u001b[39m 1.9.3     \u001b[32m✔\u001b[39m \u001b[34mtidyr    \u001b[39m 1.3.0\n",
      "\u001b[32m✔\u001b[39m \u001b[34mpurrr    \u001b[39m 1.0.2     \n",
      "── \u001b[1mConflicts\u001b[22m ────────────────────────────────────────── tidyverse_conflicts() ──\n",
      "\u001b[31m✖\u001b[39m \u001b[34mdplyr\u001b[39m::\u001b[32mfilter()\u001b[39m masks \u001b[34mstats\u001b[39m::filter()\n",
      "\u001b[31m✖\u001b[39m \u001b[34mdplyr\u001b[39m::\u001b[32mlag()\u001b[39m    masks \u001b[34mstats\u001b[39m::lag()\n",
      "\u001b[36mℹ\u001b[39m Use the conflicted package (\u001b[3m\u001b[34m<http://conflicted.r-lib.org/>\u001b[39m\u001b[23m) to force all conflicts to become errors\n",
      "Warning message:\n",
      "\"程辑包'haven'是用R版本4.3.3 来建造的\"\n",
      "Warning message:\n",
      "\"程辑包'scales'是用R版本4.3.3 来建造的\"\n",
      "\n",
      "载入程辑包：'scales'\n",
      "\n",
      "\n",
      "The following object is masked from 'package:purrr':\n",
      "\n",
      "    discard\n",
      "\n",
      "\n",
      "The following object is masked from 'package:readr':\n",
      "\n",
      "    col_factor\n",
      "\n",
      "\n",
      "\n",
      "Please cite as: \n",
      "\n",
      "\n",
      " Hlavac, Marek (2022). stargazer: Well-Formatted Regression and Summary Statistics Tables.\n",
      "\n",
      " R package version 5.2.3. https://CRAN.R-project.org/package=stargazer \n",
      "\n",
      "\n",
      "Warning message:\n",
      "\"程辑包'car'是用R版本4.3.3 来建造的\"\n",
      "载入需要的程辑包：carData\n",
      "\n",
      "Warning message:\n",
      "\"程辑包'carData'是用R版本4.3.3 来建造的\"\n",
      "\n",
      "载入程辑包：'car'\n",
      "\n",
      "\n",
      "The following object is masked from 'package:dplyr':\n",
      "\n",
      "    recode\n",
      "\n",
      "\n",
      "The following object is masked from 'package:purrr':\n",
      "\n",
      "    some\n",
      "\n",
      "\n",
      "Warning message:\n",
      "\"程辑包'GGally'是用R版本4.3.3 来建造的\"\n",
      "Registered S3 method overwritten by 'GGally':\n",
      "  method from   \n",
      "  +.gg   ggplot2\n",
      "\n",
      "Warning message:\n",
      "\"程辑包'ggcorrplot'是用R版本4.3.3 来建造的\"\n",
      "Warning message:\n",
      "\"程辑包'estimatr'是用R版本4.3.3 来建造的\"\n"
     ]
    }
   ],
   "source": [
    "library(readxl)\n",
    "library(tidyverse)\n",
    "library(haven)\n",
    "library(dplyr)\n",
    "library(scales)\n",
    "library(stargazer)\n",
    "library(car)\n",
    "library(GGally)\n",
    "library(ggplot2)\n",
    "library(ggcorrplot)\n",
    "library(estimatr)\n",
    "library(sandwich)\n",
    "library(stargazer)"
   ]
  },
  {
   "cell_type": "markdown",
   "metadata": {},
   "source": [
    "# 2.Data Preperation"
   ]
  },
  {
   "cell_type": "code",
   "execution_count": 82,
   "metadata": {
    "vscode": {
     "languageId": "r"
    }
   },
   "outputs": [],
   "source": [
    "url <- \"https://raw.githubusercontent.com/Speculatorrr/ECON326/d0e554d0459664e17c4489ca8c08f9e1f0e2406c/Student%20Performance%20Survey%20-%20March%202025.xlsx\"\n",
    "temp_file <- tempfile(fileext = \".xlsx\")\n",
    "download.file(url, temp_file, mode = \"wb\")\n",
    "df_ <- read_excel(temp_file)"
   ]
  },
  {
   "cell_type": "code",
   "execution_count": 83,
   "metadata": {
    "vscode": {
     "languageId": "r"
    }
   },
   "outputs": [],
   "source": [
    "colnames(df_) <- c(\n",
    "    \"GPA_percent\", \"GPA_scale\", \"single_study\", \"all_study\", \"exam_prepare\",\n",
    "    \"course_take\", \"course_preference\", \"AI_use\", \"AI_help\", \"review\",\n",
    "    \"hw\", \"sport\", \"club\", \"volunteer\", \"friend\",\n",
    "    \"family\", \"student\", \"tuition\", \"aid\", \"aid_coverage\",\n",
    "    \"job\", \"work\", \"finance\", \"sleep\", \"media\",\n",
    "    \"screen\", \"anxiety\", \"commute\", \"transport\", \"course_mode\",\n",
    "    \"future_work\",\"future_edu\", \"confidence\", \"career\", \"faculty\", \n",
    "    \"ethnicity\", \"year\")"
   ]
  },
  {
   "cell_type": "markdown",
   "metadata": {},
   "source": [
    "1. `GPA_percent`: What is your current cumulative GPA (on a percentage scale)? Example: 75%  \n",
    "2. `GPA_scale`: What is your current GPA on a 4.0 scale (if known)? Example: 3.51  \n",
    "3. `single_study`: How many hours per week do you study for this course? Example: 9  \n",
    "4. `all_study`: How many total hours per week do you study across all your courses? Example: 21  \n",
    "5. `exam_prepare`: How many hours do you spend preparing for exams (excluding regular coursework)? Example: 8  \n",
    "6. `course_take`: How many courses do you take on average per term? Example: 4  \n",
    "7. `course_preference`: Do you prefer courses that focus more on practical applications or theoretical concepts?  \n",
    "8. `AI_use`: How many hours per week do you use ChatGPT or other LLM or AI tools for studying or assignments? Example: 12  \n",
    "9. `AI_help`: How do you feel AI tools like ChatGPT impact your learning? (5 = Strongly helps, 1 = Strongly harms)  \n",
    "10. `review`: How much time per week do you spend on reviewing lecture slides and course materials? Example: 6  \n",
    "11. `hw`: How much time per week do you spend on assignments, problem sets, and practice exercises? Example: 5  \n",
    "12. `sport`: How many hours per week do you spend on sports or fitness activities? Example: 4  \n",
    "13. `club`: How many hours per week do you spend on student clubs or societies? Example: 5  \n",
    "14. `volunteer`: How many hours per week do you spend on volunteering or community service? Example: 3  \n",
    "15. `friend`: How many hours per week do you spend socializing with friends? Example: 6  \n",
    "16. `family`: How many hours per week do you spend socializing with family (online and in-person together)? Example: 8  \n",
    "17. `student`: Are you an international, domestic, or exchange student? If you are an exchange student, just choose \"Exchange\" below.  \n",
    "18. `tuition`: What is your average tuition fee per course? Example: 3200  \n",
    "19. `aid`: Do you receive any scholarships or financial aid?  \n",
    "20. `aid_coverage`: If you receive scholarships or financial aid, what percentage of your tuition does it cover? Example: 50%. If you do not get a scholarship or financial aid, just enter \"0\".  \n",
    "21. `job`: Do you currently have a job while studying?  \n",
    "22. `work`: How many hours per week do you work? Example: 12. Put \"0\" if you are not working.  \n",
    "23. `finance`: Do you feel that your financial situation affects your academic performance? (5 = Significantly affects, 1 = No impact at all)  \n",
    "24. `sleep`: How many hours of sleep do you get on an average night? Example: 6  \n",
    "25. `media`: How much time do you spend daily on social media (in minutes)? Example: 200  \n",
    "26. `screen`: How much time do you spend daily on screens (computer, phone, TV) for non-academic purposes (in minutes)? Example: 120  \n",
    "27. `anxiety`: How often do you feel depressed or anxious these days? (5 = Very frequently, 1 = Never)  \n",
    "28. `commute`: How long is your commute to campus (one way, in minutes)? Example: 25. If you live on campus, just write the walk time on average in minutes to your classes.  \n",
    "29. `transport`: What is your primary mode of transportation to campus?  \n",
    "30. `course_mode`: Do you prefer taking online courses, in-person courses, or a hybrid of both?\n",
    "30. `future_work`: How often do you think about your future employment or career prospects? (5 = Constantly, 1 = Never)  \n",
    "31. `future_edu`: Do you plan to pursue further education (graduate school, professional certification, etc.)?  \n",
    "32. `confidence`: How confident are you in securing a job related to your field of study after graduation? (5 = Very confident, 1 = Not confident at all)  \n",
    "33. `career`: Which career path are you most likely to pursue after graduation? (Select the option that best matches your current career goal)  \n",
    "34. `faculty`: Which faculty are you in? (Select the faculty that best matches your program of study). Faculty of Arts is very vast so please google or use AI.  \n",
    "35. `ethnicity`: What is your ethnicity?  \n",
    "36. `year`: Which year are you in at your undergraduate program at UBC? (1 = First Year, 5 = Fifth Year or beyond)"
   ]
  },
  {
   "cell_type": "code",
   "execution_count": 84,
   "metadata": {
    "vscode": {
     "languageId": "r"
    }
   },
   "outputs": [
    {
     "name": "stderr",
     "output_type": "stream",
     "text": [
      "Warning message:\n",
      "\"强制改变过程中产生了NA\"\n",
      "Warning message:\n",
      "\"强制改变过程中产生了NA\"\n",
      "Warning message in FUN(X[[i]], ...):\n",
      "\"强制改变过程中产生了NA\"\n",
      "Warning message in FUN(X[[i]], ...):\n",
      "\"强制改变过程中产生了NA\"\n",
      "Warning message in FUN(X[[i]], ...):\n",
      "\"强制改变过程中产生了NA\"\n"
     ]
    },
    {
     "name": "stderr",
     "output_type": "stream",
     "text": [
      "Warning message in FUN(X[[i]], ...):\n",
      "\"强制改变过程中产生了NA\"\n",
      "Warning message in FUN(X[[i]], ...):\n",
      "\"强制改变过程中产生了NA\"\n",
      "Warning message in FUN(X[[i]], ...):\n",
      "\"强制改变过程中产生了NA\"\n",
      "Warning message in FUN(X[[i]], ...):\n",
      "\"强制改变过程中产生了NA\"\n",
      "Warning message in FUN(X[[i]], ...):\n",
      "\"强制改变过程中产生了NA\"\n",
      "Warning message in FUN(X[[i]], ...):\n",
      "\"强制改变过程中产生了NA\"\n",
      "Warning message in FUN(X[[i]], ...):\n",
      "\"强制改变过程中产生了NA\"\n",
      "Warning message in FUN(X[[i]], ...):\n",
      "\"强制改变过程中产生了NA\"\n",
      "Warning message in FUN(X[[i]], ...):\n",
      "\"强制改变过程中产生了NA\"\n",
      "Warning message in FUN(X[[i]], ...):\n",
      "\"强制改变过程中产生了NA\"\n",
      "Warning message in FUN(X[[i]], ...):\n",
      "\"强制改变过程中产生了NA\"\n",
      "Warning message in FUN(X[[i]], ...):\n",
      "\"强制改变过程中产生了NA\"\n",
      "Warning message in FUN(X[[i]], ...):\n",
      "\"强制改变过程中产生了NA\"\n",
      "Warning message in FUN(X[[i]], ...):\n",
      "\"强制改变过程中产生了NA\"\n",
      "Warning message in FUN(X[[i]], ...):\n",
      "\"强制改变过程中产生了NA\"\n",
      "Warning message in FUN(X[[i]], ...):\n",
      "\"强制改变过程中产生了NA\"\n"
     ]
    },
    {
     "data": {
      "text/html": [
       "<table class=\"dataframe\">\n",
       "<caption>A tibble: 6 × 37</caption>\n",
       "<thead>\n",
       "\t<tr><th scope=col>GPA_percent</th><th scope=col>GPA_scale</th><th scope=col>single_study</th><th scope=col>all_study</th><th scope=col>exam_prepare</th><th scope=col>course_take</th><th scope=col>course_preference</th><th scope=col>AI_use</th><th scope=col>AI_help</th><th scope=col>review</th><th scope=col>⋯</th><th scope=col>commute</th><th scope=col>transport</th><th scope=col>course_mode</th><th scope=col>future_work</th><th scope=col>future_edu</th><th scope=col>confidence</th><th scope=col>career</th><th scope=col>faculty</th><th scope=col>ethnicity</th><th scope=col>year</th></tr>\n",
       "\t<tr><th scope=col>&lt;dbl&gt;</th><th scope=col>&lt;dbl&gt;</th><th scope=col>&lt;dbl&gt;</th><th scope=col>&lt;dbl&gt;</th><th scope=col>&lt;dbl&gt;</th><th scope=col>&lt;fct&gt;</th><th scope=col>&lt;fct&gt;</th><th scope=col>&lt;dbl&gt;</th><th scope=col>&lt;dbl&gt;</th><th scope=col>&lt;dbl&gt;</th><th scope=col>⋯</th><th scope=col>&lt;dbl&gt;</th><th scope=col>&lt;fct&gt;</th><th scope=col>&lt;fct&gt;</th><th scope=col>&lt;dbl&gt;</th><th scope=col>&lt;fct&gt;</th><th scope=col>&lt;dbl&gt;</th><th scope=col>&lt;fct&gt;</th><th scope=col>&lt;fct&gt;</th><th scope=col>&lt;fct&gt;</th><th scope=col>&lt;dbl&gt;</th></tr>\n",
       "</thead>\n",
       "<tbody>\n",
       "\t<tr><td>86.0</td><td>3.76</td><td>8</td><td>30</td><td>30</td><td>5</td><td>More practical applications</td><td>1</td><td>5</td><td> 2</td><td>⋯</td><td>25</td><td>Public transit</td><td>Hybrid (mix of both)</td><td>3</td><td>Yes   </td><td>3</td><td>Finance, Banking, or Investment</td><td>Faculty of Arts                                                            </td><td>East Asian </td><td>3</td></tr>\n",
       "\t<tr><td>78.6</td><td>3.38</td><td>1</td><td> 5</td><td> 4</td><td>5</td><td>More practical applications</td><td>2</td><td>5</td><td> 1</td><td>⋯</td><td>20</td><td>Walking       </td><td>Online courses      </td><td>5</td><td>Unsure</td><td>1</td><td>Finance, Banking, or Investment</td><td>Faculty of Commerce and Business Administration (Sauder School of Business)</td><td>East Asian </td><td>3</td></tr>\n",
       "\t<tr><td>74.9</td><td>3.10</td><td>4</td><td>20</td><td>20</td><td>5</td><td>More practical applications</td><td>5</td><td>5</td><td> 5</td><td>⋯</td><td>25</td><td>Public transit</td><td>Hybrid (mix of both)</td><td>5</td><td>No    </td><td>3</td><td>Finance, Banking, or Investment</td><td>Faculty of Arts                                                            </td><td>East Asian </td><td>2</td></tr>\n",
       "\t<tr><td>78.0</td><td>3.50</td><td>7</td><td>35</td><td>20</td><td>5</td><td>More practical applications</td><td>2</td><td>4</td><td>10</td><td>⋯</td><td>25</td><td>Public transit</td><td>In-person courses   </td><td>4</td><td>Yes   </td><td>4</td><td>Finance, Banking, or Investment</td><td>Faculty of Arts                                                            </td><td>White      </td><td>2</td></tr>\n",
       "\t<tr><td>79.4</td><td>3.50</td><td>4</td><td>20</td><td> 8</td><td>4</td><td>More practical applications</td><td>4</td><td>4</td><td> 2</td><td>⋯</td><td> 5</td><td>Biking        </td><td>Hybrid (mix of both)</td><td>5</td><td>No    </td><td>4</td><td>Date Science or AI             </td><td>Faculty of Arts                                                            </td><td>South Asian</td><td>2</td></tr>\n",
       "\t<tr><td>74.0</td><td>3.00</td><td>1</td><td> 4</td><td> 7</td><td>5</td><td>More theoretical concepts  </td><td>1</td><td>4</td><td> 1</td><td>⋯</td><td>90</td><td>Public transit</td><td>Hybrid (mix of both)</td><td>4</td><td>Unsure</td><td>2</td><td>Finance, Banking, or Investment</td><td>Faculty of Arts                                                            </td><td>East Asian </td><td>3</td></tr>\n",
       "</tbody>\n",
       "</table>\n"
      ],
      "text/latex": [
       "A tibble: 6 × 37\n",
       "\\begin{tabular}{lllllllllllllllllllll}\n",
       " GPA\\_percent & GPA\\_scale & single\\_study & all\\_study & exam\\_prepare & course\\_take & course\\_preference & AI\\_use & AI\\_help & review & ⋯ & commute & transport & course\\_mode & future\\_work & future\\_edu & confidence & career & faculty & ethnicity & year\\\\\n",
       " <dbl> & <dbl> & <dbl> & <dbl> & <dbl> & <fct> & <fct> & <dbl> & <dbl> & <dbl> & ⋯ & <dbl> & <fct> & <fct> & <dbl> & <fct> & <dbl> & <fct> & <fct> & <fct> & <dbl>\\\\\n",
       "\\hline\n",
       "\t 86.0 & 3.76 & 8 & 30 & 30 & 5 & More practical applications & 1 & 5 &  2 & ⋯ & 25 & Public transit & Hybrid (mix of both) & 3 & Yes    & 3 & Finance, Banking, or Investment & Faculty of Arts                                                             & East Asian  & 3\\\\\n",
       "\t 78.6 & 3.38 & 1 &  5 &  4 & 5 & More practical applications & 2 & 5 &  1 & ⋯ & 20 & Walking        & Online courses       & 5 & Unsure & 1 & Finance, Banking, or Investment & Faculty of Commerce and Business Administration (Sauder School of Business) & East Asian  & 3\\\\\n",
       "\t 74.9 & 3.10 & 4 & 20 & 20 & 5 & More practical applications & 5 & 5 &  5 & ⋯ & 25 & Public transit & Hybrid (mix of both) & 5 & No     & 3 & Finance, Banking, or Investment & Faculty of Arts                                                             & East Asian  & 2\\\\\n",
       "\t 78.0 & 3.50 & 7 & 35 & 20 & 5 & More practical applications & 2 & 4 & 10 & ⋯ & 25 & Public transit & In-person courses    & 4 & Yes    & 4 & Finance, Banking, or Investment & Faculty of Arts                                                             & White       & 2\\\\\n",
       "\t 79.4 & 3.50 & 4 & 20 &  8 & 4 & More practical applications & 4 & 4 &  2 & ⋯ &  5 & Biking         & Hybrid (mix of both) & 5 & No     & 4 & Date Science or AI              & Faculty of Arts                                                             & South Asian & 2\\\\\n",
       "\t 74.0 & 3.00 & 1 &  4 &  7 & 5 & More theoretical concepts   & 1 & 4 &  1 & ⋯ & 90 & Public transit & Hybrid (mix of both) & 4 & Unsure & 2 & Finance, Banking, or Investment & Faculty of Arts                                                             & East Asian  & 3\\\\\n",
       "\\end{tabular}\n"
      ],
      "text/markdown": [
       "\n",
       "A tibble: 6 × 37\n",
       "\n",
       "| GPA_percent &lt;dbl&gt; | GPA_scale &lt;dbl&gt; | single_study &lt;dbl&gt; | all_study &lt;dbl&gt; | exam_prepare &lt;dbl&gt; | course_take &lt;fct&gt; | course_preference &lt;fct&gt; | AI_use &lt;dbl&gt; | AI_help &lt;dbl&gt; | review &lt;dbl&gt; | ⋯ ⋯ | commute &lt;dbl&gt; | transport &lt;fct&gt; | course_mode &lt;fct&gt; | future_work &lt;dbl&gt; | future_edu &lt;fct&gt; | confidence &lt;dbl&gt; | career &lt;fct&gt; | faculty &lt;fct&gt; | ethnicity &lt;fct&gt; | year &lt;dbl&gt; |\n",
       "|---|---|---|---|---|---|---|---|---|---|---|---|---|---|---|---|---|---|---|---|---|\n",
       "| 86.0 | 3.76 | 8 | 30 | 30 | 5 | More practical applications | 1 | 5 |  2 | ⋯ | 25 | Public transit | Hybrid (mix of both) | 3 | Yes    | 3 | Finance, Banking, or Investment | Faculty of Arts                                                             | East Asian  | 3 |\n",
       "| 78.6 | 3.38 | 1 |  5 |  4 | 5 | More practical applications | 2 | 5 |  1 | ⋯ | 20 | Walking        | Online courses       | 5 | Unsure | 1 | Finance, Banking, or Investment | Faculty of Commerce and Business Administration (Sauder School of Business) | East Asian  | 3 |\n",
       "| 74.9 | 3.10 | 4 | 20 | 20 | 5 | More practical applications | 5 | 5 |  5 | ⋯ | 25 | Public transit | Hybrid (mix of both) | 5 | No     | 3 | Finance, Banking, or Investment | Faculty of Arts                                                             | East Asian  | 2 |\n",
       "| 78.0 | 3.50 | 7 | 35 | 20 | 5 | More practical applications | 2 | 4 | 10 | ⋯ | 25 | Public transit | In-person courses    | 4 | Yes    | 4 | Finance, Banking, or Investment | Faculty of Arts                                                             | White       | 2 |\n",
       "| 79.4 | 3.50 | 4 | 20 |  8 | 4 | More practical applications | 4 | 4 |  2 | ⋯ |  5 | Biking         | Hybrid (mix of both) | 5 | No     | 4 | Date Science or AI              | Faculty of Arts                                                             | South Asian | 2 |\n",
       "| 74.0 | 3.00 | 1 |  4 |  7 | 5 | More theoretical concepts   | 1 | 4 |  1 | ⋯ | 90 | Public transit | Hybrid (mix of both) | 4 | Unsure | 2 | Finance, Banking, or Investment | Faculty of Arts                                                             | East Asian  | 3 |\n",
       "\n"
      ],
      "text/plain": [
       "  GPA_percent GPA_scale single_study all_study exam_prepare course_take\n",
       "1 86.0        3.76      8            30        30           5          \n",
       "2 78.6        3.38      1             5         4           5          \n",
       "3 74.9        3.10      4            20        20           5          \n",
       "4 78.0        3.50      7            35        20           5          \n",
       "5 79.4        3.50      4            20         8           4          \n",
       "6 74.0        3.00      1             4         7           5          \n",
       "  course_preference           AI_use AI_help review ⋯ commute transport     \n",
       "1 More practical applications 1      5        2     ⋯ 25      Public transit\n",
       "2 More practical applications 2      5        1     ⋯ 20      Walking       \n",
       "3 More practical applications 5      5        5     ⋯ 25      Public transit\n",
       "4 More practical applications 2      4       10     ⋯ 25      Public transit\n",
       "5 More practical applications 4      4        2     ⋯  5      Biking        \n",
       "6 More theoretical concepts   1      4        1     ⋯ 90      Public transit\n",
       "  course_mode          future_work future_edu confidence\n",
       "1 Hybrid (mix of both) 3           Yes        3         \n",
       "2 Online courses       5           Unsure     1         \n",
       "3 Hybrid (mix of both) 5           No         3         \n",
       "4 In-person courses    4           Yes        4         \n",
       "5 Hybrid (mix of both) 5           No         4         \n",
       "6 Hybrid (mix of both) 4           Unsure     2         \n",
       "  career                         \n",
       "1 Finance, Banking, or Investment\n",
       "2 Finance, Banking, or Investment\n",
       "3 Finance, Banking, or Investment\n",
       "4 Finance, Banking, or Investment\n",
       "5 Date Science or AI             \n",
       "6 Finance, Banking, or Investment\n",
       "  faculty                                                                    \n",
       "1 Faculty of Arts                                                            \n",
       "2 Faculty of Commerce and Business Administration (Sauder School of Business)\n",
       "3 Faculty of Arts                                                            \n",
       "4 Faculty of Arts                                                            \n",
       "5 Faculty of Arts                                                            \n",
       "6 Faculty of Arts                                                            \n",
       "  ethnicity   year\n",
       "1 East Asian  3   \n",
       "2 East Asian  3   \n",
       "3 East Asian  2   \n",
       "4 White       2   \n",
       "5 South Asian 2   \n",
       "6 East Asian  3   "
      ]
     },
     "metadata": {},
     "output_type": "display_data"
    }
   ],
   "source": [
    "df_$GPA_percent <- as.numeric(gsub(\"%\", \"\", df_$GPA_percent))\n",
    "df_$aid_coverage <- as.numeric(gsub(\"%\", \"\", df_$aid_coverage))\n",
    "\n",
    "df_[, c(1:6, 8:16, 18, 20, 22:28, 31, 33, 37)] <- \n",
    "  lapply(df_[, c(1:6, 8:16, 18, 20, 22:28, 31, 33, 37)], function(x) as.numeric(as.character(x)))\n",
    "\n",
    "df_[] <- lapply(df_, function(x) {\n",
    "  if (is.character(x)) as.factor(x) else x\n",
    "})\n",
    "\n",
    "df$course_take <- factor(round(df$course_take))\n",
    "df <- filter(df, (student != \"Domestic (Canadian student)\" | (tuition >= 300 & tuition <= 1000)) \n",
    "                  & tuition != 0)\n",
    "df <- drop_na(df)\n",
    "head(df)"
   ]
  },
  {
   "cell_type": "code",
   "execution_count": 5,
   "metadata": {
    "vscode": {
     "languageId": "r"
    }
   },
   "outputs": [],
   "source": [
    "#ggpairs(df[, c(1:6, 8:16, 18, 20, 22:28, 31, 33, 37)] )"
   ]
  },
  {
   "cell_type": "code",
   "execution_count": 6,
   "metadata": {
    "vscode": {
     "languageId": "r"
    }
   },
   "outputs": [],
   "source": [
    "#ggpairs(df)"
   ]
  },
  {
   "cell_type": "code",
   "execution_count": 86,
   "metadata": {
    "vscode": {
     "languageId": "r"
    }
   },
   "outputs": [
    {
     "data": {
      "image/png": "[encoded data removed]",
      "text/plain": [
       "plot without title"
      ]
     },
     "metadata": {
      "image/png": {
       "height": 420,
       "width": 420
      }
     },
     "output_type": "display_data"
    }
   ],
   "source": [
    "numeric_vars <- df[, c(1:5, 8:16, 18, 20, 22:28, 31, 33, 37)]\n",
    "\n",
    "cor_matrix <- cor(numeric_vars, use = \"pairwise.complete.obs\")\n",
    "\n",
    "cor_plot <- ggcorrplot(cor_matrix, hc.order = TRUE, type = \"lower\",\n",
    "           lab = TRUE, lab_size = 2, colors = c(\"blue\", \"white\", \"red\")) \n",
    "\n",
    "\n",
    "cor_plot"
   ]
  },
  {
   "cell_type": "code",
   "execution_count": 54,
   "metadata": {
    "vscode": {
     "languageId": "r"
    }
   },
   "outputs": [
    {
     "data": {
      "text/plain": [
       "  GPA_percent       all_study       tuition     \n",
       " Min.   : 60.00   Min.   : 4.0   Min.   :  350  \n",
       " 1st Qu.: 72.00   1st Qu.:15.0   1st Qu.:  800  \n",
       " Median : 76.65   Median :20.0   Median : 4200  \n",
       " Mean   : 77.21   Mean   :20.2   Mean   : 4004  \n",
       " 3rd Qu.: 80.70   3rd Qu.:25.0   3rd Qu.: 4739  \n",
       " Max.   :100.00   Max.   :60.0   Max.   :47500  "
      ]
     },
     "metadata": {},
     "output_type": "display_data"
    }
   ],
   "source": [
    "key_var <- df[,c(1,4,18)]\n",
    "summary(key_var)"
   ]
  },
  {
   "cell_type": "markdown",
   "metadata": {},
   "source": [
    "# 4.Model Specification\n",
    "## 4.1 Study hours\n",
    "- Variabe of interest: total study hours per week across all courses.\n",
    "- Omitted causal effects:\n",
    "    - Tuition fee, students may study harder due to higher tuition\n",
    "    - Course load\n",
    "    - Sleep hours\n",
    "    - Employment, if a student works more, they may have less time to study\n",
    "    - Study effort (can be controlled by social media hours)\n",
    "    - Psychological factors (controlled by anxiety level)\n",
    "    - Help received (controlled by AI_usage)\n",
    "    \n",
    "- Plausible alternative models: \n",
    "    It isn't clear which study related variables control best for study effort. As previous studies mentioned social media hours would affect study efficiency, alternative specifications may also include exam preperation hours, review hours and homework writing hours. Besides, other than work hours, other activities may also decrease study hours, like club participation, volunteer hours, family and friend socalizing events."
   ]
  },
  {
   "cell_type": "code",
   "execution_count": 87,
   "metadata": {
    "vscode": {
     "languageId": "r"
    }
   },
   "outputs": [
    {
     "data": {
      "image/png": "[encoded data removed]",
      "text/plain": [
       "plot without title"
      ]
     },
     "metadata": {
      "image/png": {
       "height": 420,
       "width": 420
      }
     },
     "output_type": "display_data"
    }
   ],
   "source": [
    "study <- df |>\n",
    "    ggplot(aes(x = all_study, y = GPA_percent, color = course_take))+\n",
    "    geom_point()+\n",
    "    xlab(\"study (hours per week)\") +\n",
    "    ylab(\"GPA (%)\")+\n",
    "    ggtitle(\"Scatter Plot of Study Hours VS GPA Colored Based on Course Load\")\n",
    "study"
   ]
  },
  {
   "cell_type": "markdown",
   "metadata": {},
   "source": [
    "I drew this graph based on course load becuase I think more courses may indicate more study hours."
   ]
  },
  {
   "cell_type": "code",
   "execution_count": 88,
   "metadata": {
    "vscode": {
     "languageId": "r"
    }
   },
   "outputs": [
    {
     "name": "stdout",
     "output_type": "stream",
     "text": [
      "\n",
      "Comparison of Regression Results\n",
      "==================================================================================\n",
      "                                      Dependent variable:                         \n",
      "             ---------------------------------------------------------------------\n",
      "                                          GPA_percent                             \n",
      "                (1)       (2)       (3)       (4)       (5)       (6)       (7)   \n",
      "----------------------------------------------------------------------------------\n",
      "all_study      0.003    -0.039    -0.041    -0.057    -0.047    -0.028    -0.045  \n",
      "              (0.072)   (0.073)   (0.074)   (0.076)   (0.079)   (0.085)   (0.090) \n",
      "                                                                                  \n",
      "course_take4            -1.234    -1.139    -1.784    -2.284    -2.370    -2.809  \n",
      "                        (3.975)   (3.958)   (3.899)   (3.882)   (3.485)   (3.471) \n",
      "                                                                                  \n",
      "course_take5             1.642     1.745     1.305     0.429    -0.136    -0.516  \n",
      "                        (4.107)   (4.155)   (3.981)   (3.934)   (3.678)   (3.657) \n",
      "                                                                                  \n",
      "course_take6           14.938*** 15.009*** 14.279*** 14.577*** 16.545*** 15.923***\n",
      "                        (3.888)   (3.871)   (3.769)   (3.745)   (3.420)   (3.470) \n",
      "                                                                                  \n",
      "sleep                             -0.187    -0.299     0.044    -0.097     0.182  \n",
      "                                  (0.876)   (0.857)   (0.804)   (0.776)   (0.816) \n",
      "                                                                                  \n",
      "work                                        -0.187    -0.158    -0.137    -0.125  \n",
      "                                            (0.194)   (0.191)   (0.183)   (0.179) \n",
      "                                                                                  \n",
      "media                                                 0.005**  0.006***  0.006*** \n",
      "                                                      (0.002)   (0.002)   (0.002) \n",
      "                                                                                  \n",
      "anxiety                                                        -1.567**  -1.682** \n",
      "                                                                (0.778)   (0.764) \n",
      "                                                                                  \n",
      "AI_use                                                                     0.193  \n",
      "                                                                          (0.126) \n",
      "                                                                                  \n",
      "Constant     77.141*** 77.932*** 79.221*** 81.305*** 78.093*** 84.275*** 82.176***\n",
      "              (1.716)   (4.309)   (7.981)   (8.063)   (7.886)   (8.151)   (8.274) \n",
      "                                                                                  \n",
      "----------------------------------------------------------------------------------\n",
      "Observations    92        92        92        92        92        92        92    \n",
      "R2            0.00002    0.075     0.075     0.092     0.131     0.184     0.197  \n",
      "==================================================================================\n",
      "Note:                                                  *p<0.1; **p<0.05; ***p<0.01\n"
     ]
    }
   ],
   "source": [
    "r1a <- lm(GPA_percent ~ all_study, data = df)\n",
    "r2a <- lm(GPA_percent ~ all_study + course_take, data = df)\n",
    "r3a <- lm(GPA_percent ~ all_study + course_take + sleep, data = df)\n",
    "r4a <- lm(GPA_percent ~ all_study + course_take + sleep + work, data = df)\n",
    "r5a <- lm(GPA_percent ~ all_study + course_take + sleep + work + media, data = df)\n",
    "r6a <- lm(GPA_percent ~ all_study + course_take + sleep + work + media + anxiety, data = df)\n",
    "r7a <- lm(GPA_percent ~ all_study + course_take + sleep + work + media + anxiety + AI_use, data = df)\n",
    "\n",
    "se1 <- sqrt(diag(vcovHC(r1a, type=\"HC1\")))\n",
    "se2 <- sqrt(diag(vcovHC(r2a, type=\"HC1\")))\n",
    "se3 <- sqrt(diag(vcovHC(r3a, type=\"HC1\")))\n",
    "se4 <- sqrt(diag(vcovHC(r4a, type=\"HC1\")))\n",
    "se5 <- sqrt(diag(vcovHC(r5a, type=\"HC1\")))\n",
    "se6 <- sqrt(diag(vcovHC(r6a, type=\"HC1\")))\n",
    "se7 <- sqrt(diag(vcovHC(r7a, type=\"HC1\")))\n",
    "\n",
    "ses <- list(se1, se2, se3, se4, se5, se6, se7)\n",
    "\n",
    "stargazer(r1a, r2a, r3a, r4a, r5a, r6a, r7a, \n",
    "          se = ses,\n",
    "          title = \"Comparison of Regression Results\",\n",
    "          align = TRUE, \n",
    "          type = \"text\", \n",
    "          keep.stat = c(\"n\", \"rsq\"))"
   ]
  },
  {
   "cell_type": "code",
   "execution_count": null,
   "metadata": {
    "vscode": {
     "languageId": "r"
    }
   },
   "outputs": [],
   "source": []
  }
 ],
 "metadata": {
  "kernelspec": {
   "display_name": "R",
   "language": "R",
   "name": "ir"
  },
  "language_info": {
   "codemirror_mode": "r",
   "file_extension": ".r",
   "mimetype": "text/x-r-source",
   "name": "R",
   "pygments_lexer": "r",
   "version": "4.3.2"
  }
 },
 "nbformat": 4,
 "nbformat_minor": 2
}
