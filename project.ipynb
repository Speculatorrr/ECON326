{
 "cells": [
  {
   "cell_type": "markdown",
   "metadata": {},
   "source": [
    "# The Effect of Tuition Fees and Financial Stress on Academic Performance\n",
    "### Christin Wang, Manan Shah, Shreya Ladva, Samuel Griffin"
   ]
  },
  {
   "cell_type": "markdown",
   "metadata": {},
   "source": [
    "# 1. Libraries"
   ]
  },
  {
   "cell_type": "code",
   "execution_count": 7,
   "metadata": {
    "vscode": {
     "languageId": "r"
    }
   },
   "outputs": [],
   "source": [
    "library(readxl)\n",
    "library(tidyverse)\n",
    "library(haven)\n",
    "library(dplyr)\n",
    "library(scales)\n",
    "library(stargazer)\n",
    "library(car)\n",
    "library(GGally)\n",
    "library(ggplot2)\n",
    "library(ggcorrplot)\n",
    "library(estimatr)\n",
    "library(sandwich)\n",
    "library(stargazer)\n",
    "library(lmtest)"
   ]
  },
  {
   "cell_type": "markdown",
   "metadata": {},
   "source": [
    "# 2. Data Preperation"
   ]
  },
  {
   "cell_type": "code",
   "execution_count": 14,
   "metadata": {
    "vscode": {
     "languageId": "r"
    }
   },
   "outputs": [],
   "source": [
    "url <- \"https://raw.githubusercontent.com/Speculatorrr/ECON326/d0e554d0459664e17c4489ca8c08f9e1f0e2406c/Student%20Performance%20Survey%20-%20March%202025.xlsx\"\n",
    "temp_file <- tempfile(fileext = \".xlsx\")\n",
    "download.file(url, temp_file, mode = \"wb\")\n",
    "df_ <- read_excel(temp_file)"
   ]
  },
  {
   "cell_type": "code",
   "execution_count": 15,
   "metadata": {
    "vscode": {
     "languageId": "r"
    }
   },
   "outputs": [],
   "source": [
    "colnames(df_) <- c(\n",
    "    \"GPA_percent\", \"GPA_scale\", \"single_study\", \"all_study\", \"exam_prepare\",\n",
    "    \"course_take\", \"course_preference\", \"AI_use\", \"AI_help\", \"review\",\n",
    "    \"hw\", \"sport\", \"club\", \"volunteer\", \"friend\",\n",
    "    \"family\", \"student\", \"tuition\", \"aid\", \"aid_coverage\",\n",
    "    \"job\", \"work\", \"finance\", \"sleep\", \"media\",\n",
    "    \"screen\", \"anxiety\", \"commute\", \"transport\", \"course_mode\",\n",
    "    \"future_work\",\"future_edu\", \"confidence\", \"career\", \"faculty\", \n",
    "    \"ethnicity\", \"year\")"
   ]
  },
  {
   "cell_type": "markdown",
   "metadata": {},
   "source": [
    "1. `GPA_percent`: What is your current cumulative GPA (on a percentage scale)? Example: 75%  \n",
    "2. `GPA_scale`: What is your current GPA on a 4.0 scale (if known)? Example: 3.51  \n",
    "3. `single_study`: How many hours per week do you study for this course? Example: 9  \n",
    "4. `all_study`: How many total hours per week do you study across all your courses? Example: 21  \n",
    "5. `exam_prepare`: How many hours do you spend preparing for exams (excluding regular coursework)? Example: 8  \n",
    "6. `course_take`: How many courses do you take on average per term? Example: 4  \n",
    "7. `course_preference`: Do you prefer courses that focus more on practical applications or theoretical concepts?  \n",
    "8. `AI_use`: How many hours per week do you use ChatGPT or other LLM or AI tools for studying or assignments? Example: 12  \n",
    "9. `AI_help`: How do you feel AI tools like ChatGPT impact your learning? (5 = Strongly helps, 1 = Strongly harms)  \n",
    "10. `review`: How much time per week do you spend on reviewing lecture slides and course materials? Example: 6  \n",
    "11. `hw`: How much time per week do you spend on assignments, problem sets, and practice exercises? Example: 5  \n",
    "12. `sport`: How many hours per week do you spend on sports or fitness activities? Example: 4  \n",
    "13. `club`: How many hours per week do you spend on student clubs or societies? Example: 5  \n",
    "14. `volunteer`: How many hours per week do you spend on volunteering or community service? Example: 3  \n",
    "15. `friend`: How many hours per week do you spend socializing with friends? Example: 6  \n",
    "16. `family`: How many hours per week do you spend socializing with family (online and in-person together)? Example: 8  \n",
    "17. `student`: Are you an international, domestic, or exchange student? If you are an exchange student, just choose \"Exchange\" below.  \n",
    "18. `tuition`: What is your average tuition fee per course? Example: 3200  \n",
    "19. `aid`: Do you receive any scholarships or financial aid?  \n",
    "20. `aid_coverage`: If you receive scholarships or financial aid, what percentage of your tuition does it cover? Example: 50%. If you do not get a scholarship or financial aid, just enter \"0\".  \n",
    "21. `job`: Do you currently have a job while studying?  \n",
    "22. `work`: How many hours per week do you work? Example: 12. Put \"0\" if you are not working.  \n",
    "23. `finance`: Do you feel that your financial situation affects your academic performance? (5 = Significantly affects, 1 = No impact at all)  \n",
    "24. `sleep`: How many hours of sleep do you get on an average night? Example: 6  \n",
    "25. `media`: How much time do you spend daily on social media (in minutes)? Example: 200  \n",
    "26. `screen`: How much time do you spend daily on screens (computer, phone, TV) for non-academic purposes (in minutes)? Example: 120  \n",
    "27. `anxiety`: How often do you feel depressed or anxious these days? (5 = Very frequently, 1 = Never)  \n",
    "28. `commute`: How long is your commute to campus (one way, in minutes)? Example: 25. If you live on campus, just write the walk time on average in minutes to your classes.  \n",
    "29. `transport`: What is your primary mode of transportation to campus?  \n",
    "30. `course_mode`: Do you prefer taking online courses, in-person courses, or a hybrid of both?\n",
    "30. `future_work`: How often do you think about your future employment or career prospects? (5 = Constantly, 1 = Never)  \n",
    "31. `future_edu`: Do you plan to pursue further education (graduate school, professional certification, etc.)?  \n",
    "32. `confidence`: How confident are you in securing a job related to your field of study after graduation? (5 = Very confident, 1 = Not confident at all)  \n",
    "33. `career`: Which career path are you most likely to pursue after graduation? (Select the option that best matches your current career goal)  \n",
    "34. `faculty`: Which faculty are you in? (Select the faculty that best matches your program of study). Faculty of Arts is very vast so please google or use AI.  \n",
    "35. `ethnicity`: What is your ethnicity?  \n",
    "36. `year`: Which year are you in at your undergraduate program at UBC? (1 = First Year, 5 = Fifth Year or beyond)"
   ]
  },
  {
   "cell_type": "code",
   "execution_count": 19,
   "metadata": {
    "vscode": {
     "languageId": "r"
    }
   },
   "outputs": [
    {
     "name": "stderr",
     "output_type": "stream",
     "text": [
      "Warning message:\n",
      "\"强制改变过程中产生了NA\"\n",
      "Warning message:\n",
      "\"强制改变过程中产生了NA\"\n",
      "Warning message in FUN(X[[i]], ...):\n",
      "\"强制改变过程中产生了NA\"\n",
      "Warning message in FUN(X[[i]], ...):\n",
      "\"强制改变过程中产生了NA\"\n",
      "Warning message in FUN(X[[i]], ...):\n",
      "\"强制改变过程中产生了NA\"\n",
      "Warning message in FUN(X[[i]], ...):\n",
      "\"强制改变过程中产生了NA\"\n",
      "Warning message in FUN(X[[i]], ...):\n",
      "\"强制改变过程中产生了NA\"\n",
      "Warning message in FUN(X[[i]], ...):\n",
      "\"强制改变过程中产生了NA\"\n"
     ]
    },
    {
     "name": "stderr",
     "output_type": "stream",
     "text": [
      "Warning message in FUN(X[[i]], ...):\n",
      "\"强制改变过程中产生了NA\"\n",
      "Warning message in FUN(X[[i]], ...):\n",
      "\"强制改变过程中产生了NA\"\n",
      "Warning message in FUN(X[[i]], ...):\n",
      "\"强制改变过程中产生了NA\"\n",
      "Warning message in FUN(X[[i]], ...):\n",
      "\"强制改变过程中产生了NA\"\n",
      "Warning message in FUN(X[[i]], ...):\n",
      "\"强制改变过程中产生了NA\"\n",
      "Warning message in FUN(X[[i]], ...):\n",
      "\"强制改变过程中产生了NA\"\n",
      "Warning message in FUN(X[[i]], ...):\n",
      "\"强制改变过程中产生了NA\"\n",
      "Warning message in FUN(X[[i]], ...):\n",
      "\"强制改变过程中产生了NA\"\n",
      "Warning message in FUN(X[[i]], ...):\n",
      "\"强制改变过程中产生了NA\"\n",
      "Warning message in FUN(X[[i]], ...):\n",
      "\"强制改变过程中产生了NA\"\n",
      "Warning message in FUN(X[[i]], ...):\n",
      "\"强制改变过程中产生了NA\"\n",
      "Warning message in FUN(X[[i]], ...):\n",
      "\"强制改变过程中产生了NA\"\n",
      "Warning message in FUN(X[[i]], ...):\n",
      "\"强制改变过程中产生了NA\"\n"
     ]
    },
    {
     "data": {
      "text/html": [
       "<table class=\"dataframe\">\n",
       "<caption>A tibble: 6 × 37</caption>\n",
       "<thead>\n",
       "\t<tr><th scope=col>GPA_percent</th><th scope=col>GPA_scale</th><th scope=col>single_study</th><th scope=col>all_study</th><th scope=col>exam_prepare</th><th scope=col>course_take</th><th scope=col>course_preference</th><th scope=col>AI_use</th><th scope=col>AI_help</th><th scope=col>review</th><th scope=col>⋯</th><th scope=col>commute</th><th scope=col>transport</th><th scope=col>course_mode</th><th scope=col>future_work</th><th scope=col>future_edu</th><th scope=col>confidence</th><th scope=col>career</th><th scope=col>faculty</th><th scope=col>ethnicity</th><th scope=col>year</th></tr>\n",
       "\t<tr><th scope=col>&lt;dbl&gt;</th><th scope=col>&lt;dbl&gt;</th><th scope=col>&lt;dbl&gt;</th><th scope=col>&lt;dbl&gt;</th><th scope=col>&lt;dbl&gt;</th><th scope=col>&lt;fct&gt;</th><th scope=col>&lt;fct&gt;</th><th scope=col>&lt;dbl&gt;</th><th scope=col>&lt;dbl&gt;</th><th scope=col>&lt;dbl&gt;</th><th scope=col>⋯</th><th scope=col>&lt;dbl&gt;</th><th scope=col>&lt;fct&gt;</th><th scope=col>&lt;fct&gt;</th><th scope=col>&lt;dbl&gt;</th><th scope=col>&lt;fct&gt;</th><th scope=col>&lt;dbl&gt;</th><th scope=col>&lt;fct&gt;</th><th scope=col>&lt;fct&gt;</th><th scope=col>&lt;fct&gt;</th><th scope=col>&lt;dbl&gt;</th></tr>\n",
       "</thead>\n",
       "<tbody>\n",
       "\t<tr><td>86.0</td><td>3.76</td><td>8</td><td>30</td><td>30</td><td>5</td><td>More practical applications</td><td>1</td><td>5</td><td> 2</td><td>⋯</td><td>25</td><td>Public transit</td><td>Hybrid (mix of both)</td><td>3</td><td>Yes   </td><td>3</td><td>Finance, Banking, or Investment</td><td>Faculty of Arts                                                            </td><td>East Asian </td><td>3</td></tr>\n",
       "\t<tr><td>78.6</td><td>3.38</td><td>1</td><td> 5</td><td> 4</td><td>5</td><td>More practical applications</td><td>2</td><td>5</td><td> 1</td><td>⋯</td><td>20</td><td>Walking       </td><td>Online courses      </td><td>5</td><td>Unsure</td><td>1</td><td>Finance, Banking, or Investment</td><td>Faculty of Commerce and Business Administration (Sauder School of Business)</td><td>East Asian </td><td>3</td></tr>\n",
       "\t<tr><td>74.9</td><td>3.10</td><td>4</td><td>20</td><td>20</td><td>5</td><td>More practical applications</td><td>5</td><td>5</td><td> 5</td><td>⋯</td><td>25</td><td>Public transit</td><td>Hybrid (mix of both)</td><td>5</td><td>No    </td><td>3</td><td>Finance, Banking, or Investment</td><td>Faculty of Arts                                                            </td><td>East Asian </td><td>2</td></tr>\n",
       "\t<tr><td>78.0</td><td>3.50</td><td>7</td><td>35</td><td>20</td><td>5</td><td>More practical applications</td><td>2</td><td>4</td><td>10</td><td>⋯</td><td>25</td><td>Public transit</td><td>In-person courses   </td><td>4</td><td>Yes   </td><td>4</td><td>Finance, Banking, or Investment</td><td>Faculty of Arts                                                            </td><td>White      </td><td>2</td></tr>\n",
       "\t<tr><td>79.4</td><td>3.50</td><td>4</td><td>20</td><td> 8</td><td>4</td><td>More practical applications</td><td>4</td><td>4</td><td> 2</td><td>⋯</td><td> 5</td><td>Biking        </td><td>Hybrid (mix of both)</td><td>5</td><td>No    </td><td>4</td><td>Date Science or AI             </td><td>Faculty of Arts                                                            </td><td>South Asian</td><td>2</td></tr>\n",
       "\t<tr><td>74.0</td><td>3.00</td><td>1</td><td> 4</td><td> 7</td><td>5</td><td>More theoretical concepts  </td><td>1</td><td>4</td><td> 1</td><td>⋯</td><td>90</td><td>Public transit</td><td>Hybrid (mix of both)</td><td>4</td><td>Unsure</td><td>2</td><td>Finance, Banking, or Investment</td><td>Faculty of Arts                                                            </td><td>East Asian </td><td>3</td></tr>\n",
       "</tbody>\n",
       "</table>\n"
      ],
      "text/latex": [
       "A tibble: 6 × 37\n",
       "\\begin{tabular}{lllllllllllllllllllll}\n",
       " GPA\\_percent & GPA\\_scale & single\\_study & all\\_study & exam\\_prepare & course\\_take & course\\_preference & AI\\_use & AI\\_help & review & ⋯ & commute & transport & course\\_mode & future\\_work & future\\_edu & confidence & career & faculty & ethnicity & year\\\\\n",
       " <dbl> & <dbl> & <dbl> & <dbl> & <dbl> & <fct> & <fct> & <dbl> & <dbl> & <dbl> & ⋯ & <dbl> & <fct> & <fct> & <dbl> & <fct> & <dbl> & <fct> & <fct> & <fct> & <dbl>\\\\\n",
       "\\hline\n",
       "\t 86.0 & 3.76 & 8 & 30 & 30 & 5 & More practical applications & 1 & 5 &  2 & ⋯ & 25 & Public transit & Hybrid (mix of both) & 3 & Yes    & 3 & Finance, Banking, or Investment & Faculty of Arts                                                             & East Asian  & 3\\\\\n",
       "\t 78.6 & 3.38 & 1 &  5 &  4 & 5 & More practical applications & 2 & 5 &  1 & ⋯ & 20 & Walking        & Online courses       & 5 & Unsure & 1 & Finance, Banking, or Investment & Faculty of Commerce and Business Administration (Sauder School of Business) & East Asian  & 3\\\\\n",
       "\t 74.9 & 3.10 & 4 & 20 & 20 & 5 & More practical applications & 5 & 5 &  5 & ⋯ & 25 & Public transit & Hybrid (mix of both) & 5 & No     & 3 & Finance, Banking, or Investment & Faculty of Arts                                                             & East Asian  & 2\\\\\n",
       "\t 78.0 & 3.50 & 7 & 35 & 20 & 5 & More practical applications & 2 & 4 & 10 & ⋯ & 25 & Public transit & In-person courses    & 4 & Yes    & 4 & Finance, Banking, or Investment & Faculty of Arts                                                             & White       & 2\\\\\n",
       "\t 79.4 & 3.50 & 4 & 20 &  8 & 4 & More practical applications & 4 & 4 &  2 & ⋯ &  5 & Biking         & Hybrid (mix of both) & 5 & No     & 4 & Date Science or AI              & Faculty of Arts                                                             & South Asian & 2\\\\\n",
       "\t 74.0 & 3.00 & 1 &  4 &  7 & 5 & More theoretical concepts   & 1 & 4 &  1 & ⋯ & 90 & Public transit & Hybrid (mix of both) & 4 & Unsure & 2 & Finance, Banking, or Investment & Faculty of Arts                                                             & East Asian  & 3\\\\\n",
       "\\end{tabular}\n"
      ],
      "text/markdown": [
       "\n",
       "A tibble: 6 × 37\n",
       "\n",
       "| GPA_percent &lt;dbl&gt; | GPA_scale &lt;dbl&gt; | single_study &lt;dbl&gt; | all_study &lt;dbl&gt; | exam_prepare &lt;dbl&gt; | course_take &lt;fct&gt; | course_preference &lt;fct&gt; | AI_use &lt;dbl&gt; | AI_help &lt;dbl&gt; | review &lt;dbl&gt; | ⋯ ⋯ | commute &lt;dbl&gt; | transport &lt;fct&gt; | course_mode &lt;fct&gt; | future_work &lt;dbl&gt; | future_edu &lt;fct&gt; | confidence &lt;dbl&gt; | career &lt;fct&gt; | faculty &lt;fct&gt; | ethnicity &lt;fct&gt; | year &lt;dbl&gt; |\n",
       "|---|---|---|---|---|---|---|---|---|---|---|---|---|---|---|---|---|---|---|---|---|\n",
       "| 86.0 | 3.76 | 8 | 30 | 30 | 5 | More practical applications | 1 | 5 |  2 | ⋯ | 25 | Public transit | Hybrid (mix of both) | 3 | Yes    | 3 | Finance, Banking, or Investment | Faculty of Arts                                                             | East Asian  | 3 |\n",
       "| 78.6 | 3.38 | 1 |  5 |  4 | 5 | More practical applications | 2 | 5 |  1 | ⋯ | 20 | Walking        | Online courses       | 5 | Unsure | 1 | Finance, Banking, or Investment | Faculty of Commerce and Business Administration (Sauder School of Business) | East Asian  | 3 |\n",
       "| 74.9 | 3.10 | 4 | 20 | 20 | 5 | More practical applications | 5 | 5 |  5 | ⋯ | 25 | Public transit | Hybrid (mix of both) | 5 | No     | 3 | Finance, Banking, or Investment | Faculty of Arts                                                             | East Asian  | 2 |\n",
       "| 78.0 | 3.50 | 7 | 35 | 20 | 5 | More practical applications | 2 | 4 | 10 | ⋯ | 25 | Public transit | In-person courses    | 4 | Yes    | 4 | Finance, Banking, or Investment | Faculty of Arts                                                             | White       | 2 |\n",
       "| 79.4 | 3.50 | 4 | 20 |  8 | 4 | More practical applications | 4 | 4 |  2 | ⋯ |  5 | Biking         | Hybrid (mix of both) | 5 | No     | 4 | Date Science or AI              | Faculty of Arts                                                             | South Asian | 2 |\n",
       "| 74.0 | 3.00 | 1 |  4 |  7 | 5 | More theoretical concepts   | 1 | 4 |  1 | ⋯ | 90 | Public transit | Hybrid (mix of both) | 4 | Unsure | 2 | Finance, Banking, or Investment | Faculty of Arts                                                             | East Asian  | 3 |\n",
       "\n"
      ],
      "text/plain": [
       "  GPA_percent GPA_scale single_study all_study exam_prepare course_take\n",
       "1 86.0        3.76      8            30        30           5          \n",
       "2 78.6        3.38      1             5         4           5          \n",
       "3 74.9        3.10      4            20        20           5          \n",
       "4 78.0        3.50      7            35        20           5          \n",
       "5 79.4        3.50      4            20         8           4          \n",
       "6 74.0        3.00      1             4         7           5          \n",
       "  course_preference           AI_use AI_help review ⋯ commute transport     \n",
       "1 More practical applications 1      5        2     ⋯ 25      Public transit\n",
       "2 More practical applications 2      5        1     ⋯ 20      Walking       \n",
       "3 More practical applications 5      5        5     ⋯ 25      Public transit\n",
       "4 More practical applications 2      4       10     ⋯ 25      Public transit\n",
       "5 More practical applications 4      4        2     ⋯  5      Biking        \n",
       "6 More theoretical concepts   1      4        1     ⋯ 90      Public transit\n",
       "  course_mode          future_work future_edu confidence\n",
       "1 Hybrid (mix of both) 3           Yes        3         \n",
       "2 Online courses       5           Unsure     1         \n",
       "3 Hybrid (mix of both) 5           No         3         \n",
       "4 In-person courses    4           Yes        4         \n",
       "5 Hybrid (mix of both) 5           No         4         \n",
       "6 Hybrid (mix of both) 4           Unsure     2         \n",
       "  career                         \n",
       "1 Finance, Banking, or Investment\n",
       "2 Finance, Banking, or Investment\n",
       "3 Finance, Banking, or Investment\n",
       "4 Finance, Banking, or Investment\n",
       "5 Date Science or AI             \n",
       "6 Finance, Banking, or Investment\n",
       "  faculty                                                                    \n",
       "1 Faculty of Arts                                                            \n",
       "2 Faculty of Commerce and Business Administration (Sauder School of Business)\n",
       "3 Faculty of Arts                                                            \n",
       "4 Faculty of Arts                                                            \n",
       "5 Faculty of Arts                                                            \n",
       "6 Faculty of Arts                                                            \n",
       "  ethnicity   year\n",
       "1 East Asian  3   \n",
       "2 East Asian  3   \n",
       "3 East Asian  2   \n",
       "4 White       2   \n",
       "5 South Asian 2   \n",
       "6 East Asian  3   "
      ]
     },
     "metadata": {},
     "output_type": "display_data"
    }
   ],
   "source": [
    "df_$GPA_percent <- as.numeric(gsub(\"%\", \"\", df_$GPA_percent))\n",
    "df_$aid_coverage <- as.numeric(gsub(\"%\", \"\", df_$aid_coverage))\n",
    "\n",
    "df_[, c(1:6, 8:16, 18, 20, 22:28, 31, 33, 37)] <- \n",
    "  lapply(df_[, c(1:6, 8:16, 18, 20, 22:28, 31, 33, 37)], function(x) as.numeric(as.character(x)))\n",
    "\n",
    "df_[] <- lapply(df_, function(x) {\n",
    "  if (is.character(x)) as.factor(x) else x\n",
    "})\n",
    "\n",
    "df_ <- df_[-94,]\n",
    "df_$course_take <- factor(round(df_$course_take))\n",
    "df <- filter(df_,\n",
    "  (student == \"Domestic (Canadian student)\" & tuition >= 300 & tuition <= 1000) | \n",
    "  (student != \"Domestic (Canadian student)\"& tuition <= 10000) ) |>\n",
    "  filter(tuition != 0)\n",
    "df <- drop_na(df)\n",
    "df <- df[-37,] #drop the only 6 course person\n",
    "head(df)"
   ]
  },
  {
   "cell_type": "markdown",
   "metadata": {},
   "source": [
    "# 3. Summary Statistics"
   ]
  },
  {
   "cell_type": "code",
   "execution_count": 20,
   "metadata": {
    "vscode": {
     "languageId": "r"
    }
   },
   "outputs": [
    {
     "data": {
      "image/png": "[encoded data removed]",
      "text/plain": [
       "plot without title"
      ]
     },
     "metadata": {
      "image/png": {
       "height": 420,
       "width": 420
      }
     },
     "output_type": "display_data"
    }
   ],
   "source": [
    "numeric_vars <- df[, c(1:5, 8:16, 18, 20, 22:28, 31, 33, 37)]\n",
    "\n",
    "cor_matrix <- cor(numeric_vars, use = \"pairwise.complete.obs\")\n",
    "\n",
    "cor_plot <- ggcorrplot(cor_matrix, hc.order = TRUE, type = \"lower\",\n",
    "           lab = TRUE, lab_size = 2, colors = c(\"blue\", \"white\", \"red\")) \n",
    "\n",
    "\n",
    "cor_plot"
   ]
  },
  {
   "cell_type": "code",
   "execution_count": 21,
   "metadata": {
    "vscode": {
     "languageId": "r"
    }
   },
   "outputs": [
    {
     "data": {
      "text/plain": [
       "  GPA_percent      all_study     course_take    tuition      aid_coverage  \n",
       " Min.   :60.00   Min.   : 4.00   0 : 0       Min.   : 350   Min.   :  0.0  \n",
       " 1st Qu.:72.00   1st Qu.:15.00   1 : 0       1st Qu.: 800   1st Qu.:  0.0  \n",
       " Median :76.25   Median :20.00   3 : 7       Median :4100   Median :  0.0  \n",
       " Mean   :76.84   Mean   :20.09   4 :50       Mean   :3315   Mean   :  8.5  \n",
       " 3rd Qu.:80.30   3rd Qu.:25.00   5 :31       3rd Qu.:4719   3rd Qu.:  0.0  \n",
       " Max.   :99.00   Max.   :60.00   6 : 0       Max.   :7200   Max.   :100.0  \n",
       "                                 66: 0                                     \n",
       "      work            media           anxiety     \n",
       " Min.   : 0.000   Min.   :   2.5   Min.   :1.000  \n",
       " 1st Qu.: 0.000   1st Qu.:  90.0   1st Qu.:3.000  \n",
       " Median : 0.000   Median : 140.0   Median :4.000  \n",
       " Mean   : 2.364   Mean   : 200.5   Mean   :3.455  \n",
       " 3rd Qu.: 0.000   3rd Qu.: 240.0   3rd Qu.:4.000  \n",
       " Max.   :20.000   Max.   :2520.0   Max.   :5.000  \n",
       "                                                  "
      ]
     },
     "metadata": {},
     "output_type": "display_data"
    }
   ],
   "source": [
    "key_var <- df[,c(1,4,6,18,20,22,25,27)]\n",
    "summary(key_var)"
   ]
  },
  {
   "cell_type": "markdown",
   "metadata": {},
   "source": [
    "# 4.Model Specification\n",
    "## 4.1 Study hours\n",
    "- Variabe of interest: total study hours per week across all courses.\n",
    "- Omitted causal effects:\n",
    "    - Tuition fee, students may study harder due to higher tuition\n",
    "    - Course load\n",
    "    - Sleep hours\n",
    "    - Employment, if a student works more, they may have less time to study\n",
    "    - Study effort (can be controlled by social media hours)\n",
    "    - Psychological factors (controlled by anxiety level）\n",
    "    \n",
    "- Plausible alternative models: \n",
    "    It isn't clear which study related variables control best for study effort. As previous studies mentioned social media hours would affect study efficiency, alternative specifications may also include exam preperation hours, review hours and homework writing hours. Besides, other than work hours, other activities may also decrease study hours, like club participation, volunteer hours, family and friend socalizing events."
   ]
  },
  {
   "cell_type": "code",
   "execution_count": 23,
   "metadata": {
    "vscode": {
     "languageId": "r"
    }
   },
   "outputs": [
    {
     "data": {
      "image/png": "[encoded data removed]",
      "text/plain": [
       "plot without title"
      ]
     },
     "metadata": {
      "image/png": {
       "height": 420,
       "width": 420
      }
     },
     "output_type": "display_data"
    }
   ],
   "source": [
    "study <- df |>\n",
    "    ggplot(aes(x = all_study, y = GPA_percent, color = course_take))+\n",
    "    geom_point()+\n",
    "    xlab(\"study (hours per week)\") +\n",
    "    ylab(\"GPA (%)\")+\n",
    "    ggtitle(\"Scatter Plot of Study Hours VS GPA Colored Based on Course Load\")\n",
    "study"
   ]
  },
  {
   "cell_type": "code",
   "execution_count": 24,
   "metadata": {
    "vscode": {
     "languageId": "r"
    }
   },
   "outputs": [
    {
     "name": "stdout",
     "output_type": "stream",
     "text": [
      "\n",
      "Comparison of Regression Results\n",
      "========================================================================\n",
      "                                 Dependent variable:                    \n",
      "             -----------------------------------------------------------\n",
      "                                     GPA_percent                        \n",
      "                (1)       (2)       (3)       (4)       (5)       (6)   \n",
      "------------------------------------------------------------------------\n",
      "all_study      0.006    -0.011    -0.011    -0.026    -0.012     0.019  \n",
      "              (0.065)   (0.066)   (0.068)   (0.070)   (0.073)   (0.074) \n",
      "                                                                        \n",
      "course_take4            -1.148    -1.136    -1.687    -2.229    -2.334  \n",
      "                        (3.875)   (3.861)   (3.837)   (3.814)   (3.297) \n",
      "                                                                        \n",
      "course_take5             1.185     1.198     0.853    -0.196    -1.059  \n",
      "                        (3.971)   (4.024)   (3.891)   (3.795)   (3.381) \n",
      "                                                                        \n",
      "sleep                             -0.025    -0.119     0.294     0.136  \n",
      "                                  (0.867)   (0.851)   (0.780)   (0.743) \n",
      "                                                                        \n",
      "work                                        -0.159    -0.124    -0.090  \n",
      "                                            (0.190)   (0.185)   (0.170) \n",
      "                                                                        \n",
      "media                                                0.006***  0.007*** \n",
      "                                                      (0.002)   (0.002) \n",
      "                                                                        \n",
      "anxiety                                                        -2.048***\n",
      "                                                                (0.654) \n",
      "                                                                        \n",
      "Constant     76.725*** 77.299*** 77.473*** 79.252*** 75.371*** 83.091***\n",
      "              (1.540)   (4.186)   (7.854)   (7.959)   (7.597)   (7.978) \n",
      "                                                                        \n",
      "------------------------------------------------------------------------\n",
      "Observations    88        88        88        88        88        88    \n",
      "R2            0.0001     0.024     0.024     0.038     0.096     0.199  \n",
      "========================================================================\n",
      "Note:                                        *p<0.1; **p<0.05; ***p<0.01\n"
     ]
    }
   ],
   "source": [
    "r1a <- lm(GPA_percent ~ all_study, data = df)\n",
    "r2a <- lm(GPA_percent ~ all_study + course_take, data = df)\n",
    "r3a <- lm(GPA_percent ~ all_study + course_take + sleep, data = df)\n",
    "r4a <- lm(GPA_percent ~ all_study + course_take + sleep + work, data = df)\n",
    "r5a <- lm(GPA_percent ~ all_study + course_take + sleep + work + media, data = df)\n",
    "r6a <- lm(GPA_percent ~ all_study + course_take + sleep + work + media + anxiety, data = df)\n",
    "\n",
    "se1 <- sqrt(diag(vcovHC(r1a, type=\"HC1\")))\n",
    "se2 <- sqrt(diag(vcovHC(r2a, type=\"HC1\")))\n",
    "se3 <- sqrt(diag(vcovHC(r3a, type=\"HC1\")))\n",
    "se4 <- sqrt(diag(vcovHC(r4a, type=\"HC1\")))\n",
    "se5 <- sqrt(diag(vcovHC(r5a, type=\"HC1\")))\n",
    "se6 <- sqrt(diag(vcovHC(r6a, type=\"HC1\")))\n",
    "\n",
    "ses <- list(se1, se2, se3, se4, se5, se6)\n",
    "\n",
    "stargazer(r1a, r2a, r3a, r4a, r5a, r6a, \n",
    "          se = ses,\n",
    "          title = \"Comparison of Regression Results\",\n",
    "          align = TRUE, \n",
    "          type = \"text\", \n",
    "          keep.stat = c(\"n\", \"rsq\"))"
   ]
  },
  {
   "cell_type": "code",
   "execution_count": 25,
   "metadata": {
    "vscode": {
     "languageId": "r"
    }
   },
   "outputs": [
    {
     "data": {
      "text/html": [
       "<table class=\"dataframe\">\n",
       "<caption>A matrix: 6 × 3 of type dbl</caption>\n",
       "<thead>\n",
       "\t<tr><th></th><th scope=col>GVIF</th><th scope=col>Df</th><th scope=col>GVIF^(1/(2*Df))</th></tr>\n",
       "</thead>\n",
       "<tbody>\n",
       "\t<tr><th scope=row>all_study</th><td>1.092178</td><td>1</td><td>1.045073</td></tr>\n",
       "\t<tr><th scope=row>course_take</th><td>1.160083</td><td>2</td><td>1.037821</td></tr>\n",
       "\t<tr><th scope=row>sleep</th><td>1.096758</td><td>1</td><td>1.047262</td></tr>\n",
       "\t<tr><th scope=row>work</th><td>1.087993</td><td>1</td><td>1.043069</td></tr>\n",
       "\t<tr><th scope=row>media</th><td>1.090501</td><td>1</td><td>1.044271</td></tr>\n",
       "\t<tr><th scope=row>anxiety</th><td>1.056616</td><td>1</td><td>1.027918</td></tr>\n",
       "</tbody>\n",
       "</table>\n"
      ],
      "text/latex": [
       "A matrix: 6 × 3 of type dbl\n",
       "\\begin{tabular}{r|lll}\n",
       "  & GVIF & Df & GVIF\\textasciicircum{}(1/(2*Df))\\\\\n",
       "\\hline\n",
       "\tall\\_study & 1.092178 & 1 & 1.045073\\\\\n",
       "\tcourse\\_take & 1.160083 & 2 & 1.037821\\\\\n",
       "\tsleep & 1.096758 & 1 & 1.047262\\\\\n",
       "\twork & 1.087993 & 1 & 1.043069\\\\\n",
       "\tmedia & 1.090501 & 1 & 1.044271\\\\\n",
       "\tanxiety & 1.056616 & 1 & 1.027918\\\\\n",
       "\\end{tabular}\n"
      ],
      "text/markdown": [
       "\n",
       "A matrix: 6 × 3 of type dbl\n",
       "\n",
       "| <!--/--> | GVIF | Df | GVIF^(1/(2*Df)) |\n",
       "|---|---|---|---|\n",
       "| all_study | 1.092178 | 1 | 1.045073 |\n",
       "| course_take | 1.160083 | 2 | 1.037821 |\n",
       "| sleep | 1.096758 | 1 | 1.047262 |\n",
       "| work | 1.087993 | 1 | 1.043069 |\n",
       "| media | 1.090501 | 1 | 1.044271 |\n",
       "| anxiety | 1.056616 | 1 | 1.027918 |\n",
       "\n"
      ],
      "text/plain": [
       "            GVIF     Df GVIF^(1/(2*Df))\n",
       "all_study   1.092178 1  1.045073       \n",
       "course_take 1.160083 2  1.037821       \n",
       "sleep       1.096758 1  1.047262       \n",
       "work        1.087993 1  1.043069       \n",
       "media       1.090501 1  1.044271       \n",
       "anxiety     1.056616 1  1.027918       "
      ]
     },
     "metadata": {},
     "output_type": "display_data"
    }
   ],
   "source": [
    "vif(r6a)"
   ]
  },
  {
   "cell_type": "markdown",
   "metadata": {},
   "source": [
    "No multicollinarity issues detected by the VIF table."
   ]
  },
  {
   "cell_type": "markdown",
   "metadata": {},
   "source": [
    "## 4.2 Tuition Model"
   ]
  },
  {
   "cell_type": "code",
   "execution_count": 26,
   "metadata": {
    "vscode": {
     "languageId": "r"
    }
   },
   "outputs": [
    {
     "name": "stdout",
     "output_type": "stream",
     "text": [
      "\n",
      "Comparison of Regression Results 2\n",
      "========================================================================\n",
      "                                 Dependent variable:                    \n",
      "             -----------------------------------------------------------\n",
      "                                     GPA_percent                        \n",
      "                (1)       (2)       (3)       (4)       (5)       (6)   \n",
      "------------------------------------------------------------------------\n",
      "tuition       -0.001*   -0.001    -0.001    -0.001    -0.001    -0.0004 \n",
      "             (0.0004)  (0.0004)  (0.0004)  (0.0004)  (0.0004)  (0.0004) \n",
      "                                                                        \n",
      "aid_coverage            0.075**   0.075**   0.071**   0.059*     0.046  \n",
      "                        (0.033)   (0.034)   (0.035)   (0.034)   (0.036) \n",
      "                                                                        \n",
      "finance                           -0.113    -0.072    -0.126     0.220  \n",
      "                                  (0.519)   (0.517)   (0.505)   (0.494) \n",
      "                                                                        \n",
      "work                                        -0.114    -0.094    -0.079  \n",
      "                                            (0.166)   (0.168)   (0.158) \n",
      "                                                                        \n",
      "media                                                 0.005*   0.006*** \n",
      "                                                      (0.003)   (0.002) \n",
      "                                                                        \n",
      "anxiety                                                        -1.887***\n",
      "                                                                (0.714) \n",
      "                                                                        \n",
      "Constant     79.232*** 77.967*** 78.238*** 78.579*** 77.626*** 82.728***\n",
      "              (1.513)   (1.520)   (2.005)   (2.202)   (2.058)   (2.937) \n",
      "                                                                        \n",
      "------------------------------------------------------------------------\n",
      "Observations    88        88        88        88        88        88    \n",
      "R2             0.038     0.091     0.091     0.099     0.139     0.221  \n",
      "========================================================================\n",
      "Note:                                        *p<0.1; **p<0.05; ***p<0.01\n"
     ]
    }
   ],
   "source": [
    "r1b <- lm(GPA_percent ~ tuition, data = df)\n",
    "r2b <- lm(GPA_percent ~ tuition + aid_coverage, data = df)\n",
    "r3b <- lm(GPA_percent ~ tuition + aid_coverage + finance, data = df)\n",
    "r4b <- lm(GPA_percent ~ tuition + aid_coverage + finance + work, data = df)\n",
    "r5b <- lm(GPA_percent ~ tuition + aid_coverage + finance + work + media, data = df)\n",
    "r6b <- lm(GPA_percent ~ tuition + aid_coverage + finance + work + media + anxiety, data = df)\n",
    "\n",
    "se1b <- sqrt(diag(vcovHC(r1b, type=\"HC1\")))\n",
    "se2b <- sqrt(diag(vcovHC(r2b, type=\"HC1\")))\n",
    "se3b <- sqrt(diag(vcovHC(r3b, type=\"HC1\")))\n",
    "se4b <- sqrt(diag(vcovHC(r4b, type=\"HC1\")))\n",
    "se5b <- sqrt(diag(vcovHC(r5b, type=\"HC1\")))\n",
    "se6b <- sqrt(diag(vcovHC(r6b, type=\"HC1\")))\n",
    "\n",
    "sesb <- list(se1b, se2b, se3b, se4b, se5b, se6b)\n",
    "\n",
    "stargazer(r1b, r2b, r3b, r4b, r5b, r6b,\n",
    "          se = sesb,\n",
    "          title = \"Comparison of Regression Results 2\",\n",
    "          align = TRUE, \n",
    "          type = \"text\", \n",
    "          keep.stat = c(\"n\", \"rsq\"))"
   ]
  },
  {
   "cell_type": "code",
   "execution_count": 27,
   "metadata": {
    "vscode": {
     "languageId": "r"
    }
   },
   "outputs": [
    {
     "data": {
      "text/html": [
       "<style>\n",
       ".dl-inline {width: auto; margin:0; padding: 0}\n",
       ".dl-inline>dt, .dl-inline>dd {float: none; width: auto; display: inline-block}\n",
       ".dl-inline>dt::after {content: \":\\0020\"; padding-right: .5ex}\n",
       ".dl-inline>dt:not(:first-of-type) {padding-left: .5ex}\n",
       "</style><dl class=dl-inline><dt>tuition</dt><dd>1.12897956571836</dd><dt>aid_coverage</dt><dd>1.12798899692307</dd><dt>finance</dt><dd>1.13521402425446</dd><dt>work</dt><dd>1.04330589317002</dd><dt>media</dt><dd>1.07039950326246</dd><dt>anxiety</dt><dd>1.12613315577757</dd></dl>\n"
      ],
      "text/latex": [
       "\\begin{description*}\n",
       "\\item[tuition] 1.12897956571836\n",
       "\\item[aid\\textbackslash{}\\_coverage] 1.12798899692307\n",
       "\\item[finance] 1.13521402425446\n",
       "\\item[work] 1.04330589317002\n",
       "\\item[media] 1.07039950326246\n",
       "\\item[anxiety] 1.12613315577757\n",
       "\\end{description*}\n"
      ],
      "text/markdown": [
       "tuition\n",
       ":   1.12897956571836aid_coverage\n",
       ":   1.12798899692307finance\n",
       ":   1.13521402425446work\n",
       ":   1.04330589317002media\n",
       ":   1.07039950326246anxiety\n",
       ":   1.12613315577757\n",
       "\n"
      ],
      "text/plain": [
       "     tuition aid_coverage      finance         work        media      anxiety \n",
       "    1.128980     1.127989     1.135214     1.043306     1.070400     1.126133 "
      ]
     },
     "metadata": {},
     "output_type": "display_data"
    }
   ],
   "source": [
    "vif(r6b)"
   ]
  },
  {
   "cell_type": "markdown",
   "metadata": {},
   "source": [
    "No multicollinarity issues detected by the VIF table."
   ]
  },
  {
   "cell_type": "code",
   "execution_count": 28,
   "metadata": {
    "vscode": {
     "languageId": "r"
    }
   },
   "outputs": [
    {
     "data": {
      "image/png": "[encoded data removed]",
      "text/plain": [
       "plot without title"
      ]
     },
     "metadata": {
      "image/png": {
       "height": 420,
       "width": 420
      }
     },
     "output_type": "display_data"
    }
   ],
   "source": [
    "ggplot(df, aes(x = tuition, y = GPA_percent)) +\n",
    "  geom_point(color = \"darkgreen\", size = 3) +\n",
    "  ggtitle(\"Scatter Plot of Tuition Fee vs GPA\") +\n",
    "  xlab(\"Tuition Fee\") +\n",
    "  ylab(\"GPA\")"
   ]
  },
  {
   "cell_type": "markdown",
   "metadata": {},
   "source": [
    "## 4.3 Ftest"
   ]
  },
  {
   "cell_type": "code",
   "execution_count": 29,
   "metadata": {
    "vscode": {
     "languageId": "r"
    }
   },
   "outputs": [
    {
     "data": {
      "text/plain": [
       "\n",
       "t test of coefficients:\n",
       "\n",
       "               Estimate  Std. Error t value Pr(>|t|)    \n",
       "(Intercept) 78.92637868  1.99420514 39.5779  < 2e-16 ***\n",
       "tuition     -0.00072866  0.00038100 -1.9125  0.05918 .  \n",
       "all_study    0.01626731  0.06259127  0.2599  0.79557    \n",
       "---\n",
       "Signif. codes:  0 '***' 0.001 '**' 0.01 '*' 0.05 '.' 0.1 ' ' 1\n"
      ]
     },
     "metadata": {},
     "output_type": "display_data"
    },
    {
     "data": {
      "text/html": [
       "<table class=\"dataframe\">\n",
       "<caption>A anova: 2 × 4</caption>\n",
       "<thead>\n",
       "\t<tr><th></th><th scope=col>Res.Df</th><th scope=col>Df</th><th scope=col>F</th><th scope=col>Pr(&gt;F)</th></tr>\n",
       "\t<tr><th></th><th scope=col>&lt;dbl&gt;</th><th scope=col>&lt;dbl&gt;</th><th scope=col>&lt;dbl&gt;</th><th scope=col>&lt;dbl&gt;</th></tr>\n",
       "</thead>\n",
       "<tbody>\n",
       "\t<tr><th scope=row>1</th><td>87</td><td>NA</td><td>      NA</td><td>       NA</td></tr>\n",
       "\t<tr><th scope=row>2</th><td>85</td><td> 2</td><td>1.867157</td><td>0.1608464</td></tr>\n",
       "</tbody>\n",
       "</table>\n"
      ],
      "text/latex": [
       "A anova: 2 × 4\n",
       "\\begin{tabular}{r|llll}\n",
       "  & Res.Df & Df & F & Pr(>F)\\\\\n",
       "  & <dbl> & <dbl> & <dbl> & <dbl>\\\\\n",
       "\\hline\n",
       "\t1 & 87 & NA &       NA &        NA\\\\\n",
       "\t2 & 85 &  2 & 1.867157 & 0.1608464\\\\\n",
       "\\end{tabular}\n"
      ],
      "text/markdown": [
       "\n",
       "A anova: 2 × 4\n",
       "\n",
       "| <!--/--> | Res.Df &lt;dbl&gt; | Df &lt;dbl&gt; | F &lt;dbl&gt; | Pr(&gt;F) &lt;dbl&gt; |\n",
       "|---|---|---|---|---|\n",
       "| 1 | 87 | NA |       NA |        NA |\n",
       "| 2 | 85 |  2 | 1.867157 | 0.1608464 |\n",
       "\n"
      ],
      "text/plain": [
       "  Res.Df Df F        Pr(>F)   \n",
       "1 87     NA       NA        NA\n",
       "2 85      2 1.867157 0.1608464"
      ]
     },
     "metadata": {},
     "output_type": "display_data"
    }
   ],
   "source": [
    "#1. tuition+study significance test\n",
    "r2c <- lm(GPA_percent ~ tuition + all_study, data = df)\n",
    "coeftest(r2c, vcov=vcovHC(r2c, type=\"HC1\"))\n",
    "\n",
    "linearHypothesis(r2c, c(\"tuition=0\", \"all_study=0\"), white.adjust = \"hc1\")"
   ]
  },
  {
   "cell_type": "code",
   "execution_count": 30,
   "metadata": {
    "vscode": {
     "languageId": "r"
    }
   },
   "outputs": [
    {
     "data": {
      "text/plain": [
       "\n",
       "t test of coefficients:\n",
       "\n",
       "                Estimate  Std. Error t value Pr(>|t|)    \n",
       "(Intercept)  79.19948224  3.62208190 21.8657   <2e-16 ***\n",
       "tuition      -0.00063115  0.00039270 -1.6072   0.1118    \n",
       "course_take4 -0.97409944  3.69754997 -0.2634   0.7929    \n",
       "course_take5  0.80588889  3.78094900  0.2131   0.8317    \n",
       "---\n",
       "Signif. codes:  0 '***' 0.001 '**' 0.01 '*' 0.05 '.' 0.1 ' ' 1\n"
      ]
     },
     "metadata": {},
     "output_type": "display_data"
    },
    {
     "data": {
      "text/html": [
       "<table class=\"dataframe\">\n",
       "<caption>A anova: 2 × 4</caption>\n",
       "<thead>\n",
       "\t<tr><th></th><th scope=col>Res.Df</th><th scope=col>Df</th><th scope=col>F</th><th scope=col>Pr(&gt;F)</th></tr>\n",
       "\t<tr><th></th><th scope=col>&lt;dbl&gt;</th><th scope=col>&lt;dbl&gt;</th><th scope=col>&lt;dbl&gt;</th><th scope=col>&lt;dbl&gt;</th></tr>\n",
       "</thead>\n",
       "<tbody>\n",
       "\t<tr><th scope=row>1</th><td>87</td><td>NA</td><td>      NA</td><td>       NA</td></tr>\n",
       "\t<tr><th scope=row>2</th><td>84</td><td> 3</td><td>1.668868</td><td>0.1798981</td></tr>\n",
       "</tbody>\n",
       "</table>\n"
      ],
      "text/latex": [
       "A anova: 2 × 4\n",
       "\\begin{tabular}{r|llll}\n",
       "  & Res.Df & Df & F & Pr(>F)\\\\\n",
       "  & <dbl> & <dbl> & <dbl> & <dbl>\\\\\n",
       "\\hline\n",
       "\t1 & 87 & NA &       NA &        NA\\\\\n",
       "\t2 & 84 &  3 & 1.668868 & 0.1798981\\\\\n",
       "\\end{tabular}\n"
      ],
      "text/markdown": [
       "\n",
       "A anova: 2 × 4\n",
       "\n",
       "| <!--/--> | Res.Df &lt;dbl&gt; | Df &lt;dbl&gt; | F &lt;dbl&gt; | Pr(&gt;F) &lt;dbl&gt; |\n",
       "|---|---|---|---|---|\n",
       "| 1 | 87 | NA |       NA |        NA |\n",
       "| 2 | 84 |  3 | 1.668868 | 0.1798981 |\n",
       "\n"
      ],
      "text/plain": [
       "  Res.Df Df F        Pr(>F)   \n",
       "1 87     NA       NA        NA\n",
       "2 84      3 1.668868 0.1798981"
      ]
     },
     "metadata": {},
     "output_type": "display_data"
    }
   ],
   "source": [
    "r3c <- lm(GPA_percent ~ tuition + course_take, data = df) \n",
    "coeftest(r3c, vcov=vcovHC(r3c, type=\"HC1\"))\n",
    "linearHypothesis(r3c, c(\"tuition=0\", \"course_take4=0\", \"course_take5=0\"), white.adjust = \"hc1\")"
   ]
  },
  {
   "cell_type": "code",
   "execution_count": 31,
   "metadata": {
    "vscode": {
     "languageId": "r"
    }
   },
   "outputs": [
    {
     "data": {
      "text/plain": [
       "\n",
       "t test of coefficients:\n",
       "\n",
       "                Estimate  Std. Error t value Pr(>|t|)    \n",
       "(Intercept)  77.96743279  1.51961082 51.3075  < 2e-16 ***\n",
       "tuition      -0.00053402  0.00037667 -1.4177  0.15992    \n",
       "aid_coverage  0.07535044  0.03308797  2.2773  0.02528 *  \n",
       "---\n",
       "Signif. codes:  0 '***' 0.001 '**' 0.01 '*' 0.05 '.' 0.1 ' ' 1\n"
      ]
     },
     "metadata": {},
     "output_type": "display_data"
    },
    {
     "data": {
      "text/html": [
       "<table class=\"dataframe\">\n",
       "<caption>A anova: 2 × 4</caption>\n",
       "<thead>\n",
       "\t<tr><th></th><th scope=col>Res.Df</th><th scope=col>Df</th><th scope=col>F</th><th scope=col>Pr(&gt;F)</th></tr>\n",
       "\t<tr><th></th><th scope=col>&lt;dbl&gt;</th><th scope=col>&lt;dbl&gt;</th><th scope=col>&lt;dbl&gt;</th><th scope=col>&lt;dbl&gt;</th></tr>\n",
       "</thead>\n",
       "<tbody>\n",
       "\t<tr><th scope=row>1</th><td>87</td><td>NA</td><td>      NA</td><td>         NA</td></tr>\n",
       "\t<tr><th scope=row>2</th><td>85</td><td> 2</td><td>4.979331</td><td>0.009017463</td></tr>\n",
       "</tbody>\n",
       "</table>\n"
      ],
      "text/latex": [
       "A anova: 2 × 4\n",
       "\\begin{tabular}{r|llll}\n",
       "  & Res.Df & Df & F & Pr(>F)\\\\\n",
       "  & <dbl> & <dbl> & <dbl> & <dbl>\\\\\n",
       "\\hline\n",
       "\t1 & 87 & NA &       NA &          NA\\\\\n",
       "\t2 & 85 &  2 & 4.979331 & 0.009017463\\\\\n",
       "\\end{tabular}\n"
      ],
      "text/markdown": [
       "\n",
       "A anova: 2 × 4\n",
       "\n",
       "| <!--/--> | Res.Df &lt;dbl&gt; | Df &lt;dbl&gt; | F &lt;dbl&gt; | Pr(&gt;F) &lt;dbl&gt; |\n",
       "|---|---|---|---|---|\n",
       "| 1 | 87 | NA |       NA |          NA |\n",
       "| 2 | 85 |  2 | 4.979331 | 0.009017463 |\n",
       "\n"
      ],
      "text/plain": [
       "  Res.Df Df F        Pr(>F)     \n",
       "1 87     NA       NA          NA\n",
       "2 85      2 4.979331 0.009017463"
      ]
     },
     "metadata": {},
     "output_type": "display_data"
    }
   ],
   "source": [
    "r4c <- lm(GPA_percent ~ tuition + aid_coverage, data = df) \n",
    "coeftest(r4c, vcov=vcovHC(r4c, type=\"HC1\"))\n",
    "linearHypothesis(r4c, c(\"aid_coverage=0\", \"tuition=0\"), white.adjust = \"hc1\")"
   ]
  },
  {
   "cell_type": "markdown",
   "metadata": {},
   "source": [
    "## 4.4 Combined model & Final Table"
   ]
  },
  {
   "cell_type": "code",
   "execution_count": 32,
   "metadata": {
    "vscode": {
     "languageId": "r"
    }
   },
   "outputs": [
    {
     "name": "stdout",
     "output_type": "stream",
     "text": [
      "\n",
      "Comparison of Regression Results 3\n",
      "==================================================================================\n",
      "                                      Dependent variable:                         \n",
      "             ---------------------------------------------------------------------\n",
      "                                          GPA_percent                             \n",
      "                (1)       (2)       (3)       (4)       (5)       (6)       (7)   \n",
      "----------------------------------------------------------------------------------\n",
      "tuition       -0.001*   -0.001    -0.001    -0.0005   -0.001    -0.0005   -0.0004 \n",
      "             (0.0004)  (0.0004)  (0.0004)  (0.0004)  (0.0004)  (0.0004)  (0.0004) \n",
      "                                                                                  \n",
      "aid_coverage            0.075**   0.075**   0.072**   0.067*     0.056     0.043  \n",
      "                        (0.033)   (0.033)   (0.034)   (0.036)   (0.035)   (0.036) \n",
      "                                                                                  \n",
      "all_study                0.016     0.016     0.005    -0.007    -0.0001    0.025  \n",
      "                        (0.062)   (0.062)   (0.065)   (0.067)   (0.068)   (0.070) \n",
      "                                                                                  \n",
      "course_take4                                -0.798    -1.306    -1.661    -1.926  \n",
      "                                            (3.561)   (3.566)   (3.579)   (3.233) \n",
      "                                                                                  \n",
      "course_take5                                 0.617     0.279    -0.355    -1.131  \n",
      "                                            (3.591)   (3.475)   (3.432)   (3.169) \n",
      "                                                                                  \n",
      "work                                                  -0.135    -0.117    -0.086  \n",
      "                                                      (0.184)   (0.186)   (0.173) \n",
      "                                                                                  \n",
      "media                                                           0.005*   0.006*** \n",
      "                                                                (0.003)   (0.002) \n",
      "                                                                                  \n",
      "anxiety                                                                  -1.842***\n",
      "                                                                          (0.687) \n",
      "                                                                                  \n",
      "Constant     79.232*** 77.661*** 77.661*** 77.928*** 79.047*** 78.339*** 84.042***\n",
      "              (1.513)   (1.977)   (1.977)   (3.807)   (4.172)   (4.208)   (4.653) \n",
      "                                                                                  \n",
      "----------------------------------------------------------------------------------\n",
      "Observations    88        88        88        88        88        88        88    \n",
      "R2             0.038     0.091     0.091     0.100     0.110     0.148     0.228  \n",
      "==================================================================================\n",
      "Note:                                                  *p<0.1; **p<0.05; ***p<0.01\n"
     ]
    }
   ],
   "source": [
    "r0d <- lm(GPA_percent ~ tuition, data = df)\n",
    "r1d <- lm(GPA_percent ~ tuition + aid_coverage + all_study, data = df)\n",
    "r2d <- lm(GPA_percent ~ tuition + aid_coverage + all_study, data = df)\n",
    "r3d <- lm(GPA_percent ~ tuition + aid_coverage + all_study + course_take, data = df)\n",
    "r4d <- lm(GPA_percent ~ tuition + aid_coverage + all_study + course_take + work, data = df)\n",
    "r5d <- lm(GPA_percent ~ tuition + aid_coverage + all_study + course_take + work + media, data = df)\n",
    "r6d <- lm(GPA_percent ~ tuition + aid_coverage + all_study + course_take + work + media + anxiety, data = df)\n",
    "\n",
    "se0d <- sqrt(diag(vcovHC(r0d, type = \"HC1\")))\n",
    "se1d <- sqrt(diag(vcovHC(r1d, type = \"HC1\")))\n",
    "se2d <- sqrt(diag(vcovHC(r2d, type = \"HC1\")))\n",
    "se3d <- sqrt(diag(vcovHC(r3d, type = \"HC1\")))\n",
    "se4d <- sqrt(diag(vcovHC(r4d, type = \"HC1\")))\n",
    "se5d <- sqrt(diag(vcovHC(r5d, type = \"HC1\")))\n",
    "se6d <- sqrt(diag(vcovHC(r6d, type = \"HC1\")))\n",
    "\n",
    "sesd <- list(se0d, se1d, se2d, se3d, se4d, se5d, se6d)\n",
    "stargazer(r0d, r1d, r2d, r3d, r4d, r5d, r6d,\n",
    "          se = sesd,\n",
    "          title = \"Comparison of Regression Results 3\",\n",
    "          align = TRUE, \n",
    "          type = \"text\", \n",
    "          keep.stat = c(\"n\", \"rsq\"))\n"
   ]
  },
  {
   "cell_type": "markdown",
   "metadata": {},
   "source": [
    "# 5. Specifications and Robustness Check"
   ]
  },
  {
   "cell_type": "markdown",
   "metadata": {},
   "source": [
    "## 5.1 Specifications Test"
   ]
  },
  {
   "cell_type": "code",
   "execution_count": 42,
   "metadata": {
    "vscode": {
     "languageId": "r"
    }
   },
   "outputs": [
    {
     "data": {
      "text/html": [
       "<table class=\"dataframe\">\n",
       "<caption>A matrix: 7 × 3 of type dbl</caption>\n",
       "<thead>\n",
       "\t<tr><th></th><th scope=col>GVIF</th><th scope=col>Df</th><th scope=col>GVIF^(1/(2*Df))</th></tr>\n",
       "</thead>\n",
       "<tbody>\n",
       "\t<tr><th scope=row>tuition</th><td>1.120108</td><td>1</td><td>1.058352</td></tr>\n",
       "\t<tr><th scope=row>aid_coverage</th><td>1.137676</td><td>1</td><td>1.066619</td></tr>\n",
       "\t<tr><th scope=row>all_study</th><td>1.084411</td><td>1</td><td>1.041351</td></tr>\n",
       "\t<tr><th scope=row>course_take</th><td>1.177737</td><td>2</td><td>1.041747</td></tr>\n",
       "\t<tr><th scope=row>work</th><td>1.097356</td><td>1</td><td>1.047548</td></tr>\n",
       "\t<tr><th scope=row>media</th><td>1.096064</td><td>1</td><td>1.046931</td></tr>\n",
       "\t<tr><th scope=row>anxiety</th><td>1.093550</td><td>1</td><td>1.045729</td></tr>\n",
       "</tbody>\n",
       "</table>\n"
      ],
      "text/latex": [
       "A matrix: 7 × 3 of type dbl\n",
       "\\begin{tabular}{r|lll}\n",
       "  & GVIF & Df & GVIF\\textasciicircum{}(1/(2*Df))\\\\\n",
       "\\hline\n",
       "\ttuition & 1.120108 & 1 & 1.058352\\\\\n",
       "\taid\\_coverage & 1.137676 & 1 & 1.066619\\\\\n",
       "\tall\\_study & 1.084411 & 1 & 1.041351\\\\\n",
       "\tcourse\\_take & 1.177737 & 2 & 1.041747\\\\\n",
       "\twork & 1.097356 & 1 & 1.047548\\\\\n",
       "\tmedia & 1.096064 & 1 & 1.046931\\\\\n",
       "\tanxiety & 1.093550 & 1 & 1.045729\\\\\n",
       "\\end{tabular}\n"
      ],
      "text/markdown": [
       "\n",
       "A matrix: 7 × 3 of type dbl\n",
       "\n",
       "| <!--/--> | GVIF | Df | GVIF^(1/(2*Df)) |\n",
       "|---|---|---|---|\n",
       "| tuition | 1.120108 | 1 | 1.058352 |\n",
       "| aid_coverage | 1.137676 | 1 | 1.066619 |\n",
       "| all_study | 1.084411 | 1 | 1.041351 |\n",
       "| course_take | 1.177737 | 2 | 1.041747 |\n",
       "| work | 1.097356 | 1 | 1.047548 |\n",
       "| media | 1.096064 | 1 | 1.046931 |\n",
       "| anxiety | 1.093550 | 1 | 1.045729 |\n",
       "\n"
      ],
      "text/plain": [
       "             GVIF     Df GVIF^(1/(2*Df))\n",
       "tuition      1.120108 1  1.058352       \n",
       "aid_coverage 1.137676 1  1.066619       \n",
       "all_study    1.084411 1  1.041351       \n",
       "course_take  1.177737 2  1.041747       \n",
       "work         1.097356 1  1.047548       \n",
       "media        1.096064 1  1.046931       \n",
       "anxiety      1.093550 1  1.045729       "
      ]
     },
     "metadata": {},
     "output_type": "display_data"
    }
   ],
   "source": [
    "vif(r6d)"
   ]
  },
  {
   "cell_type": "code",
   "execution_count": 34,
   "metadata": {
    "vscode": {
     "languageId": "r"
    }
   },
   "outputs": [],
   "source": [
    "r6d_aid_coverage_work <- lm(GPA_percent ~ tuition + aid_coverage + all_study + course_take + work + media + anxiety + aid_coverage:work, data = df)"
   ]
  },
  {
   "cell_type": "code",
   "execution_count": 35,
   "metadata": {
    "vscode": {
     "languageId": "r"
    }
   },
   "outputs": [
    {
     "data": {
      "text/plain": [
       "\n",
       "t test of coefficients:\n",
       "\n",
       "                     Estimate  Std. Error t value  Pr(>|t|)    \n",
       "(Intercept)       84.70122333  4.54592039 18.6324 < 2.2e-16 ***\n",
       "tuition           -0.00040571  0.00039692 -1.0221  0.309880    \n",
       "aid_coverage       0.02629166  0.03589012  0.7326  0.466023    \n",
       "all_study          0.00597999  0.06882900  0.0869  0.930988    \n",
       "course_take4      -2.61487735  3.17484496 -0.8236  0.412665    \n",
       "course_take5      -1.60487312  3.15577310 -0.5086  0.612502    \n",
       "work              -0.19534137  0.14280546 -1.3679  0.175276    \n",
       "media              0.00602600  0.00221278  2.7233  0.007973 ** \n",
       "anxiety           -1.67648396  0.68289538 -2.4550  0.016316 *  \n",
       "aid_coverage:work  0.02858971  0.01256406  2.2755  0.025620 *  \n",
       "---\n",
       "Signif. codes:  0 '***' 0.001 '**' 0.01 '*' 0.05 '.' 0.1 ' ' 1\n"
      ]
     },
     "metadata": {},
     "output_type": "display_data"
    },
    {
     "data": {
      "text/html": [
       "<table class=\"dataframe\">\n",
       "<caption>A anova: 2 × 4</caption>\n",
       "<thead>\n",
       "\t<tr><th></th><th scope=col>Res.Df</th><th scope=col>Df</th><th scope=col>F</th><th scope=col>Pr(&gt;F)</th></tr>\n",
       "\t<tr><th></th><th scope=col>&lt;dbl&gt;</th><th scope=col>&lt;dbl&gt;</th><th scope=col>&lt;dbl&gt;</th><th scope=col>&lt;dbl&gt;</th></tr>\n",
       "</thead>\n",
       "<tbody>\n",
       "\t<tr><th scope=row>1</th><td>79</td><td>NA</td><td>     NA</td><td>        NA</td></tr>\n",
       "\t<tr><th scope=row>2</th><td>78</td><td> 1</td><td>5.17797</td><td>0.02561994</td></tr>\n",
       "</tbody>\n",
       "</table>\n"
      ],
      "text/latex": [
       "A anova: 2 × 4\n",
       "\\begin{tabular}{r|llll}\n",
       "  & Res.Df & Df & F & Pr(>F)\\\\\n",
       "  & <dbl> & <dbl> & <dbl> & <dbl>\\\\\n",
       "\\hline\n",
       "\t1 & 79 & NA &      NA &         NA\\\\\n",
       "\t2 & 78 &  1 & 5.17797 & 0.02561994\\\\\n",
       "\\end{tabular}\n"
      ],
      "text/markdown": [
       "\n",
       "A anova: 2 × 4\n",
       "\n",
       "| <!--/--> | Res.Df &lt;dbl&gt; | Df &lt;dbl&gt; | F &lt;dbl&gt; | Pr(&gt;F) &lt;dbl&gt; |\n",
       "|---|---|---|---|---|\n",
       "| 1 | 79 | NA |      NA |         NA |\n",
       "| 2 | 78 |  1 | 5.17797 | 0.02561994 |\n",
       "\n"
      ],
      "text/plain": [
       "  Res.Df Df F       Pr(>F)    \n",
       "1 79     NA      NA         NA\n",
       "2 78      1 5.17797 0.02561994"
      ]
     },
     "metadata": {},
     "output_type": "display_data"
    }
   ],
   "source": [
    "coeftest(r6d_aid_coverage_work, vcov=vcovHC(r6d_aid_coverage_work, type=\"HC1\"))\n",
    "linearHypothesis(r6d_aid_coverage_work, c(\"aid_coverage:work=0\"), white.adjust = \"hc1\")"
   ]
  },
  {
   "cell_type": "code",
   "execution_count": 46,
   "metadata": {
    "vscode": {
     "languageId": "r"
    }
   },
   "outputs": [
    {
     "name": "stdout",
     "output_type": "stream",
     "text": [
      "\n",
      "Comparison of Regression Results 3\n",
      "=================================================================================================\n",
      "                                                Dependent variable:                              \n",
      "                  -------------------------------------------------------------------------------\n",
      "                                                    GPA_percent                                  \n",
      "                     (1)       (2)       (3)       (4)       (5)       (6)       (7)       (8)   \n",
      "-------------------------------------------------------------------------------------------------\n",
      "tuition            -0.001*   -0.001    -0.001    -0.0005   -0.001    -0.0005   -0.0004   -0.0004 \n",
      "                  (0.0004)  (0.0004)  (0.0004)  (0.0004)  (0.0004)  (0.0004)  (0.0004)  (0.0004) \n",
      "                                                                                                 \n",
      "aid_coverage                 0.075**   0.075**   0.072**   0.067*     0.056     0.043     0.026  \n",
      "                             (0.033)   (0.033)   (0.034)   (0.036)   (0.035)   (0.036)   (0.036) \n",
      "                                                                                                 \n",
      "all_study                     0.016     0.016     0.005    -0.007    -0.0001    0.025     0.006  \n",
      "                             (0.062)   (0.062)   (0.065)   (0.067)   (0.068)   (0.070)   (0.069) \n",
      "                                                                                                 \n",
      "course_take4                                     -0.798    -1.306    -1.661    -1.926    -2.615  \n",
      "                                                 (3.561)   (3.566)   (3.579)   (3.233)   (3.175) \n",
      "                                                                                                 \n",
      "course_take5                                      0.617     0.279    -0.355    -1.131    -1.605  \n",
      "                                                 (3.591)   (3.475)   (3.432)   (3.169)   (3.156) \n",
      "                                                                                                 \n",
      "work                                                       -0.135    -0.117    -0.086    -0.195  \n",
      "                                                           (0.184)   (0.186)   (0.173)   (0.143) \n",
      "                                                                                                 \n",
      "media                                                                0.005*   0.006***  0.006*** \n",
      "                                                                     (0.003)   (0.002)   (0.002) \n",
      "                                                                                                 \n",
      "anxiety                                                                       -1.842*** -1.676** \n",
      "                                                                               (0.687)   (0.683) \n",
      "                                                                                                 \n",
      "aid_coverage:work                                                                        0.029** \n",
      "                                                                                         (0.013) \n",
      "                                                                                                 \n",
      "Constant          79.232*** 77.661*** 77.661*** 77.928*** 79.047*** 78.339*** 84.042*** 84.701***\n",
      "                   (1.513)   (1.977)   (1.977)   (3.807)   (4.172)   (4.208)   (4.653)   (4.546) \n",
      "                                                                                                 \n",
      "-------------------------------------------------------------------------------------------------\n",
      "Observations         88        88        88        88        88        88        88        88    \n",
      "R2                  0.038     0.091     0.091     0.100     0.110     0.148     0.228     0.265  \n",
      "=================================================================================================\n",
      "Note:                                                                 *p<0.1; **p<0.05; ***p<0.01\n"
     ]
    }
   ],
   "source": [
    "r0d <- lm(GPA_percent ~ tuition, data = df)\n",
    "r1d <- lm(GPA_percent ~ tuition + aid_coverage + all_study, data = df)\n",
    "r2d <- lm(GPA_percent ~ tuition + aid_coverage + all_study, data = df)\n",
    "r3d <- lm(GPA_percent ~ tuition + aid_coverage + all_study + course_take, data = df)\n",
    "r4d <- lm(GPA_percent ~ tuition + aid_coverage + all_study + course_take + work, data = df)\n",
    "r5d <- lm(GPA_percent ~ tuition + aid_coverage + all_study + course_take + work + media, data = df)\n",
    "r6d <- lm(GPA_percent ~ tuition + aid_coverage + all_study + course_take + work + media + anxiety, data = df)\n",
    "r7d <- lm(GPA_percent ~ tuition + aid_coverage + all_study + course_take + work + media + anxiety + aid_coverage:work, data = df)\n",
    "\n",
    "se0d <- sqrt(diag(vcovHC(r0d, type = \"HC1\")))\n",
    "se1d <- sqrt(diag(vcovHC(r1d, type = \"HC1\")))\n",
    "se2d <- sqrt(diag(vcovHC(r2d, type = \"HC1\")))\n",
    "se3d <- sqrt(diag(vcovHC(r3d, type = \"HC1\")))\n",
    "se4d <- sqrt(diag(vcovHC(r4d, type = \"HC1\")))\n",
    "se5d <- sqrt(diag(vcovHC(r5d, type = \"HC1\")))\n",
    "se6d <- sqrt(diag(vcovHC(r6d, type = \"HC1\")))\n",
    "se7d <- sqrt(diag(vcovHC(r7d, type = \"HC1\")))\n",
    "\n",
    "sesd <- list(se0d, se1d, se2d, se3d, se4d, se5d, se6d, se7d)\n",
    "stargazer(r0d, r1d, r2d, r3d, r4d, r5d, r6d, r7d,\n",
    "          se = sesd,\n",
    "          title = \"Comparison of Regression Results 3\",\n",
    "          align = TRUE, \n",
    "          type = \"text\", \n",
    "          keep.stat = c(\"n\", \"rsq\"))"
   ]
  },
  {
   "cell_type": "code",
   "execution_count": 41,
   "metadata": {
    "vscode": {
     "languageId": "r"
    }
   },
   "outputs": [
    {
     "name": "stderr",
     "output_type": "stream",
     "text": [
      "there are higher-order terms (interactions) in this model\n",
      "consider setting type = 'predictor'; see ?vif\n",
      "\n"
     ]
    },
    {
     "data": {
      "text/html": [
       "<table class=\"dataframe\">\n",
       "<caption>A matrix: 8 × 3 of type dbl</caption>\n",
       "<thead>\n",
       "\t<tr><th></th><th scope=col>GVIF</th><th scope=col>Df</th><th scope=col>GVIF^(1/(2*Df))</th></tr>\n",
       "</thead>\n",
       "<tbody>\n",
       "\t<tr><th scope=row>tuition</th><td>1.123583</td><td>1</td><td>1.059992</td></tr>\n",
       "\t<tr><th scope=row>aid_coverage</th><td>1.207560</td><td>1</td><td>1.098890</td></tr>\n",
       "\t<tr><th scope=row>all_study</th><td>1.103814</td><td>1</td><td>1.050625</td></tr>\n",
       "\t<tr><th scope=row>course_take</th><td>1.200290</td><td>2</td><td>1.046698</td></tr>\n",
       "\t<tr><th scope=row>work</th><td>1.288199</td><td>1</td><td>1.134989</td></tr>\n",
       "\t<tr><th scope=row>media</th><td>1.096384</td><td>1</td><td>1.047084</td></tr>\n",
       "\t<tr><th scope=row>anxiety</th><td>1.112527</td><td>1</td><td>1.054764</td></tr>\n",
       "\t<tr><th scope=row>aid_coverage:work</th><td>1.239123</td><td>1</td><td>1.113159</td></tr>\n",
       "</tbody>\n",
       "</table>\n"
      ],
      "text/latex": [
       "A matrix: 8 × 3 of type dbl\n",
       "\\begin{tabular}{r|lll}\n",
       "  & GVIF & Df & GVIF\\textasciicircum{}(1/(2*Df))\\\\\n",
       "\\hline\n",
       "\ttuition & 1.123583 & 1 & 1.059992\\\\\n",
       "\taid\\_coverage & 1.207560 & 1 & 1.098890\\\\\n",
       "\tall\\_study & 1.103814 & 1 & 1.050625\\\\\n",
       "\tcourse\\_take & 1.200290 & 2 & 1.046698\\\\\n",
       "\twork & 1.288199 & 1 & 1.134989\\\\\n",
       "\tmedia & 1.096384 & 1 & 1.047084\\\\\n",
       "\tanxiety & 1.112527 & 1 & 1.054764\\\\\n",
       "\taid\\_coverage:work & 1.239123 & 1 & 1.113159\\\\\n",
       "\\end{tabular}\n"
      ],
      "text/markdown": [
       "\n",
       "A matrix: 8 × 3 of type dbl\n",
       "\n",
       "| <!--/--> | GVIF | Df | GVIF^(1/(2*Df)) |\n",
       "|---|---|---|---|\n",
       "| tuition | 1.123583 | 1 | 1.059992 |\n",
       "| aid_coverage | 1.207560 | 1 | 1.098890 |\n",
       "| all_study | 1.103814 | 1 | 1.050625 |\n",
       "| course_take | 1.200290 | 2 | 1.046698 |\n",
       "| work | 1.288199 | 1 | 1.134989 |\n",
       "| media | 1.096384 | 1 | 1.047084 |\n",
       "| anxiety | 1.112527 | 1 | 1.054764 |\n",
       "| aid_coverage:work | 1.239123 | 1 | 1.113159 |\n",
       "\n"
      ],
      "text/plain": [
       "                  GVIF     Df GVIF^(1/(2*Df))\n",
       "tuition           1.123583 1  1.059992       \n",
       "aid_coverage      1.207560 1  1.098890       \n",
       "all_study         1.103814 1  1.050625       \n",
       "course_take       1.200290 2  1.046698       \n",
       "work              1.288199 1  1.134989       \n",
       "media             1.096384 1  1.047084       \n",
       "anxiety           1.112527 1  1.054764       \n",
       "aid_coverage:work 1.239123 1  1.113159       "
      ]
     },
     "metadata": {},
     "output_type": "display_data"
    }
   ],
   "source": [
    "vif(r6d_aid_coverage_work)"
   ]
  },
  {
   "cell_type": "code",
   "execution_count": 40,
   "metadata": {
    "vscode": {
     "languageId": "r"
    }
   },
   "outputs": [
    {
     "data": {
      "text/plain": [
       "\n",
       "\tstudentized Breusch-Pagan test\n",
       "\n",
       "data:  r6d\n",
       "BP = 1.1707, df = 2, p-value = 0.5569\n"
      ]
     },
     "metadata": {},
     "output_type": "display_data"
    },
    {
     "data": {
      "text/plain": [
       "\n",
       "\tstudentized Breusch-Pagan test\n",
       "\n",
       "data:  r6d_aid_coverage_work\n",
       "BP = 1.6611, df = 2, p-value = 0.4358\n"
      ]
     },
     "metadata": {},
     "output_type": "display_data"
    }
   ],
   "source": [
    "#hetero for combine model\n",
    "h1 <- bptest(r6d, ~ fitted(r6d) + I(fitted(r6d)^2))\n",
    "h2 <- bptest(r6d_aid_coverage_work, ~ fitted(r6d_aid_coverage_work) + I(fitted(r6d_aid_coverage_work)^2))\n",
    "h1\n",
    "h2"
   ]
  },
  {
   "cell_type": "markdown",
   "metadata": {},
   "source": [
    "## 5.2 Robustness Check"
   ]
  },
  {
   "cell_type": "code",
   "execution_count": 36,
   "metadata": {
    "vscode": {
     "languageId": "r"
    }
   },
   "outputs": [],
   "source": [
    "robustness_aid <- lm(GPA_percent ~ tuition + aid + all_study + course_take + work + media + anxiety, data = df)\n",
    "robustness_aid_2 <- lm(GPA_percent ~ tuition + aid + all_study + course_take + work + media + anxiety + aid:work, data = df)\n",
    "robustness_aid_3 <- lm(GPA_percent ~ tuition + aid + all_study + course_take + work + media + anxiety + aid_coverage:work, data = df)"
   ]
  },
  {
   "cell_type": "code",
   "execution_count": 37,
   "metadata": {
    "vscode": {
     "languageId": "r"
    }
   },
   "outputs": [
    {
     "data": {
      "text/html": [
       "<table class=\"dataframe\">\n",
       "<caption>A data.frame: 4 × 2</caption>\n",
       "<thead>\n",
       "\t<tr><th></th><th scope=col>df</th><th scope=col>AIC</th></tr>\n",
       "\t<tr><th></th><th scope=col>&lt;dbl&gt;</th><th scope=col>&lt;dbl&gt;</th></tr>\n",
       "</thead>\n",
       "<tbody>\n",
       "\t<tr><th scope=row>r6d</th><td>10</td><td>587.8626</td></tr>\n",
       "\t<tr><th scope=row>robustness_aid</th><td>10</td><td>584.7315</td></tr>\n",
       "\t<tr><th scope=row>robustness_aid_2</th><td>11</td><td>583.5658</td></tr>\n",
       "\t<tr><th scope=row>robustness_aid_3</th><td>11</td><td>583.9017</td></tr>\n",
       "</tbody>\n",
       "</table>\n"
      ],
      "text/latex": [
       "A data.frame: 4 × 2\n",
       "\\begin{tabular}{r|ll}\n",
       "  & df & AIC\\\\\n",
       "  & <dbl> & <dbl>\\\\\n",
       "\\hline\n",
       "\tr6d & 10 & 587.8626\\\\\n",
       "\trobustness\\_aid & 10 & 584.7315\\\\\n",
       "\trobustness\\_aid\\_2 & 11 & 583.5658\\\\\n",
       "\trobustness\\_aid\\_3 & 11 & 583.9017\\\\\n",
       "\\end{tabular}\n"
      ],
      "text/markdown": [
       "\n",
       "A data.frame: 4 × 2\n",
       "\n",
       "| <!--/--> | df &lt;dbl&gt; | AIC &lt;dbl&gt; |\n",
       "|---|---|---|\n",
       "| r6d | 10 | 587.8626 |\n",
       "| robustness_aid | 10 | 584.7315 |\n",
       "| robustness_aid_2 | 11 | 583.5658 |\n",
       "| robustness_aid_3 | 11 | 583.9017 |\n",
       "\n"
      ],
      "text/plain": [
       "                 df AIC     \n",
       "r6d              10 587.8626\n",
       "robustness_aid   10 584.7315\n",
       "robustness_aid_2 11 583.5658\n",
       "robustness_aid_3 11 583.9017"
      ]
     },
     "metadata": {},
     "output_type": "display_data"
    }
   ],
   "source": [
    "AIC(r6d, robustness_aid, robustness_aid_2, robustness_aid_3)"
   ]
  },
  {
   "cell_type": "code",
   "execution_count": 44,
   "metadata": {
    "vscode": {
     "languageId": "r"
    }
   },
   "outputs": [
    {
     "data": {
      "text/html": [
       "<table class=\"dataframe\">\n",
       "<caption>A data.frame: 4 × 2</caption>\n",
       "<thead>\n",
       "\t<tr><th></th><th scope=col>df</th><th scope=col>AIC</th></tr>\n",
       "\t<tr><th></th><th scope=col>&lt;dbl&gt;</th><th scope=col>&lt;dbl&gt;</th></tr>\n",
       "</thead>\n",
       "<tbody>\n",
       "\t<tr><th scope=row>r6d</th><td>10</td><td>587.8626</td></tr>\n",
       "\t<tr><th scope=row>r6d_aid_coverage_work</th><td>11</td><td>585.5118</td></tr>\n",
       "\t<tr><th scope=row>robust_scale1</th><td>10</td><td>117.9951</td></tr>\n",
       "\t<tr><th scope=row>robust_scale2</th><td>11</td><td>119.9940</td></tr>\n",
       "</tbody>\n",
       "</table>\n"
      ],
      "text/latex": [
       "A data.frame: 4 × 2\n",
       "\\begin{tabular}{r|ll}\n",
       "  & df & AIC\\\\\n",
       "  & <dbl> & <dbl>\\\\\n",
       "\\hline\n",
       "\tr6d & 10 & 587.8626\\\\\n",
       "\tr6d\\_aid\\_coverage\\_work & 11 & 585.5118\\\\\n",
       "\trobust\\_scale1 & 10 & 117.9951\\\\\n",
       "\trobust\\_scale2 & 11 & 119.9940\\\\\n",
       "\\end{tabular}\n"
      ],
      "text/markdown": [
       "\n",
       "A data.frame: 4 × 2\n",
       "\n",
       "| <!--/--> | df &lt;dbl&gt; | AIC &lt;dbl&gt; |\n",
       "|---|---|---|\n",
       "| r6d | 10 | 587.8626 |\n",
       "| r6d_aid_coverage_work | 11 | 585.5118 |\n",
       "| robust_scale1 | 10 | 117.9951 |\n",
       "| robust_scale2 | 11 | 119.9940 |\n",
       "\n"
      ],
      "text/plain": [
       "                      df AIC     \n",
       "r6d                   10 587.8626\n",
       "r6d_aid_coverage_work 11 585.5118\n",
       "robust_scale1         10 117.9951\n",
       "robust_scale2         11 119.9940"
      ]
     },
     "metadata": {},
     "output_type": "display_data"
    }
   ],
   "source": [
    "robust_scale1 <- lm(GPA_scale ~ tuition + aid + all_study + course_take + work + media + anxiety, data = df)\n",
    "robust_scale2 <- lm(GPA_scale ~ tuition + aid + all_study + course_take + work + media + anxiety + aid_coverage:work, data = df)\n",
    "AIC(r6d, r6d_aid_coverage_work, robust_scale1, robust_scale2)"
   ]
  },
  {
   "cell_type": "code",
   "execution_count": 45,
   "metadata": {
    "vscode": {
     "languageId": "r"
    }
   },
   "outputs": [
    {
     "data": {
      "text/html": [
       "<table class=\"dataframe\">\n",
       "<caption>A data.frame: 4 × 2</caption>\n",
       "<thead>\n",
       "\t<tr><th></th><th scope=col>df</th><th scope=col>AIC</th></tr>\n",
       "\t<tr><th></th><th scope=col>&lt;dbl&gt;</th><th scope=col>&lt;dbl&gt;</th></tr>\n",
       "</thead>\n",
       "<tbody>\n",
       "\t<tr><th scope=row>r6d</th><td>10</td><td>587.8626</td></tr>\n",
       "\t<tr><th scope=row>r6d_aid_coverage_work</th><td>11</td><td>585.5118</td></tr>\n",
       "\t<tr><th scope=row>robust1</th><td>10</td><td>582.5624</td></tr>\n",
       "\t<tr><th scope=row>robust2</th><td>11</td><td>583.3468</td></tr>\n",
       "</tbody>\n",
       "</table>\n"
      ],
      "text/latex": [
       "A data.frame: 4 × 2\n",
       "\\begin{tabular}{r|ll}\n",
       "  & df & AIC\\\\\n",
       "  & <dbl> & <dbl>\\\\\n",
       "\\hline\n",
       "\tr6d & 10 & 587.8626\\\\\n",
       "\tr6d\\_aid\\_coverage\\_work & 11 & 585.5118\\\\\n",
       "\trobust1 & 10 & 582.5624\\\\\n",
       "\trobust2 & 11 & 583.3468\\\\\n",
       "\\end{tabular}\n"
      ],
      "text/markdown": [
       "\n",
       "A data.frame: 4 × 2\n",
       "\n",
       "| <!--/--> | df &lt;dbl&gt; | AIC &lt;dbl&gt; |\n",
       "|---|---|---|\n",
       "| r6d | 10 | 587.8626 |\n",
       "| r6d_aid_coverage_work | 11 | 585.5118 |\n",
       "| robust1 | 10 | 582.5624 |\n",
       "| robust2 | 11 | 583.3468 |\n",
       "\n"
      ],
      "text/plain": [
       "                      df AIC     \n",
       "r6d                   10 587.8626\n",
       "r6d_aid_coverage_work 11 585.5118\n",
       "robust1               10 582.5624\n",
       "robust2               11 583.3468"
      ]
     },
     "metadata": {},
     "output_type": "display_data"
    }
   ],
   "source": [
    "robust1 <- lm(GPA_percent ~ tuition + aid + all_study + course_take + club + media + anxiety, data = df)\n",
    "robust2 <- lm(GPA_percent ~ tuition + aid + all_study + course_take + club + media + anxiety + aid_coverage:work, data = df)\n",
    "AIC(r6d, r6d_aid_coverage_work, robust1, robust2)"
   ]
  }
 ],
 "metadata": {
  "kernelspec": {
   "display_name": "R",
   "language": "R",
   "name": "ir"
  },
  "language_info": {
   "codemirror_mode": "r",
   "file_extension": ".r",
   "mimetype": "text/x-r-source",
   "name": "R",
   "pygments_lexer": "r",
   "version": "4.3.3"
  }
 },
 "nbformat": 4,
 "nbformat_minor": 4
}
